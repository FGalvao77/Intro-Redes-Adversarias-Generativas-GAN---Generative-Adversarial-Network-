{
  "nbformat": 4,
  "nbformat_minor": 0,
  "metadata": {
    "colab": {
      "name": "Tutorial GAN mnist.ipynb",
      "provenance": [],
      "collapsed_sections": [],
      "authorship_tag": "ABX9TyPzRZalJctTci2m49B21B2J",
      "include_colab_link": true
    },
    "kernelspec": {
      "name": "python3",
      "display_name": "Python 3"
    },
    "language_info": {
      "name": "python"
    }
  },
  "cells": [
    {
      "cell_type": "markdown",
      "metadata": {
        "id": "view-in-github",
        "colab_type": "text"
      },
      "source": [
        "<a href=\"https://colab.research.google.com/github/FGalvao77/Intro-Redes-Adversarias-Generativas-GAN---Generative-Adversarial-Network-/blob/main/Tutorial_GAN_mnist.ipynb\" target=\"_parent\"><img src=\"https://colab.research.google.com/assets/colab-badge.svg\" alt=\"Open In Colab\"/></a>"
      ]
    },
    {
      "cell_type": "markdown",
      "source": [
        "# **Tutorial GAN mnist**\n",
        "\n",
        "---\n",
        "\n"
      ],
      "metadata": {
        "id": "aPXkmLn-9Fd6"
      }
    },
    {
      "cell_type": "code",
      "execution_count": null,
      "metadata": {
        "colab": {
          "base_uri": "https://localhost:8080/"
        },
        "id": "Wdi5mowAD51N",
        "outputId": "e1e47e5b-3a9b-46de-b7df-0bd57950c164"
      },
      "outputs": [
        {
          "output_type": "stream",
          "name": "stdout",
          "text": [
            "fatal: destination path 'keras_adversarial' already exists and is not an empty directory.\n"
          ]
        }
      ],
      "source": [
        "# baixando o repositório do GitHub\n",
        "!git clone https://github.com/bstriner/keras_adversarial.git"
      ]
    },
    {
      "cell_type": "markdown",
      "source": [
        "Mudança feita no setup\n",
        "- de: long_description = open('README.rst').read()\n",
        "- para: long_description = open('keras_adversarial/README.rst).read()"
      ],
      "metadata": {
        "id": "Z6FZ-TwBFNDr"
      }
    },
    {
      "cell_type": "code",
      "source": [
        "# !python keras_adversarial/setup.py"
      ],
      "metadata": {
        "id": "vnMiQJiuEIzS"
      },
      "execution_count": null,
      "outputs": []
    },
    {
      "cell_type": "code",
      "source": [
        "# importando as bibliotecas\n",
        "import keras_adversarial"
      ],
      "metadata": {
        "id": "Eez1HhV7EIws"
      },
      "execution_count": null,
      "outputs": []
    },
    {
      "cell_type": "code",
      "source": [
        "# instanciando a versão necessário do keras\n",
        "!pip install keras==2.1.2"
      ],
      "metadata": {
        "colab": {
          "base_uri": "https://localhost:8080/"
        },
        "id": "2A8PiUWqEItn",
        "outputId": "d1c9a69a-c94f-4f39-cb2e-811661abb580"
      },
      "execution_count": null,
      "outputs": [
        {
          "output_type": "stream",
          "name": "stdout",
          "text": [
            "Requirement already satisfied: keras==2.1.2 in /usr/local/lib/python3.7/dist-packages (2.1.2)\n",
            "Requirement already satisfied: scipy>=0.14 in /usr/local/lib/python3.7/dist-packages (from keras==2.1.2) (1.4.1)\n",
            "Requirement already satisfied: numpy>=1.9.1 in /usr/local/lib/python3.7/dist-packages (from keras==2.1.2) (1.19.5)\n",
            "Requirement already satisfied: pyyaml in /usr/local/lib/python3.7/dist-packages (from keras==2.1.2) (3.13)\n",
            "Requirement already satisfied: six>=1.9.0 in /usr/local/lib/python3.7/dist-packages (from keras==2.1.2) (1.15.0)\n"
          ]
        }
      ]
    },
    {
      "cell_type": "code",
      "source": [
        "# instanciando a versão necessário do tensordflow\n",
        "!pip install tensorflow==1.13.1"
      ],
      "metadata": {
        "colab": {
          "base_uri": "https://localhost:8080/"
        },
        "id": "YpFzc7ZlEIjR",
        "outputId": "15b76975-50ca-410a-d64d-332e7712c627"
      },
      "execution_count": null,
      "outputs": [
        {
          "output_type": "stream",
          "name": "stdout",
          "text": [
            "Requirement already satisfied: tensorflow==1.13.1 in /usr/local/lib/python3.7/dist-packages (1.13.1)\n",
            "Requirement already satisfied: keras-applications>=1.0.6 in /usr/local/lib/python3.7/dist-packages (from tensorflow==1.13.1) (1.0.8)\n",
            "Requirement already satisfied: gast>=0.2.0 in /usr/local/lib/python3.7/dist-packages (from tensorflow==1.13.1) (0.4.0)\n",
            "Requirement already satisfied: protobuf>=3.6.1 in /usr/local/lib/python3.7/dist-packages (from tensorflow==1.13.1) (3.17.3)\n",
            "Requirement already satisfied: tensorboard<1.14.0,>=1.13.0 in /usr/local/lib/python3.7/dist-packages (from tensorflow==1.13.1) (1.13.1)\n",
            "Requirement already satisfied: tensorflow-estimator<1.14.0rc0,>=1.13.0 in /usr/local/lib/python3.7/dist-packages (from tensorflow==1.13.1) (1.13.0)\n",
            "Requirement already satisfied: six>=1.10.0 in /usr/local/lib/python3.7/dist-packages (from tensorflow==1.13.1) (1.15.0)\n",
            "Requirement already satisfied: keras-preprocessing>=1.0.5 in /usr/local/lib/python3.7/dist-packages (from tensorflow==1.13.1) (1.1.2)\n",
            "Requirement already satisfied: grpcio>=1.8.6 in /usr/local/lib/python3.7/dist-packages (from tensorflow==1.13.1) (1.43.0)\n",
            "Requirement already satisfied: termcolor>=1.1.0 in /usr/local/lib/python3.7/dist-packages (from tensorflow==1.13.1) (1.1.0)\n",
            "Requirement already satisfied: absl-py>=0.1.6 in /usr/local/lib/python3.7/dist-packages (from tensorflow==1.13.1) (0.12.0)\n",
            "Requirement already satisfied: numpy>=1.13.3 in /usr/local/lib/python3.7/dist-packages (from tensorflow==1.13.1) (1.19.5)\n",
            "Requirement already satisfied: astor>=0.6.0 in /usr/local/lib/python3.7/dist-packages (from tensorflow==1.13.1) (0.8.1)\n",
            "Requirement already satisfied: wheel>=0.26 in /usr/local/lib/python3.7/dist-packages (from tensorflow==1.13.1) (0.37.1)\n",
            "Requirement already satisfied: h5py in /usr/local/lib/python3.7/dist-packages (from keras-applications>=1.0.6->tensorflow==1.13.1) (3.1.0)\n",
            "Requirement already satisfied: markdown>=2.6.8 in /usr/local/lib/python3.7/dist-packages (from tensorboard<1.14.0,>=1.13.0->tensorflow==1.13.1) (3.3.6)\n",
            "Requirement already satisfied: werkzeug>=0.11.15 in /usr/local/lib/python3.7/dist-packages (from tensorboard<1.14.0,>=1.13.0->tensorflow==1.13.1) (1.0.1)\n",
            "Requirement already satisfied: importlib-metadata>=4.4 in /usr/local/lib/python3.7/dist-packages (from markdown>=2.6.8->tensorboard<1.14.0,>=1.13.0->tensorflow==1.13.1) (4.10.0)\n",
            "Requirement already satisfied: typing-extensions>=3.6.4 in /usr/local/lib/python3.7/dist-packages (from importlib-metadata>=4.4->markdown>=2.6.8->tensorboard<1.14.0,>=1.13.0->tensorflow==1.13.1) (3.10.0.2)\n",
            "Requirement already satisfied: zipp>=0.5 in /usr/local/lib/python3.7/dist-packages (from importlib-metadata>=4.4->markdown>=2.6.8->tensorboard<1.14.0,>=1.13.0->tensorflow==1.13.1) (3.7.0)\n",
            "Requirement already satisfied: mock>=2.0.0 in /usr/local/lib/python3.7/dist-packages (from tensorflow-estimator<1.14.0rc0,>=1.13.0->tensorflow==1.13.1) (4.0.3)\n",
            "Requirement already satisfied: cached-property in /usr/local/lib/python3.7/dist-packages (from h5py->keras-applications>=1.0.6->tensorflow==1.13.1) (1.5.2)\n"
          ]
        }
      ]
    },
    {
      "cell_type": "code",
      "source": [
        "%tensorflow_version 1.x"
      ],
      "metadata": {
        "colab": {
          "base_uri": "https://localhost:8080/"
        },
        "id": "YpP5lnFCGl0a",
        "outputId": "1a921705-4ea3-4c52-ce38-e8dac8f00917"
      },
      "execution_count": null,
      "outputs": [
        {
          "output_type": "stream",
          "name": "stdout",
          "text": [
            "TensorFlow 1.x selected.\n"
          ]
        }
      ]
    },
    {
      "cell_type": "code",
      "source": [
        "import matplotlib as mpl  \n",
        "\n",
        "mpl.use('Agg')"
      ],
      "metadata": {
        "id": "0ZwFUMhPHRez"
      },
      "execution_count": null,
      "outputs": []
    },
    {
      "cell_type": "code",
      "source": [
        "# importando as demais bibliotecas e funções\n",
        "import pandas as pd\n",
        "import numpy as np\n",
        "import os\n",
        "\n",
        "from keras.layers import Reshape, Flatten, LeakyReLU, Activation\n",
        "from keras.models import Sequential\n",
        "from keras.optimizers import Adam\n",
        "from keras.callbacks import TensorBoard\n",
        "import keras.backend as K\n",
        "\n",
        "from keras_adversarial.keras_adversarial.image_grid_callback import ImageGridCallback\n",
        "from keras_adversarial.keras_adversarial import (AdversarialModel, simple_gan, \n",
        "                                                 gan_targets, normal_latent_sampling, \n",
        "                                                 AdversarialOptimizerSimultaneous)\n",
        "from keras_adversarial.keras_adversarial.legacy import l1l2, Dense, fit\n",
        "from keras_adversarial.examples.mnist_utils import mnist_data"
      ],
      "metadata": {
        "id": "rV9pzrBRHRaI",
        "colab": {
          "base_uri": "https://localhost:8080/"
        },
        "outputId": "6cffba62-1c42-4a1a-e5ec-50c44b42b44a"
      },
      "execution_count": null,
      "outputs": [
        {
          "output_type": "stream",
          "name": "stderr",
          "text": [
            "Using TensorFlow backend.\n"
          ]
        }
      ]
    },
    {
      "cell_type": "code",
      "source": [
        "# biblioteca para ignorar mensagens de alerta\n",
        "import warnings\n",
        "warnings.filterwarnings('ignore')"
      ],
      "metadata": {
        "id": "eZT67ftzo0pF"
      },
      "execution_count": null,
      "outputs": []
    },
    {
      "cell_type": "code",
      "source": [
        "# função geradora\n",
        "def model_generator(latent_dim, input_shape, hidden_dim=1024, reg=lambda: l1l2(1e-5, 1e-5)):\n",
        "    return Sequential([\n",
        "                       Dense(int(hidden_dim / 4), name='generator_h1', input_dim=latent_dim, W_regularizer=reg()),\n",
        "                       LeakyReLU(0.2),\n",
        "                       Dense(int(hidden_dim / 2), name='generator_h2', W_regularizer=reg()),\n",
        "                       LeakyReLU(0.2),\n",
        "                       Dense(hidden_dim, name='generator_h3', W_regularizer=reg()),\n",
        "                       LeakyReLU(0.2),\n",
        "                       Dense(np.prod(input_shape), name='generator_x_flat', W_regularizer=reg()),\n",
        "                       Activation('sigmoid'),\n",
        "                       Reshape(input_shape, name='generator_x')\n",
        "    ], name='generator')\n"
      ],
      "metadata": {
        "id": "M7qNWKFvJlzA"
      },
      "execution_count": null,
      "outputs": []
    },
    {
      "cell_type": "code",
      "source": [
        "# função discriminadora\n",
        "def model_discriminator(input_shape, hidden_dim=1024, reg=lambda: l1l2(1e-5, 1e-5), output_activation='sigmoid'):\n",
        "    return Sequential([\n",
        "                       Flatten(name='discriminator_flatten', input_shape=input_shape),\n",
        "                       Dense(hidden_dim, name='discriminator_h1', W_regularizer=reg()),\n",
        "                       LeakyReLU(0.2),\n",
        "                       Dense(int(hidden_dim / 2), name='discriminator_h2', W_regularizer=reg()),\n",
        "                       LeakyReLU(0.2),\n",
        "                       Dense(int(hidden_dim / 4), name='discriminator_h3', W_regularizer=reg()),\n",
        "                       LeakyReLU(0.2),\n",
        "                       Dense(1, name='discriminator_y', W_regularizer=reg()),\n",
        "                       Activation(output_activation)\n",
        "    ], name='discriminator')"
      ],
      "metadata": {
        "id": "DZwdfhgxHRXk"
      },
      "execution_count": null,
      "outputs": []
    },
    {
      "cell_type": "code",
      "source": [
        "# função de exemplo de GAN\n",
        "def example_gan(\n",
        "    adversarial_optimizer, path, opt_g, opt_d, nb_epoch, generator, \n",
        "    discriminator, latent_dim, targets=gan_targets, loss='binary_crossentropy'\n",
        "    ):\n",
        "    \n",
        "    csvpath=os.path.join(path, 'history.csv')\n",
        "\n",
        "    if os.path.exists(csvpath):\n",
        "        print('Already exists: {}'.format(csvpath))\n",
        "        return\n",
        "\n",
        "    print('Training: {}'.format(csvpath))\n",
        "    # gan (x --> yfake, yreal), z generated on GPU\n",
        "    gan = simple_gan(\n",
        "        generator, discriminator, \n",
        "        normal_latent_sampling((latent_dim,)))\n",
        "\n",
        "    # print summary of models\n",
        "    generator.summary()\n",
        "    discriminator.summary()\n",
        "    gan.summary()\n",
        "\n",
        "    # build adversarial model\n",
        "    model = AdversarialModel(\n",
        "        base_model=gan,\n",
        "        player_params=[generator.trainable_weights, discriminator.trainable_weights],\n",
        "        player_names=['generator', 'discriminator'] \n",
        "    )\n",
        "    \n",
        "    model.adversarial_compile(\n",
        "        adversarial_optimizer=adversarial_optimizer,\n",
        "        player_optimizers=[opt_g, opt_d],\n",
        "        loss=loss\n",
        "    )\n",
        "\n",
        "    # create callbacks to generate images\n",
        "    zsamples = np.random.normal(size=(10 * 10, latent_dim))\n",
        "\n",
        "    def generator_sampler():\n",
        "        return generator.predict(zsamples).reshape((10, 10, 28, 28))\n",
        "\n",
        "    generator_cb = ImageGridCallback(\n",
        "        os.path.join(path, 'epoch-{:03d}.png'), \n",
        "        generator_sampler\n",
        "    )\n",
        "\n",
        "    # train model\n",
        "    xtrain, xtest = mnist_data()\n",
        "    \n",
        "    y = targets(xtrain.shape[0])\n",
        "    ytest = targets(xtest.shape[0])\n",
        "\n",
        "    callbacks = [generator_cb]\n",
        "\n",
        "    if K.backend() == 'tensorflow':\n",
        "        callbacks.append(\n",
        "            TensorBoard(log_dir=os.path.join(path, 'logs'), \n",
        "                        histogram_freq=0, \n",
        "                        write_graph=True, \n",
        "                        write_images=True)\n",
        "        )\n",
        "\n",
        "    history = fit(model, x=xtrain, y=y, \n",
        "                  validation_data=(xtest, ytest), \n",
        "                  callbacks=callbacks,\n",
        "                  nb_epoch=nb_epoch, \n",
        "                  batch_size=32)\n",
        "    \n",
        "    # save history to CSV\n",
        "    df = pd.DataFrame(history.history)\n",
        "    df.to_csv(csvpath)\n",
        "\n",
        "    # save models\n",
        "    generator.save(\n",
        "        os.path.join(path, 'generator.h5')\n",
        "    )\n",
        "    model_discriminator(\n",
        "        os.path.join(path, 'discriminator.h5')\n",
        "    )"
      ],
      "metadata": {
        "id": "BOMcWt1mHRVj"
      },
      "execution_count": null,
      "outputs": []
    },
    {
      "cell_type": "code",
      "source": [
        "# função principal para execução das demais funções\n",
        "def main():\n",
        "    # z \\in R^100\n",
        "    latent_dim = 100\n",
        "\n",
        "    # x \\in R^(28x28)\n",
        "    input_shape = (28,28)\n",
        "\n",
        "    # generator (z --> x)\n",
        "    generator = model_generator(latent_dim, input_shape)\n",
        "\n",
        "    # discriminator (x --> y)\n",
        "    discriminator = model_discriminator(input_shape)\n",
        "\n",
        "    example_gan(\n",
        "        AdversarialOptimizerSimultaneous(), 'output/gan',\n",
        "        opt_g=Adam(1e-4, decay=1e-4),\n",
        "        opt_d=Adam(1e-3, decay=1e-4),\n",
        "        nb_epoch=100, \n",
        "        generator=generator, \n",
        "        discriminator=discriminator,\n",
        "        latent_dim=latent_dim)"
      ],
      "metadata": {
        "id": "fJaFdh3DHRS4"
      },
      "execution_count": null,
      "outputs": []
    },
    {
      "cell_type": "code",
      "source": [
        "import __main__\n",
        "\n",
        "# executando a função\n",
        "if __name__ == '__main__':\n",
        "    main()"
      ],
      "metadata": {
        "colab": {
          "base_uri": "https://localhost:8080/",
          "height": 1000
        },
        "id": "ppJ0cRsiHRQW",
        "outputId": "cce2e863-5c13-4b9b-93f2-05bd9ea57168"
      },
      "execution_count": null,
      "outputs": [
        {
          "output_type": "stream",
          "name": "stdout",
          "text": [
            "WARNING:tensorflow:From /usr/local/lib/python3.7/dist-packages/keras/backend/tensorflow_backend.py:64: The name tf.get_default_graph is deprecated. Please use tf.compat.v1.get_default_graph instead.\n",
            "\n",
            "WARNING:tensorflow:From /usr/local/lib/python3.7/dist-packages/keras/backend/tensorflow_backend.py:497: The name tf.placeholder is deprecated. Please use tf.compat.v1.placeholder instead.\n",
            "\n",
            "WARNING:tensorflow:From /usr/local/lib/python3.7/dist-packages/keras/backend/tensorflow_backend.py:3636: The name tf.random_uniform is deprecated. Please use tf.random.uniform instead.\n",
            "\n",
            "WARNING:tensorflow:From /usr/local/lib/python3.7/dist-packages/keras/backend/tensorflow_backend.py:1247: calling reduce_sum_v1 (from tensorflow.python.ops.math_ops) with keep_dims is deprecated and will be removed in a future version.\n",
            "Instructions for updating:\n",
            "keep_dims is deprecated, use keepdims instead\n",
            "WARNING:tensorflow:From /usr/local/lib/python3.7/dist-packages/keras/backend/tensorflow_backend.py:1264: calling reduce_prod_v1 (from tensorflow.python.ops.math_ops) with keep_dims is deprecated and will be removed in a future version.\n",
            "Instructions for updating:\n",
            "keep_dims is deprecated, use keepdims instead\n",
            "Training: output/gan/history.csv\n",
            "WARNING:tensorflow:From /usr/local/lib/python3.7/dist-packages/keras/backend/tensorflow_backend.py:3613: The name tf.random_normal is deprecated. Please use tf.random.normal instead.\n",
            "\n",
            "_________________________________________________________________\n",
            "Layer (type)                 Output Shape              Param #   \n",
            "=================================================================\n",
            "generator_h1 (Dense)         (None, 256)               25856     \n",
            "_________________________________________________________________\n",
            "leaky_re_lu_1 (LeakyReLU)    (None, 256)               0         \n",
            "_________________________________________________________________\n",
            "generator_h2 (Dense)         (None, 512)               131584    \n",
            "_________________________________________________________________\n",
            "leaky_re_lu_2 (LeakyReLU)    (None, 512)               0         \n",
            "_________________________________________________________________\n",
            "generator_h3 (Dense)         (None, 1024)              525312    \n",
            "_________________________________________________________________\n",
            "leaky_re_lu_3 (LeakyReLU)    (None, 1024)              0         \n",
            "_________________________________________________________________\n",
            "generator_x_flat (Dense)     (None, 784)               803600    \n",
            "_________________________________________________________________\n",
            "activation_1 (Activation)    (None, 784)               0         \n",
            "_________________________________________________________________\n",
            "generator_x (Reshape)        (None, 28, 28)            0         \n",
            "=================================================================\n",
            "Total params: 1,486,352\n",
            "Trainable params: 1,486,352\n",
            "Non-trainable params: 0\n",
            "_________________________________________________________________\n",
            "_________________________________________________________________\n",
            "Layer (type)                 Output Shape              Param #   \n",
            "=================================================================\n",
            "discriminator_flatten (Flatt (None, 784)               0         \n",
            "_________________________________________________________________\n",
            "discriminator_h1 (Dense)     (None, 1024)              803840    \n",
            "_________________________________________________________________\n",
            "leaky_re_lu_4 (LeakyReLU)    (None, 1024)              0         \n",
            "_________________________________________________________________\n",
            "discriminator_h2 (Dense)     (None, 512)               524800    \n",
            "_________________________________________________________________\n",
            "leaky_re_lu_5 (LeakyReLU)    (None, 512)               0         \n",
            "_________________________________________________________________\n",
            "discriminator_h3 (Dense)     (None, 256)               131328    \n",
            "_________________________________________________________________\n",
            "leaky_re_lu_6 (LeakyReLU)    (None, 256)               0         \n",
            "_________________________________________________________________\n",
            "discriminator_y (Dense)      (None, 1)                 257       \n",
            "_________________________________________________________________\n",
            "activation_2 (Activation)    (None, 1)                 0         \n",
            "=================================================================\n",
            "Total params: 1,460,225\n",
            "Trainable params: 1,460,225\n",
            "Non-trainable params: 0\n",
            "_________________________________________________________________\n",
            "__________________________________________________________________________________________________\n",
            "Layer (type)                    Output Shape         Param #     Connected to                     \n",
            "==================================================================================================\n",
            "discriminator_flatten_input (In (None, 28, 28)       0                                            \n",
            "__________________________________________________________________________________________________\n",
            "lambda_1 (Lambda)               (None, 100)          0           discriminator_flatten_input[0][0]\n",
            "__________________________________________________________________________________________________\n",
            "gan (Model)                     [(None, 1), (None, 1 2946577     lambda_1[0][0]                   \n",
            "                                                                 discriminator_flatten_input[0][0]\n",
            "__________________________________________________________________________________________________\n",
            "yfake (Activation)              (None, 1)            0           gan[1][0]                        \n",
            "__________________________________________________________________________________________________\n",
            "yreal (Activation)              (None, 1)            0           gan[1][1]                        \n",
            "==================================================================================================\n",
            "Total params: 2,946,577\n",
            "Trainable params: 2,946,577\n",
            "Non-trainable params: 0\n",
            "__________________________________________________________________________________________________\n",
            "WARNING:tensorflow:From /usr/local/lib/python3.7/dist-packages/keras/optimizers.py:711: The name tf.train.Optimizer is deprecated. Please use tf.compat.v1.train.Optimizer instead.\n",
            "\n",
            "WARNING:tensorflow:From /usr/local/lib/python3.7/dist-packages/keras/backend/tensorflow_backend.py:2950: The name tf.log is deprecated. Please use tf.math.log instead.\n",
            "\n",
            "WARNING:tensorflow:From /tensorflow-1.15.2/python3.7/tensorflow_core/python/ops/nn_impl.py:183: where (from tensorflow.python.ops.array_ops) is deprecated and will be removed in a future version.\n",
            "Instructions for updating:\n",
            "Use tf.where in 2.0, which has the same broadcast rule as np.where\n",
            "Downloading data from https://s3.amazonaws.com/img-datasets/mnist.npz\n",
            "11493376/11490434 [==============================] - 1s 0us/step\n",
            "WARNING:tensorflow:From /usr/local/lib/python3.7/dist-packages/keras/backend/tensorflow_backend.py:958: The name tf.assign_add is deprecated. Please use tf.compat.v1.assign_add instead.\n",
            "\n",
            "WARNING:tensorflow:Variable *= will be deprecated. Use `var.assign(var * other)` if you want assignment to the variable value or `x = x * y` if you want a new python Tensor object.\n",
            "WARNING:tensorflow:From /usr/local/lib/python3.7/dist-packages/keras/backend/tensorflow_backend.py:680: calling Constant.__init__ (from tensorflow.python.ops.init_ops) with dtype is deprecated and will be removed in a future version.\n",
            "Instructions for updating:\n",
            "Call initializer instance with the dtype argument instead of passing it to the constructor\n",
            "WARNING:tensorflow:From /usr/local/lib/python3.7/dist-packages/keras/backend/tensorflow_backend.py:945: The name tf.assign is deprecated. Please use tf.compat.v1.assign instead.\n",
            "\n",
            "Train on 60000 samples, validate on 10000 samples\n",
            "WARNING:tensorflow:From /usr/local/lib/python3.7/dist-packages/keras/backend/tensorflow_backend.py:159: The name tf.get_default_session is deprecated. Please use tf.compat.v1.get_default_session instead.\n",
            "\n",
            "WARNING:tensorflow:From /usr/local/lib/python3.7/dist-packages/keras/backend/tensorflow_backend.py:164: The name tf.ConfigProto is deprecated. Please use tf.compat.v1.ConfigProto instead.\n",
            "\n",
            "WARNING:tensorflow:From /usr/local/lib/python3.7/dist-packages/keras/backend/tensorflow_backend.py:169: The name tf.Session is deprecated. Please use tf.compat.v1.Session instead.\n",
            "\n",
            "WARNING:tensorflow:From /usr/local/lib/python3.7/dist-packages/keras/backend/tensorflow_backend.py:173: The name tf.global_variables is deprecated. Please use tf.compat.v1.global_variables instead.\n",
            "\n",
            "WARNING:tensorflow:From /usr/local/lib/python3.7/dist-packages/keras/backend/tensorflow_backend.py:182: The name tf.is_variable_initialized is deprecated. Please use tf.compat.v1.is_variable_initialized instead.\n",
            "\n",
            "WARNING:tensorflow:From /usr/local/lib/python3.7/dist-packages/keras/backend/tensorflow_backend.py:189: The name tf.variables_initializer is deprecated. Please use tf.compat.v1.variables_initializer instead.\n",
            "\n",
            "WARNING:tensorflow:From /usr/local/lib/python3.7/dist-packages/keras/callbacks.py:706: The name tf.summary.merge_all is deprecated. Please use tf.compat.v1.summary.merge_all instead.\n",
            "\n",
            "WARNING:tensorflow:From /usr/local/lib/python3.7/dist-packages/keras/callbacks.py:709: The name tf.summary.FileWriter is deprecated. Please use tf.compat.v1.summary.FileWriter instead.\n",
            "\n",
            "Epoch 1/100\n",
            "59968/60000 [============================>.] - ETA: 0s - loss: 25.0979 - generator_loss: 21.8257 - generator_yfake_loss: 9.2788 - generator_yreal_loss: 9.3085 - discriminator_loss: 3.2722 - discriminator_yfake_loss: 0.0090 - discriminator_yreal_loss: 0.0248WARNING:tensorflow:From /usr/local/lib/python3.7/dist-packages/keras/callbacks.py:792: The name tf.Summary is deprecated. Please use tf.compat.v1.Summary instead.\n",
            "\n",
            "60000/60000 [==============================] - 193s 3ms/step - loss: 25.0957 - generator_loss: 21.8239 - generator_yfake_loss: 9.2780 - generator_yreal_loss: 9.3080 - discriminator_loss: 3.2717 - discriminator_yfake_loss: 0.0090 - discriminator_yreal_loss: 0.0248 - val_loss: 20.8023 - val_generator_loss: 18.3369 - val_generator_yfake_loss: 7.6936 - val_generator_yreal_loss: 8.1789 - val_discriminator_loss: 2.4654 - val_discriminator_yfake_loss: 4.5584e-04 - val_discriminator_yreal_loss: 5.7307e-04\n",
            "Epoch 2/100\n",
            "60000/60000 [==============================] - 190s 3ms/step - loss: 21.0025 - generator_loss: 18.7612 - generator_yfake_loss: 7.7485 - generator_yreal_loss: 8.7742 - discriminator_loss: 2.2413 - discriminator_yfake_loss: 0.0012 - discriminator_yreal_loss: 0.0016 - val_loss: 23.1379 - val_generator_loss: 20.9411 - val_generator_yfake_loss: 6.2753 - val_generator_yreal_loss: 12.5068 - val_discriminator_loss: 2.1967 - val_discriminator_yfake_loss: 0.0355 - val_discriminator_yreal_loss: 0.0022\n",
            "Epoch 3/100\n",
            "60000/60000 [==============================] - 189s 3ms/step - loss: 21.2229 - generator_loss: 19.0433 - generator_yfake_loss: 8.6933 - generator_yreal_loss: 8.2005 - discriminator_loss: 2.1796 - discriminator_yfake_loss: 0.0133 - discriminator_yreal_loss: 0.0168 - val_loss: 20.0358 - val_generator_loss: 17.8088 - val_generator_yfake_loss: 6.5916 - val_generator_yreal_loss: 9.0483 - val_discriminator_loss: 2.2270 - val_discriminator_yfake_loss: 0.0497 - val_discriminator_yreal_loss: 0.0084\n",
            "Epoch 4/100\n",
            "60000/60000 [==============================] - 191s 3ms/step - loss: 22.7109 - generator_loss: 20.5144 - generator_yfake_loss: 8.0932 - generator_yreal_loss: 10.2590 - discriminator_loss: 2.1966 - discriminator_yfake_loss: 0.0130 - discriminator_yreal_loss: 0.0214 - val_loss: 22.0403 - val_generator_loss: 19.7966 - val_generator_yfake_loss: 4.7112 - val_generator_yreal_loss: 12.9605 - val_discriminator_loss: 2.2437 - val_discriminator_yfake_loss: 0.1180 - val_discriminator_yreal_loss: 7.5659e-04\n",
            "Epoch 5/100\n",
            "60000/60000 [==============================] - 188s 3ms/step - loss: 22.5055 - generator_loss: 20.2808 - generator_yfake_loss: 7.1235 - generator_yreal_loss: 10.9911 - discriminator_loss: 2.2247 - discriminator_yfake_loss: 0.0206 - discriminator_yreal_loss: 0.0378 - val_loss: 21.0008 - val_generator_loss: 18.6016 - val_generator_yfake_loss: 4.7059 - val_generator_yreal_loss: 11.5895 - val_discriminator_loss: 2.3992 - val_discriminator_yfake_loss: 0.0474 - val_discriminator_yreal_loss: 0.0457\n",
            "Epoch 6/100\n",
            "60000/60000 [==============================] - 188s 3ms/step - loss: 21.5697 - generator_loss: 19.2123 - generator_yfake_loss: 6.0350 - generator_yreal_loss: 10.8978 - discriminator_loss: 2.3574 - discriminator_yfake_loss: 0.0289 - discriminator_yreal_loss: 0.0490 - val_loss: 21.8484 - val_generator_loss: 19.5973 - val_generator_yfake_loss: 5.5004 - val_generator_yreal_loss: 11.8928 - val_discriminator_loss: 2.2510 - val_discriminator_yfake_loss: 0.0320 - val_discriminator_yreal_loss: 0.0149\n",
            "Epoch 7/100\n",
            "60000/60000 [==============================] - 187s 3ms/step - loss: 21.7597 - generator_loss: 19.5617 - generator_yfake_loss: 6.2118 - generator_yreal_loss: 11.2026 - discriminator_loss: 2.1980 - discriminator_yfake_loss: 0.0185 - discriminator_yreal_loss: 0.0322 - val_loss: 19.8071 - val_generator_loss: 17.4522 - val_generator_yfake_loss: 3.4001 - val_generator_yreal_loss: 11.9739 - val_discriminator_loss: 2.3549 - val_discriminator_yfake_loss: 0.2511 - val_discriminator_yreal_loss: 0.0256\n",
            "Epoch 8/100\n",
            "60000/60000 [==============================] - 188s 3ms/step - loss: 22.7533 - generator_loss: 20.6695 - generator_yfake_loss: 5.9956 - generator_yreal_loss: 12.6411 - discriminator_loss: 2.0839 - discriminator_yfake_loss: 0.0184 - discriminator_yreal_loss: 0.0328 - val_loss: 22.0759 - val_generator_loss: 20.0300 - val_generator_yfake_loss: 5.2926 - val_generator_yreal_loss: 12.7496 - val_discriminator_loss: 2.0459 - val_discriminator_yfake_loss: 0.0323 - val_discriminator_yreal_loss: 0.0259\n",
            "Epoch 9/100\n",
            "60000/60000 [==============================] - 188s 3ms/step - loss: 21.5939 - generator_loss: 19.5478 - generator_yfake_loss: 5.5438 - generator_yreal_loss: 12.0368 - discriminator_loss: 2.0461 - discriminator_yfake_loss: 0.0274 - discriminator_yreal_loss: 0.0515 - val_loss: 20.2093 - val_generator_loss: 18.2173 - val_generator_yfake_loss: 4.9775 - val_generator_yreal_loss: 11.3083 - val_discriminator_loss: 1.9920 - val_discriminator_yfake_loss: 0.0154 - val_discriminator_yreal_loss: 0.0451\n",
            "Epoch 10/100\n",
            "60000/60000 [==============================] - 188s 3ms/step - loss: 21.8679 - generator_loss: 19.9009 - generator_yfake_loss: 5.0102 - generator_yreal_loss: 13.0097 - discriminator_loss: 1.9670 - discriminator_yfake_loss: 0.0291 - discriminator_yreal_loss: 0.0569 - val_loss: 23.0143 - val_generator_loss: 21.0937 - val_generator_yfake_loss: 5.0424 - val_generator_yreal_loss: 14.2117 - val_discriminator_loss: 1.9206 - val_discriminator_yfake_loss: 0.0211 - val_discriminator_yreal_loss: 0.0598\n",
            "Epoch 11/100\n",
            "60000/60000 [==============================] - 187s 3ms/step - loss: 20.4237 - generator_loss: 18.5231 - generator_yfake_loss: 5.0535 - generator_yreal_loss: 11.6604 - discriminator_loss: 1.9006 - discriminator_yfake_loss: 0.0312 - discriminator_yreal_loss: 0.0601 - val_loss: 19.1881 - val_generator_loss: 17.3068 - val_generator_yfake_loss: 4.1274 - val_generator_yreal_loss: 11.3876 - val_discriminator_loss: 1.8813 - val_discriminator_yfake_loss: 0.0536 - val_discriminator_yreal_loss: 0.0358\n",
            "Epoch 12/100\n",
            "60000/60000 [==============================] - 190s 3ms/step - loss: 19.4839 - generator_loss: 17.5826 - generator_yfake_loss: 4.4833 - generator_yreal_loss: 11.3260 - discriminator_loss: 1.9013 - discriminator_yfake_loss: 0.0433 - discriminator_yreal_loss: 0.0848 - val_loss: 19.5024 - val_generator_loss: 17.6112 - val_generator_yfake_loss: 4.9858 - val_generator_yreal_loss: 10.8860 - val_discriminator_loss: 1.8912 - val_discriminator_yfake_loss: 0.0102 - val_discriminator_yreal_loss: 0.1415\n",
            "Epoch 13/100\n",
            "60000/60000 [==============================] - 188s 3ms/step - loss: 19.4950 - generator_loss: 17.6573 - generator_yfake_loss: 4.2965 - generator_yreal_loss: 11.6531 - discriminator_loss: 1.8377 - discriminator_yfake_loss: 0.0426 - discriminator_yreal_loss: 0.0875 - val_loss: 19.8111 - val_generator_loss: 18.0004 - val_generator_yfake_loss: 4.0588 - val_generator_yreal_loss: 12.2517 - val_discriminator_loss: 1.8107 - val_discriminator_yfake_loss: 0.0462 - val_discriminator_yreal_loss: 0.0746\n",
            "Epoch 14/100\n",
            "60000/60000 [==============================] - 187s 3ms/step - loss: 18.5424 - generator_loss: 16.6956 - generator_yfake_loss: 3.9174 - generator_yreal_loss: 11.1119 - discriminator_loss: 1.8468 - discriminator_yfake_loss: 0.0597 - discriminator_yreal_loss: 0.1209 - val_loss: 17.9458 - val_generator_loss: 16.0753 - val_generator_yfake_loss: 4.2749 - val_generator_yreal_loss: 10.1607 - val_discriminator_loss: 1.8706 - val_discriminator_yfake_loss: 0.0213 - val_discriminator_yreal_loss: 0.2096\n",
            "Epoch 15/100\n",
            "60000/60000 [==============================] - 187s 3ms/step - loss: 16.7137 - generator_loss: 14.8767 - generator_yfake_loss: 3.4301 - generator_yreal_loss: 9.8315 - discriminator_loss: 1.8370 - discriminator_yfake_loss: 0.0737 - discriminator_yreal_loss: 0.1482 - val_loss: 16.2645 - val_generator_loss: 14.4416 - val_generator_yfake_loss: 2.7067 - val_generator_yreal_loss: 10.1440 - val_discriminator_loss: 1.8229 - val_discriminator_yfake_loss: 0.1428 - val_discriminator_yreal_loss: 0.0892\n",
            "Epoch 16/100\n",
            "60000/60000 [==============================] - 189s 3ms/step - loss: 16.6915 - generator_loss: 14.8705 - generator_yfake_loss: 3.2053 - generator_yreal_loss: 10.0932 - discriminator_loss: 1.8210 - discriminator_yfake_loss: 0.0826 - discriminator_yreal_loss: 0.1664 - val_loss: 17.5041 - val_generator_loss: 15.7223 - val_generator_yfake_loss: 3.5985 - val_generator_yreal_loss: 10.5851 - val_discriminator_loss: 1.7818 - val_discriminator_yfake_loss: 0.0555 - val_discriminator_yreal_loss: 0.1875\n",
            "Epoch 17/100\n",
            "60000/60000 [==============================] - 190s 3ms/step - loss: 16.8828 - generator_loss: 15.1051 - generator_yfake_loss: 3.0564 - generator_yreal_loss: 10.5386 - discriminator_loss: 1.7777 - discriminator_yfake_loss: 0.0881 - discriminator_yreal_loss: 0.1795 - val_loss: 17.7387 - val_generator_loss: 16.0329 - val_generator_yfake_loss: 2.6935 - val_generator_yreal_loss: 11.8536 - val_discriminator_loss: 1.7058 - val_discriminator_yfake_loss: 0.1059 - val_discriminator_yreal_loss: 0.1141\n",
            "Epoch 18/100\n",
            "60000/60000 [==============================] - 191s 3ms/step - loss: 16.8614 - generator_loss: 15.1311 - generator_yfake_loss: 2.9241 - generator_yreal_loss: 10.7558 - discriminator_loss: 1.7303 - discriminator_yfake_loss: 0.0894 - discriminator_yreal_loss: 0.1897 - val_loss: 17.0556 - val_generator_loss: 15.4148 - val_generator_yfake_loss: 2.8776 - val_generator_yreal_loss: 11.1103 - val_discriminator_loss: 1.6409 - val_discriminator_yfake_loss: 0.0881 - val_discriminator_yreal_loss: 0.1260\n",
            "Epoch 19/100\n",
            "60000/60000 [==============================] - 189s 3ms/step - loss: 16.5072 - generator_loss: 14.8133 - generator_yfake_loss: 2.8586 - generator_yreal_loss: 10.5525 - discriminator_loss: 1.6939 - discriminator_yfake_loss: 0.0939 - discriminator_yreal_loss: 0.1979 - val_loss: 16.0445 - val_generator_loss: 14.3855 - val_generator_yfake_loss: 2.7042 - val_generator_yreal_loss: 10.3011 - val_discriminator_loss: 1.6590 - val_discriminator_yfake_loss: 0.1001 - val_discriminator_yreal_loss: 0.1787\n",
            "Epoch 20/100\n",
            "60000/60000 [==============================] - 188s 3ms/step - loss: 16.3681 - generator_loss: 14.7045 - generator_yfake_loss: 2.7767 - generator_yreal_loss: 10.5692 - discriminator_loss: 1.6636 - discriminator_yfake_loss: 0.0986 - discriminator_yreal_loss: 0.2064 - val_loss: 16.0484 - val_generator_loss: 14.3949 - val_generator_yfake_loss: 2.7965 - val_generator_yreal_loss: 10.2676 - val_discriminator_loss: 1.6534 - val_discriminator_yfake_loss: 0.0781 - val_discriminator_yreal_loss: 0.2446\n",
            "Epoch 21/100\n",
            "60000/60000 [==============================] - 187s 3ms/step - loss: 16.2340 - generator_loss: 14.6071 - generator_yfake_loss: 2.7026 - generator_yreal_loss: 10.5912 - discriminator_loss: 1.6269 - discriminator_yfake_loss: 0.1012 - discriminator_yreal_loss: 0.2124 - val_loss: 15.6629 - val_generator_loss: 14.0860 - val_generator_yfake_loss: 2.7151 - val_generator_yreal_loss: 10.0719 - val_discriminator_loss: 1.5769 - val_discriminator_yfake_loss: 0.0946 - val_discriminator_yreal_loss: 0.1832\n",
            "Epoch 22/100\n",
            "60000/60000 [==============================] - 188s 3ms/step - loss: 15.8711 - generator_loss: 14.2641 - generator_yfake_loss: 2.7106 - generator_yreal_loss: 10.2635 - discriminator_loss: 1.6070 - discriminator_yfake_loss: 0.1024 - discriminator_yreal_loss: 0.2147 - val_loss: 16.0111 - val_generator_loss: 14.4185 - val_generator_yfake_loss: 2.6190 - val_generator_yreal_loss: 10.5273 - val_discriminator_loss: 1.5926 - val_discriminator_yfake_loss: 0.0893 - val_discriminator_yreal_loss: 0.2310\n",
            "Epoch 23/100\n",
            "60000/60000 [==============================] - 188s 3ms/step - loss: 16.0570 - generator_loss: 14.4818 - generator_yfake_loss: 2.6634 - generator_yreal_loss: 10.5622 - discriminator_loss: 1.5752 - discriminator_yfake_loss: 0.1022 - discriminator_yreal_loss: 0.2167 - val_loss: 15.7090 - val_generator_loss: 14.1406 - val_generator_yfake_loss: 2.7981 - val_generator_yreal_loss: 10.0978 - val_discriminator_loss: 1.5684 - val_discriminator_yfake_loss: 0.0765 - val_discriminator_yreal_loss: 0.2473\n",
            "Epoch 24/100\n",
            "60000/60000 [==============================] - 189s 3ms/step - loss: 16.0605 - generator_loss: 14.5110 - generator_yfake_loss: 2.6351 - generator_yreal_loss: 10.6499 - discriminator_loss: 1.5494 - discriminator_yfake_loss: 0.1033 - discriminator_yreal_loss: 0.2201 - val_loss: 16.6643 - val_generator_loss: 15.1379 - val_generator_yfake_loss: 2.8079 - val_generator_yreal_loss: 11.1215 - val_discriminator_loss: 1.5263 - val_discriminator_yfake_loss: 0.0701 - val_discriminator_yreal_loss: 0.2476\n",
            "Epoch 25/100\n",
            "60000/60000 [==============================] - 189s 3ms/step - loss: 15.9993 - generator_loss: 14.4788 - generator_yfake_loss: 2.6253 - generator_yreal_loss: 10.6575 - discriminator_loss: 1.5205 - discriminator_yfake_loss: 0.1039 - discriminator_yreal_loss: 0.2205 - val_loss: 15.6693 - val_generator_loss: 14.1239 - val_generator_yfake_loss: 2.0976 - val_generator_yreal_loss: 10.8307 - val_discriminator_loss: 1.5454 - val_discriminator_yfake_loss: 0.1828 - val_discriminator_yreal_loss: 0.1669\n",
            "Epoch 26/100\n",
            "60000/60000 [==============================] - 188s 3ms/step - loss: 16.0217 - generator_loss: 14.5265 - generator_yfake_loss: 2.5922 - generator_yreal_loss: 10.7659 - discriminator_loss: 1.4952 - discriminator_yfake_loss: 0.1035 - discriminator_yreal_loss: 0.2233 - val_loss: 15.6055 - val_generator_loss: 14.1203 - val_generator_yfake_loss: 2.5966 - val_generator_yreal_loss: 10.3686 - val_discriminator_loss: 1.4852 - val_discriminator_yfake_loss: 0.0978 - val_discriminator_yreal_loss: 0.2323\n",
            "Epoch 27/100\n",
            "60000/60000 [==============================] - 189s 3ms/step - loss: 15.6708 - generator_loss: 14.2052 - generator_yfake_loss: 2.5911 - generator_yreal_loss: 10.4750 - discriminator_loss: 1.4656 - discriminator_yfake_loss: 0.1042 - discriminator_yreal_loss: 0.2223 - val_loss: 15.8776 - val_generator_loss: 14.4359 - val_generator_yfake_loss: 2.4001 - val_generator_yreal_loss: 10.8941 - val_discriminator_loss: 1.4417 - val_discriminator_yfake_loss: 0.1351 - val_discriminator_yreal_loss: 0.1650\n",
            "Epoch 28/100\n",
            "60000/60000 [==============================] - 192s 3ms/step - loss: 15.8722 - generator_loss: 14.4226 - generator_yfake_loss: 2.5986 - generator_yreal_loss: 10.6990 - discriminator_loss: 1.4495 - discriminator_yfake_loss: 0.1030 - discriminator_yreal_loss: 0.2214 - val_loss: 16.4847 - val_generator_loss: 15.0931 - val_generator_yfake_loss: 2.3445 - val_generator_yreal_loss: 11.6415 - val_discriminator_loss: 1.3916 - val_discriminator_yfake_loss: 0.1365 - val_discriminator_yreal_loss: 0.1478\n",
            "Epoch 29/100\n",
            "60000/60000 [==============================] - 190s 3ms/step - loss: 16.1307 - generator_loss: 14.6956 - generator_yfake_loss: 2.5875 - generator_yreal_loss: 11.0018 - discriminator_loss: 1.4351 - discriminator_yfake_loss: 0.1045 - discriminator_yreal_loss: 0.2243 - val_loss: 17.1566 - val_generator_loss: 15.6952 - val_generator_yfake_loss: 2.7693 - val_generator_yreal_loss: 11.8265 - val_discriminator_loss: 1.4613 - val_discriminator_yfake_loss: 0.0783 - val_discriminator_yreal_loss: 0.2836\n",
            "Epoch 30/100\n",
            "60000/60000 [==============================] - 190s 3ms/step - loss: 16.1264 - generator_loss: 14.7071 - generator_yfake_loss: 2.5826 - generator_yreal_loss: 11.0333 - discriminator_loss: 1.4192 - discriminator_yfake_loss: 0.1034 - discriminator_yreal_loss: 0.2246 - val_loss: 16.1341 - val_generator_loss: 14.7294 - val_generator_yfake_loss: 2.4414 - val_generator_yreal_loss: 11.2046 - val_discriminator_loss: 1.4048 - val_discriminator_yfake_loss: 0.1153 - val_discriminator_yreal_loss: 0.2060\n",
            "Epoch 31/100\n",
            "60000/60000 [==============================] - 189s 3ms/step - loss: 15.7815 - generator_loss: 14.3774 - generator_yfake_loss: 2.5652 - generator_yreal_loss: 10.7374 - discriminator_loss: 1.4041 - discriminator_yfake_loss: 0.1045 - discriminator_yreal_loss: 0.2248 - val_loss: 15.9823 - val_generator_loss: 14.6067 - val_generator_yfake_loss: 2.4791 - val_generator_yreal_loss: 11.0640 - val_discriminator_loss: 1.3756 - val_discriminator_yfake_loss: 0.1083 - val_discriminator_yreal_loss: 0.2037\n",
            "Epoch 32/100\n",
            "60000/60000 [==============================] - 189s 3ms/step - loss: 16.1889 - generator_loss: 14.8056 - generator_yfake_loss: 2.5839 - generator_yreal_loss: 11.1629 - discriminator_loss: 1.3834 - discriminator_yfake_loss: 0.1020 - discriminator_yreal_loss: 0.2226 - val_loss: 16.7338 - val_generator_loss: 15.3302 - val_generator_yfake_loss: 2.6177 - val_generator_yreal_loss: 11.6586 - val_discriminator_loss: 1.4036 - val_discriminator_yfake_loss: 0.0954 - val_discriminator_yreal_loss: 0.2544\n",
            "Epoch 33/100\n",
            "60000/60000 [==============================] - 189s 3ms/step - loss: 15.9230 - generator_loss: 14.5413 - generator_yfake_loss: 2.5533 - generator_yreal_loss: 10.9380 - discriminator_loss: 1.3818 - discriminator_yfake_loss: 0.1049 - discriminator_yreal_loss: 0.2269 - val_loss: 16.0015 - val_generator_loss: 14.6190 - val_generator_yfake_loss: 2.8200 - val_generator_yreal_loss: 10.7595 - val_discriminator_loss: 1.3825 - val_discriminator_yfake_loss: 0.0703 - val_discriminator_yreal_loss: 0.2728\n",
            "Epoch 34/100\n",
            "60000/60000 [==============================] - 189s 3ms/step - loss: 16.1800 - generator_loss: 14.8154 - generator_yfake_loss: 2.5544 - generator_yreal_loss: 11.2266 - discriminator_loss: 1.3646 - discriminator_yfake_loss: 0.1039 - discriminator_yreal_loss: 0.2263 - val_loss: 15.3710 - val_generator_loss: 14.0001 - val_generator_yfake_loss: 2.0856 - val_generator_yreal_loss: 10.8869 - val_discriminator_loss: 1.3709 - val_discriminator_yfake_loss: 0.1720 - val_discriminator_yreal_loss: 0.1712\n",
            "Epoch 35/100\n",
            "60000/60000 [==============================] - 189s 3ms/step - loss: 16.1242 - generator_loss: 14.7667 - generator_yfake_loss: 2.5807 - generator_yreal_loss: 11.1574 - discriminator_loss: 1.3575 - discriminator_yfake_loss: 0.1045 - discriminator_yreal_loss: 0.2244 - val_loss: 16.1138 - val_generator_loss: 14.7203 - val_generator_yfake_loss: 2.9264 - val_generator_yreal_loss: 10.7708 - val_discriminator_loss: 1.3936 - val_discriminator_yfake_loss: 0.0604 - val_discriminator_yreal_loss: 0.3102\n",
            "Epoch 36/100\n",
            "60000/60000 [==============================] - 189s 3ms/step - loss: 16.1901 - generator_loss: 14.8425 - generator_yfake_loss: 2.5762 - generator_yreal_loss: 11.2453 - discriminator_loss: 1.3475 - discriminator_yfake_loss: 0.1036 - discriminator_yreal_loss: 0.2229 - val_loss: 16.5676 - val_generator_loss: 15.2250 - val_generator_yfake_loss: 2.6578 - val_generator_yreal_loss: 11.5548 - val_discriminator_loss: 1.3426 - val_discriminator_yfake_loss: 0.0830 - val_discriminator_yreal_loss: 0.2473\n",
            "Epoch 37/100\n",
            "60000/60000 [==============================] - 189s 3ms/step - loss: 15.9831 - generator_loss: 14.6486 - generator_yfake_loss: 2.5500 - generator_yreal_loss: 11.0963 - discriminator_loss: 1.3345 - discriminator_yfake_loss: 0.1033 - discriminator_yreal_loss: 0.2289 - val_loss: 16.1885 - val_generator_loss: 14.8812 - val_generator_yfake_loss: 2.6337 - val_generator_yreal_loss: 11.2527 - val_discriminator_loss: 1.3073 - val_discriminator_yfake_loss: 0.0867 - val_discriminator_yreal_loss: 0.2258\n",
            "Epoch 38/100\n",
            "60000/60000 [==============================] - 191s 3ms/step - loss: 16.3092 - generator_loss: 14.9940 - generator_yfake_loss: 2.5345 - generator_yreal_loss: 11.4737 - discriminator_loss: 1.3152 - discriminator_yfake_loss: 0.1023 - discriminator_yreal_loss: 0.2271 - val_loss: 16.5232 - val_generator_loss: 15.1723 - val_generator_yfake_loss: 2.7270 - val_generator_yreal_loss: 11.4583 - val_discriminator_loss: 1.3509 - val_discriminator_yfake_loss: 0.0827 - val_discriminator_yreal_loss: 0.2812\n",
            "Epoch 39/100\n",
            "60000/60000 [==============================] - 192s 3ms/step - loss: 16.1003 - generator_loss: 14.7900 - generator_yfake_loss: 2.5520 - generator_yreal_loss: 11.2552 - discriminator_loss: 1.3103 - discriminator_yfake_loss: 0.1022 - discriminator_yreal_loss: 0.2253 - val_loss: 15.8933 - val_generator_loss: 14.5729 - val_generator_yfake_loss: 2.7789 - val_generator_yreal_loss: 10.8164 - val_discriminator_loss: 1.3204 - val_discriminator_yfake_loss: 0.0709 - val_discriminator_yreal_loss: 0.2719\n",
            "Epoch 40/100\n",
            "60000/60000 [==============================] - 190s 3ms/step - loss: 16.1907 - generator_loss: 14.8902 - generator_yfake_loss: 2.5788 - generator_yreal_loss: 11.3359 - discriminator_loss: 1.3005 - discriminator_yfake_loss: 0.1021 - discriminator_yreal_loss: 0.2228 - val_loss: 15.5854 - val_generator_loss: 14.2683 - val_generator_yfake_loss: 2.1895 - val_generator_yreal_loss: 11.1022 - val_discriminator_loss: 1.3171 - val_discriminator_yfake_loss: 0.1558 - val_discriminator_yreal_loss: 0.1847\n",
            "Epoch 41/100\n",
            "60000/60000 [==============================] - 189s 3ms/step - loss: 16.2235 - generator_loss: 14.9242 - generator_yfake_loss: 2.5530 - generator_yreal_loss: 11.3997 - discriminator_loss: 1.2993 - discriminator_yfake_loss: 0.1017 - discriminator_yreal_loss: 0.2260 - val_loss: 16.5935 - val_generator_loss: 15.2760 - val_generator_yfake_loss: 2.5680 - val_generator_yreal_loss: 11.7466 - val_discriminator_loss: 1.3176 - val_discriminator_yfake_loss: 0.0963 - val_discriminator_yreal_loss: 0.2599\n",
            "Epoch 42/100\n",
            "60000/60000 [==============================] - 189s 3ms/step - loss: 16.2441 - generator_loss: 14.9535 - generator_yfake_loss: 2.5326 - generator_yreal_loss: 11.4605 - discriminator_loss: 1.2906 - discriminator_yfake_loss: 0.1042 - discriminator_yreal_loss: 0.2260 - val_loss: 16.2258 - val_generator_loss: 14.9331 - val_generator_yfake_loss: 2.2070 - val_generator_yreal_loss: 11.7704 - val_discriminator_loss: 1.2927 - val_discriminator_yfake_loss: 0.1419 - val_discriminator_yreal_loss: 0.1950\n",
            "Epoch 43/100\n",
            "60000/60000 [==============================] - 189s 3ms/step - loss: 16.2900 - generator_loss: 15.0070 - generator_yfake_loss: 2.5431 - generator_yreal_loss: 11.5108 - discriminator_loss: 1.2831 - discriminator_yfake_loss: 0.1030 - discriminator_yreal_loss: 0.2270 - val_loss: 16.2818 - val_generator_loss: 14.9747 - val_generator_yfake_loss: 2.6457 - val_generator_yreal_loss: 11.3797 - val_discriminator_loss: 1.3071 - val_discriminator_yfake_loss: 0.0892 - val_discriminator_yreal_loss: 0.2686\n",
            "Epoch 44/100\n",
            "60000/60000 [==============================] - 190s 3ms/step - loss: 16.4876 - generator_loss: 15.2171 - generator_yfake_loss: 2.5399 - generator_yreal_loss: 11.7330 - discriminator_loss: 1.2706 - discriminator_yfake_loss: 0.1016 - discriminator_yreal_loss: 0.2247 - val_loss: 17.1209 - val_generator_loss: 15.8419 - val_generator_yfake_loss: 2.2733 - val_generator_yreal_loss: 12.6309 - val_discriminator_loss: 1.2790 - val_discriminator_yfake_loss: 0.1432 - val_discriminator_yreal_loss: 0.1981\n",
            "Epoch 45/100\n",
            "60000/60000 [==============================] - 190s 3ms/step - loss: 16.4551 - generator_loss: 15.1910 - generator_yfake_loss: 2.5725 - generator_yreal_loss: 11.6809 - discriminator_loss: 1.2641 - discriminator_yfake_loss: 0.1015 - discriminator_yreal_loss: 0.2250 - val_loss: 17.0626 - val_generator_loss: 15.7938 - val_generator_yfake_loss: 2.4906 - val_generator_yreal_loss: 12.3663 - val_discriminator_loss: 1.2688 - val_discriminator_yfake_loss: 0.1071 - val_discriminator_yreal_loss: 0.2247\n",
            "Epoch 46/100\n",
            "60000/60000 [==============================] - 189s 3ms/step - loss: 16.5103 - generator_loss: 15.2532 - generator_yfake_loss: 2.5668 - generator_yreal_loss: 11.7517 - discriminator_loss: 1.2571 - discriminator_yfake_loss: 0.1010 - discriminator_yreal_loss: 0.2214 - val_loss: 16.0443 - val_generator_loss: 14.7616 - val_generator_yfake_loss: 2.8120 - val_generator_yreal_loss: 11.0164 - val_discriminator_loss: 1.2828 - val_discriminator_yfake_loss: 0.0717 - val_discriminator_yreal_loss: 0.2779\n",
            "Epoch 47/100\n",
            "60000/60000 [==============================] - 189s 3ms/step - loss: 16.7231 - generator_loss: 15.4705 - generator_yfake_loss: 2.5631 - generator_yreal_loss: 11.9789 - discriminator_loss: 1.2526 - discriminator_yfake_loss: 0.0997 - discriminator_yreal_loss: 0.2244 - val_loss: 16.7350 - val_generator_loss: 15.5134 - val_generator_yfake_loss: 2.3402 - val_generator_yreal_loss: 12.2459 - val_discriminator_loss: 1.2216 - val_discriminator_yfake_loss: 0.1203 - val_discriminator_yreal_loss: 0.1740\n",
            "Epoch 48/100\n",
            "60000/60000 [==============================] - 189s 3ms/step - loss: 16.4524 - generator_loss: 15.2077 - generator_yfake_loss: 2.5320 - generator_yreal_loss: 11.7582 - discriminator_loss: 1.2446 - discriminator_yfake_loss: 0.1011 - discriminator_yreal_loss: 0.2260 - val_loss: 16.7809 - val_generator_loss: 15.5179 - val_generator_yfake_loss: 2.7416 - val_generator_yreal_loss: 11.8649 - val_discriminator_loss: 1.2630 - val_discriminator_yfake_loss: 0.0827 - val_discriminator_yreal_loss: 0.2689\n",
            "Epoch 49/100\n",
            "60000/60000 [==============================] - 189s 3ms/step - loss: 16.4570 - generator_loss: 15.2240 - generator_yfake_loss: 2.5599 - generator_yreal_loss: 11.7540 - discriminator_loss: 1.2330 - discriminator_yfake_loss: 0.1004 - discriminator_yreal_loss: 0.2226 - val_loss: 16.5859 - val_generator_loss: 15.3043 - val_generator_yfake_loss: 2.2206 - val_generator_yreal_loss: 12.1752 - val_discriminator_loss: 1.2816 - val_discriminator_yfake_loss: 0.1558 - val_discriminator_yreal_loss: 0.2174\n",
            "Epoch 50/100\n",
            "60000/60000 [==============================] - 190s 3ms/step - loss: 16.5046 - generator_loss: 15.2755 - generator_yfake_loss: 2.5548 - generator_yreal_loss: 11.8169 - discriminator_loss: 1.2290 - discriminator_yfake_loss: 0.1001 - discriminator_yreal_loss: 0.2251 - val_loss: 16.9258 - val_generator_loss: 15.6620 - val_generator_yfake_loss: 2.7099 - val_generator_yreal_loss: 12.0516 - val_discriminator_loss: 1.2638 - val_discriminator_yfake_loss: 0.0817 - val_discriminator_yreal_loss: 0.2816\n",
            "Epoch 51/100\n",
            "60000/60000 [==============================] - 190s 3ms/step - loss: 16.3438 - generator_loss: 15.1197 - generator_yfake_loss: 2.5353 - generator_yreal_loss: 11.6877 - discriminator_loss: 1.2241 - discriminator_yfake_loss: 0.1028 - discriminator_yreal_loss: 0.2247 - val_loss: 15.9732 - val_generator_loss: 14.7662 - val_generator_yfake_loss: 2.5836 - val_generator_yreal_loss: 11.2863 - val_discriminator_loss: 1.2070 - val_discriminator_yfake_loss: 0.0920 - val_discriminator_yreal_loss: 0.2187\n",
            "Epoch 52/100\n",
            "60000/60000 [==============================] - 190s 3ms/step - loss: 16.3200 - generator_loss: 15.0991 - generator_yfake_loss: 2.5452 - generator_yreal_loss: 11.6599 - discriminator_loss: 1.2209 - discriminator_yfake_loss: 0.1015 - discriminator_yreal_loss: 0.2253 - val_loss: 16.3387 - val_generator_loss: 15.1288 - val_generator_yfake_loss: 2.5527 - val_generator_yreal_loss: 11.6833 - val_discriminator_loss: 1.2099 - val_discriminator_yfake_loss: 0.0944 - val_discriminator_yreal_loss: 0.2226\n",
            "Epoch 53/100\n",
            "60000/60000 [==============================] - 190s 3ms/step - loss: 16.3702 - generator_loss: 15.1558 - generator_yfake_loss: 2.5615 - generator_yreal_loss: 11.7022 - discriminator_loss: 1.2144 - discriminator_yfake_loss: 0.1009 - discriminator_yreal_loss: 0.2215 - val_loss: 17.0448 - val_generator_loss: 15.7931 - val_generator_yfake_loss: 2.4736 - val_generator_yreal_loss: 12.4287 - val_discriminator_loss: 1.2517 - val_discriminator_yfake_loss: 0.1185 - val_discriminator_yreal_loss: 0.2423\n",
            "Epoch 54/100\n",
            "60000/60000 [==============================] - 193s 3ms/step - loss: 16.6624 - generator_loss: 15.4531 - generator_yfake_loss: 2.5720 - generator_yreal_loss: 11.9956 - discriminator_loss: 1.2093 - discriminator_yfake_loss: 0.0991 - discriminator_yreal_loss: 0.2247 - val_loss: 17.0044 - val_generator_loss: 15.7679 - val_generator_yfake_loss: 2.7796 - val_generator_yreal_loss: 12.1074 - val_discriminator_loss: 1.2365 - val_discriminator_yfake_loss: 0.0722 - val_discriminator_yreal_loss: 0.2833\n",
            "Epoch 55/100\n",
            "60000/60000 [==============================] - 192s 3ms/step - loss: 16.5542 - generator_loss: 15.3520 - generator_yfake_loss: 2.5334 - generator_yreal_loss: 11.9407 - discriminator_loss: 1.2022 - discriminator_yfake_loss: 0.1000 - discriminator_yreal_loss: 0.2244 - val_loss: 15.9864 - val_generator_loss: 14.8095 - val_generator_yfake_loss: 2.4062 - val_generator_yreal_loss: 11.5284 - val_discriminator_loss: 1.1769 - val_discriminator_yfake_loss: 0.1131 - val_discriminator_yreal_loss: 0.1889\n",
            "Epoch 56/100\n",
            "60000/60000 [==============================] - 192s 3ms/step - loss: 16.5825 - generator_loss: 15.3870 - generator_yfake_loss: 2.5648 - generator_yreal_loss: 11.9489 - discriminator_loss: 1.1955 - discriminator_yfake_loss: 0.0986 - discriminator_yreal_loss: 0.2236 - val_loss: 15.7785 - val_generator_loss: 14.5494 - val_generator_yfake_loss: 2.6030 - val_generator_yreal_loss: 11.0756 - val_discriminator_loss: 1.2291 - val_discriminator_yfake_loss: 0.0931 - val_discriminator_yreal_loss: 0.2651\n",
            "Epoch 57/100\n",
            "60000/60000 [==============================] - 191s 3ms/step - loss: 16.2642 - generator_loss: 15.0699 - generator_yfake_loss: 2.5319 - generator_yreal_loss: 11.6705 - discriminator_loss: 1.1942 - discriminator_yfake_loss: 0.1014 - discriminator_yreal_loss: 0.2254 - val_loss: 16.6810 - val_generator_loss: 15.4990 - val_generator_yfake_loss: 2.4126 - val_generator_yreal_loss: 12.2239 - val_discriminator_loss: 1.1820 - val_discriminator_yfake_loss: 0.1134 - val_discriminator_yreal_loss: 0.2062\n",
            "Epoch 58/100\n",
            "60000/60000 [==============================] - 192s 3ms/step - loss: 16.6663 - generator_loss: 15.4801 - generator_yfake_loss: 2.5540 - generator_yreal_loss: 12.0635 - discriminator_loss: 1.1861 - discriminator_yfake_loss: 0.0989 - discriminator_yreal_loss: 0.2247 - val_loss: 16.5063 - val_generator_loss: 15.2883 - val_generator_yfake_loss: 2.5517 - val_generator_yreal_loss: 11.8747 - val_discriminator_loss: 1.2180 - val_discriminator_yfake_loss: 0.0922 - val_discriminator_yreal_loss: 0.2639\n",
            "Epoch 59/100\n",
            "60000/60000 [==============================] - 192s 3ms/step - loss: 16.4385 - generator_loss: 15.2543 - generator_yfake_loss: 2.5554 - generator_yreal_loss: 11.8363 - discriminator_loss: 1.1842 - discriminator_yfake_loss: 0.1003 - discriminator_yreal_loss: 0.2213 - val_loss: 15.9970 - val_generator_loss: 14.7935 - val_generator_yfake_loss: 2.3811 - val_generator_yreal_loss: 11.5518 - val_discriminator_loss: 1.2035 - val_discriminator_yfake_loss: 0.1185 - val_discriminator_yreal_loss: 0.2245\n",
            "Epoch 60/100\n",
            "60000/60000 [==============================] - 191s 3ms/step - loss: 16.5010 - generator_loss: 15.3243 - generator_yfake_loss: 2.5540 - generator_yreal_loss: 11.9153 - discriminator_loss: 1.1767 - discriminator_yfake_loss: 0.0989 - discriminator_yreal_loss: 0.2228 - val_loss: 15.5833 - val_generator_loss: 14.3951 - val_generator_yfake_loss: 2.4785 - val_generator_yreal_loss: 11.0641 - val_discriminator_loss: 1.1882 - val_discriminator_yfake_loss: 0.1136 - val_discriminator_yreal_loss: 0.2222\n",
            "Epoch 61/100\n",
            "60000/60000 [==============================] - 192s 3ms/step - loss: 16.6301 - generator_loss: 15.4589 - generator_yfake_loss: 2.5571 - generator_yreal_loss: 12.0522 - discriminator_loss: 1.1712 - discriminator_yfake_loss: 0.0987 - discriminator_yreal_loss: 0.2228 - val_loss: 16.7382 - val_generator_loss: 15.5640 - val_generator_yfake_loss: 2.1253 - val_generator_yreal_loss: 12.5911 - val_discriminator_loss: 1.1742 - val_discriminator_yfake_loss: 0.1525 - val_discriminator_yreal_loss: 0.1741\n",
            "Epoch 62/100\n",
            "60000/60000 [==============================] - 194s 3ms/step - loss: 16.7087 - generator_loss: 15.5413 - generator_yfake_loss: 2.5498 - generator_yreal_loss: 12.1447 - discriminator_loss: 1.1674 - discriminator_yfake_loss: 0.0998 - discriminator_yreal_loss: 0.2209 - val_loss: 16.5196 - val_generator_loss: 15.2992 - val_generator_yfake_loss: 3.1384 - val_generator_yreal_loss: 11.3153 - val_discriminator_loss: 1.2204 - val_discriminator_yfake_loss: 0.0474 - val_discriminator_yreal_loss: 0.3276\n",
            "Epoch 63/100\n",
            "60000/60000 [==============================] - 192s 3ms/step - loss: 16.5262 - generator_loss: 15.3609 - generator_yfake_loss: 2.5587 - generator_yreal_loss: 11.9578 - discriminator_loss: 1.1654 - discriminator_yfake_loss: 0.0992 - discriminator_yreal_loss: 0.2219 - val_loss: 16.5239 - val_generator_loss: 15.3106 - val_generator_yfake_loss: 2.3922 - val_generator_yreal_loss: 12.0742 - val_discriminator_loss: 1.2132 - val_discriminator_yfake_loss: 0.1152 - val_discriminator_yreal_loss: 0.2539\n",
            "Epoch 64/100\n",
            "60000/60000 [==============================] - 193s 3ms/step - loss: 16.6266 - generator_loss: 15.4650 - generator_yfake_loss: 2.5567 - generator_yreal_loss: 12.0661 - discriminator_loss: 1.1616 - discriminator_yfake_loss: 0.0991 - discriminator_yreal_loss: 0.2203 - val_loss: 16.9082 - val_generator_loss: 15.7254 - val_generator_yfake_loss: 2.5201 - val_generator_yreal_loss: 12.3650 - val_discriminator_loss: 1.1828 - val_discriminator_yfake_loss: 0.0996 - val_discriminator_yreal_loss: 0.2429\n",
            "Epoch 65/100\n",
            "60000/60000 [==============================] - 193s 3ms/step - loss: 16.6058 - generator_loss: 15.4477 - generator_yfake_loss: 2.5672 - generator_yreal_loss: 12.0420 - discriminator_loss: 1.1581 - discriminator_yfake_loss: 0.0982 - discriminator_yreal_loss: 0.2213 - val_loss: 16.6731 - val_generator_loss: 15.5343 - val_generator_yfake_loss: 2.4854 - val_generator_yreal_loss: 12.2100 - val_discriminator_loss: 1.1388 - val_discriminator_yfake_loss: 0.1032 - val_discriminator_yreal_loss: 0.1967\n",
            "Epoch 66/100\n",
            "60000/60000 [==============================] - 193s 3ms/step - loss: 16.5835 - generator_loss: 15.4250 - generator_yfake_loss: 2.5632 - generator_yreal_loss: 12.0248 - discriminator_loss: 1.1585 - discriminator_yfake_loss: 0.0990 - discriminator_yreal_loss: 0.2224 - val_loss: 17.1913 - val_generator_loss: 15.9984 - val_generator_yfake_loss: 2.6475 - val_generator_yreal_loss: 12.5153 - val_discriminator_loss: 1.1929 - val_discriminator_yfake_loss: 0.0915 - val_discriminator_yreal_loss: 0.2658\n",
            "Epoch 67/100\n",
            "60000/60000 [==============================] - 193s 3ms/step - loss: 16.7461 - generator_loss: 15.5906 - generator_yfake_loss: 2.5798 - generator_yreal_loss: 12.1762 - discriminator_loss: 1.1555 - discriminator_yfake_loss: 0.0971 - discriminator_yreal_loss: 0.2238 - val_loss: 16.7660 - val_generator_loss: 15.6076 - val_generator_yfake_loss: 2.6495 - val_generator_yreal_loss: 12.1249 - val_discriminator_loss: 1.1584 - val_discriminator_yfake_loss: 0.0847 - val_discriminator_yreal_loss: 0.2404\n",
            "Epoch 68/100\n",
            "60000/60000 [==============================] - 193s 3ms/step - loss: 16.5841 - generator_loss: 15.4321 - generator_yfake_loss: 2.5580 - generator_yreal_loss: 12.0420 - discriminator_loss: 1.1520 - discriminator_yfake_loss: 0.0990 - discriminator_yreal_loss: 0.2209 - val_loss: 17.1776 - val_generator_loss: 15.9887 - val_generator_yfake_loss: 2.7614 - val_generator_yreal_loss: 12.3952 - val_discriminator_loss: 1.1889 - val_discriminator_yfake_loss: 0.0763 - val_discriminator_yreal_loss: 0.2805\n",
            "Epoch 69/100\n",
            "60000/60000 [==============================] - 194s 3ms/step - loss: 16.6785 - generator_loss: 15.5285 - generator_yfake_loss: 2.5661 - generator_yreal_loss: 12.1316 - discriminator_loss: 1.1500 - discriminator_yfake_loss: 0.0985 - discriminator_yreal_loss: 0.2206 - val_loss: 16.1091 - val_generator_loss: 14.9300 - val_generator_yfake_loss: 2.7462 - val_generator_yreal_loss: 11.3560 - val_discriminator_loss: 1.1791 - val_discriminator_yfake_loss: 0.0793 - val_discriminator_yreal_loss: 0.2720\n",
            "Epoch 70/100\n",
            "60000/60000 [==============================] - 193s 3ms/step - loss: 16.2783 - generator_loss: 15.1289 - generator_yfake_loss: 2.5494 - generator_yreal_loss: 11.7532 - discriminator_loss: 1.1494 - discriminator_yfake_loss: 0.0991 - discriminator_yreal_loss: 0.2240 - val_loss: 16.4852 - val_generator_loss: 15.3274 - val_generator_yfake_loss: 2.4335 - val_generator_yreal_loss: 12.0681 - val_discriminator_loss: 1.1578 - val_discriminator_yfake_loss: 0.1077 - val_discriminator_yreal_loss: 0.2243\n",
            "Epoch 71/100\n",
            "60000/60000 [==============================] - 193s 3ms/step - loss: 16.3881 - generator_loss: 15.2439 - generator_yfake_loss: 2.5565 - generator_yreal_loss: 11.8636 - discriminator_loss: 1.1442 - discriminator_yfake_loss: 0.0985 - discriminator_yreal_loss: 0.2218 - val_loss: 15.9440 - val_generator_loss: 14.7687 - val_generator_yfake_loss: 2.6338 - val_generator_yreal_loss: 11.3129 - val_discriminator_loss: 1.1754 - val_discriminator_yfake_loss: 0.0840 - val_discriminator_yreal_loss: 0.2694\n",
            "Epoch 72/100\n",
            "60000/60000 [==============================] - 193s 3ms/step - loss: 16.4682 - generator_loss: 15.3258 - generator_yfake_loss: 2.5542 - generator_yreal_loss: 11.9491 - discriminator_loss: 1.1425 - discriminator_yfake_loss: 0.0989 - discriminator_yreal_loss: 0.2212 - val_loss: 16.8673 - val_generator_loss: 15.7053 - val_generator_yfake_loss: 2.9676 - val_generator_yreal_loss: 11.9163 - val_discriminator_loss: 1.1619 - val_discriminator_yfake_loss: 0.0595 - val_discriminator_yreal_loss: 0.2809\n",
            "Epoch 73/100\n",
            "60000/60000 [==============================] - 194s 3ms/step - loss: 16.8087 - generator_loss: 15.6675 - generator_yfake_loss: 2.5784 - generator_yreal_loss: 12.2681 - discriminator_loss: 1.1412 - discriminator_yfake_loss: 0.0973 - discriminator_yreal_loss: 0.2229 - val_loss: 17.0118 - val_generator_loss: 15.8850 - val_generator_yfake_loss: 2.4236 - val_generator_yreal_loss: 12.6402 - val_discriminator_loss: 1.1268 - val_discriminator_yfake_loss: 0.1105 - val_discriminator_yreal_loss: 0.1950\n",
            "Epoch 74/100\n",
            "60000/60000 [==============================] - 196s 3ms/step - loss: 16.5554 - generator_loss: 15.4183 - generator_yfake_loss: 2.5613 - generator_yreal_loss: 12.0368 - discriminator_loss: 1.1371 - discriminator_yfake_loss: 0.0984 - discriminator_yreal_loss: 0.2185 - val_loss: 16.6169 - val_generator_loss: 15.4632 - val_generator_yfake_loss: 2.2178 - val_generator_yreal_loss: 12.4255 - val_discriminator_loss: 1.1536 - val_discriminator_yfake_loss: 0.1465 - val_discriminator_yreal_loss: 0.1872\n",
            "Epoch 75/100\n",
            "60000/60000 [==============================] - 196s 3ms/step - loss: 16.5909 - generator_loss: 15.4552 - generator_yfake_loss: 2.5778 - generator_yreal_loss: 12.0593 - discriminator_loss: 1.1358 - discriminator_yfake_loss: 0.0970 - discriminator_yreal_loss: 0.2206 - val_loss: 16.5779 - val_generator_loss: 15.4326 - val_generator_yfake_loss: 2.5492 - val_generator_yreal_loss: 12.0674 - val_discriminator_loss: 1.1453 - val_discriminator_yfake_loss: 0.0944 - val_discriminator_yreal_loss: 0.2348\n",
            "Epoch 76/100\n",
            "60000/60000 [==============================] - 195s 3ms/step - loss: 16.7315 - generator_loss: 15.5985 - generator_yfake_loss: 2.5574 - generator_yreal_loss: 12.2253 - discriminator_loss: 1.1330 - discriminator_yfake_loss: 0.0979 - discriminator_yreal_loss: 0.2193 - val_loss: 17.1950 - val_generator_loss: 16.0607 - val_generator_yfake_loss: 2.4924 - val_generator_yreal_loss: 12.7536 - val_discriminator_loss: 1.1343 - val_discriminator_yfake_loss: 0.1044 - val_discriminator_yreal_loss: 0.2151\n",
            "Epoch 77/100\n",
            "60000/60000 [==============================] - 195s 3ms/step - loss: 16.7871 - generator_loss: 15.6525 - generator_yfake_loss: 2.5422 - generator_yreal_loss: 12.2964 - discriminator_loss: 1.1346 - discriminator_yfake_loss: 0.0985 - discriminator_yreal_loss: 0.2222 - val_loss: 17.2237 - val_generator_loss: 16.0515 - val_generator_yfake_loss: 2.8845 - val_generator_yreal_loss: 12.3532 - val_discriminator_loss: 1.1722 - val_discriminator_yfake_loss: 0.0633 - val_discriminator_yreal_loss: 0.2952\n",
            "Epoch 78/100\n",
            "60000/60000 [==============================] - 196s 3ms/step - loss: 16.7418 - generator_loss: 15.6118 - generator_yfake_loss: 2.5588 - generator_yreal_loss: 12.2407 - discriminator_loss: 1.1300 - discriminator_yfake_loss: 0.0975 - discriminator_yreal_loss: 0.2202 - val_loss: 17.8475 - val_generator_loss: 16.6824 - val_generator_yfake_loss: 3.0845 - val_generator_yreal_loss: 12.7845 - val_discriminator_loss: 1.1651 - val_discriminator_yfake_loss: 0.0510 - val_discriminator_yreal_loss: 0.3008\n",
            "Epoch 79/100\n",
            "60000/60000 [==============================] - 195s 3ms/step - loss: 17.0253 - generator_loss: 15.8954 - generator_yfake_loss: 2.5835 - generator_yreal_loss: 12.5005 - discriminator_loss: 1.1298 - discriminator_yfake_loss: 0.0972 - discriminator_yreal_loss: 0.2212 - val_loss: 17.3453 - val_generator_loss: 16.2049 - val_generator_yfake_loss: 2.4584 - val_generator_yreal_loss: 12.9381 - val_discriminator_loss: 1.1403 - val_discriminator_yfake_loss: 0.1093 - val_discriminator_yreal_loss: 0.2226\n",
            "Epoch 80/100\n",
            "60000/60000 [==============================] - 195s 3ms/step - loss: 16.9911 - generator_loss: 15.8656 - generator_yfake_loss: 2.5811 - generator_yreal_loss: 12.4763 - discriminator_loss: 1.1255 - discriminator_yfake_loss: 0.0969 - discriminator_yreal_loss: 0.2203 - val_loss: 16.9800 - val_generator_loss: 15.8532 - val_generator_yfake_loss: 2.1106 - val_generator_yreal_loss: 12.9362 - val_discriminator_loss: 1.1268 - val_discriminator_yfake_loss: 0.1597 - val_discriminator_yreal_loss: 0.1606\n",
            "Epoch 81/100\n",
            "60000/60000 [==============================] - 195s 3ms/step - loss: 17.0866 - generator_loss: 15.9657 - generator_yfake_loss: 2.5928 - generator_yreal_loss: 12.5671 - discriminator_loss: 1.1209 - discriminator_yfake_loss: 0.0957 - discriminator_yreal_loss: 0.2194 - val_loss: 17.0221 - val_generator_loss: 15.8825 - val_generator_yfake_loss: 2.4338 - val_generator_yreal_loss: 12.6437 - val_discriminator_loss: 1.1396 - val_discriminator_yfake_loss: 0.1094 - val_discriminator_yreal_loss: 0.2252\n",
            "Epoch 82/100\n",
            "60000/60000 [==============================] - 195s 3ms/step - loss: 16.9163 - generator_loss: 15.7921 - generator_yfake_loss: 2.5672 - generator_yreal_loss: 12.4210 - discriminator_loss: 1.1243 - discriminator_yfake_loss: 0.0973 - discriminator_yreal_loss: 0.2231 - val_loss: 17.4476 - val_generator_loss: 16.2964 - val_generator_yfake_loss: 2.4617 - val_generator_yreal_loss: 13.0318 - val_discriminator_loss: 1.1512 - val_discriminator_yfake_loss: 0.1167 - val_discriminator_yreal_loss: 0.2317\n",
            "Epoch 83/100\n",
            "60000/60000 [==============================] - 195s 3ms/step - loss: 16.8129 - generator_loss: 15.6908 - generator_yfake_loss: 2.5427 - generator_yreal_loss: 12.3478 - discriminator_loss: 1.1222 - discriminator_yfake_loss: 0.0972 - discriminator_yreal_loss: 0.2246 - val_loss: 16.9298 - val_generator_loss: 15.8044 - val_generator_yfake_loss: 2.6553 - val_generator_yreal_loss: 12.3492 - val_discriminator_loss: 1.1254 - val_discriminator_yfake_loss: 0.0822 - val_discriminator_yreal_loss: 0.2433\n",
            "Epoch 84/100\n",
            "60000/60000 [==============================] - 195s 3ms/step - loss: 16.7783 - generator_loss: 15.6670 - generator_yfake_loss: 2.5684 - generator_yreal_loss: 12.3003 - discriminator_loss: 1.1114 - discriminator_yfake_loss: 0.0974 - discriminator_yreal_loss: 0.2157 - val_loss: 16.0996 - val_generator_loss: 14.9542 - val_generator_yfake_loss: 2.5935 - val_generator_yreal_loss: 11.5630 - val_discriminator_loss: 1.1454 - val_discriminator_yfake_loss: 0.1022 - val_discriminator_yreal_loss: 0.2455\n",
            "Epoch 85/100\n",
            "60000/60000 [==============================] - 195s 3ms/step - loss: 16.8190 - generator_loss: 15.7035 - generator_yfake_loss: 2.5706 - generator_yreal_loss: 12.3351 - discriminator_loss: 1.1154 - discriminator_yfake_loss: 0.0971 - discriminator_yreal_loss: 0.2206 - val_loss: 16.9825 - val_generator_loss: 15.8707 - val_generator_yfake_loss: 2.7545 - val_generator_yreal_loss: 12.3177 - val_discriminator_loss: 1.1118 - val_discriminator_yfake_loss: 0.0756 - val_discriminator_yreal_loss: 0.2378\n",
            "Epoch 86/100\n",
            "60000/60000 [==============================] - 195s 3ms/step - loss: 16.7931 - generator_loss: 15.6776 - generator_yfake_loss: 2.5637 - generator_yreal_loss: 12.3174 - discriminator_loss: 1.1155 - discriminator_yfake_loss: 0.0978 - discriminator_yreal_loss: 0.2213 - val_loss: 16.8680 - val_generator_loss: 15.7240 - val_generator_yfake_loss: 2.7557 - val_generator_yreal_loss: 12.1746 - val_discriminator_loss: 1.1440 - val_discriminator_yfake_loss: 0.0752 - val_discriminator_yreal_loss: 0.2750\n",
            "Epoch 87/100\n",
            "60000/60000 [==============================] - 195s 3ms/step - loss: 17.0398 - generator_loss: 15.9284 - generator_yfake_loss: 2.5585 - generator_yreal_loss: 12.5775 - discriminator_loss: 1.1114 - discriminator_yfake_loss: 0.0971 - discriminator_yreal_loss: 0.2219 - val_loss: 16.8291 - val_generator_loss: 15.7040 - val_generator_yfake_loss: 2.1902 - val_generator_yreal_loss: 12.7236 - val_discriminator_loss: 1.1250 - val_discriminator_yfake_loss: 0.1412 - val_discriminator_yreal_loss: 0.1936\n",
            "Epoch 88/100\n",
            "60000/60000 [==============================] - 195s 3ms/step - loss: 16.7439 - generator_loss: 15.6350 - generator_yfake_loss: 2.5435 - generator_yreal_loss: 12.3022 - discriminator_loss: 1.1088 - discriminator_yfake_loss: 0.0982 - discriminator_yreal_loss: 0.2214 - val_loss: 16.9092 - val_generator_loss: 15.7992 - val_generator_yfake_loss: 2.6413 - val_generator_yreal_loss: 12.3685 - val_discriminator_loss: 1.1100 - val_discriminator_yfake_loss: 0.0895 - val_discriminator_yreal_loss: 0.2311\n",
            "Epoch 89/100\n",
            "60000/60000 [==============================] - 195s 3ms/step - loss: 16.6280 - generator_loss: 15.5194 - generator_yfake_loss: 2.5702 - generator_yreal_loss: 12.1594 - discriminator_loss: 1.1085 - discriminator_yfake_loss: 0.0975 - discriminator_yreal_loss: 0.2213 - val_loss: 16.5722 - val_generator_loss: 15.4518 - val_generator_yfake_loss: 2.4807 - val_generator_yreal_loss: 12.1808 - val_discriminator_loss: 1.1204 - val_discriminator_yfake_loss: 0.1019 - val_discriminator_yreal_loss: 0.2283\n",
            "Epoch 90/100\n",
            "60000/60000 [==============================] - 195s 3ms/step - loss: 16.7632 - generator_loss: 15.6538 - generator_yfake_loss: 2.5814 - generator_yreal_loss: 12.2805 - discriminator_loss: 1.1094 - discriminator_yfake_loss: 0.0975 - discriminator_yreal_loss: 0.2200 - val_loss: 17.0224 - val_generator_loss: 15.8953 - val_generator_yfake_loss: 2.6846 - val_generator_yreal_loss: 12.4170 - val_discriminator_loss: 1.1271 - val_discriminator_yfake_loss: 0.0872 - val_discriminator_yreal_loss: 0.2462\n",
            "Epoch 91/100\n",
            "60000/60000 [==============================] - 196s 3ms/step - loss: 16.8500 - generator_loss: 15.7439 - generator_yfake_loss: 2.5729 - generator_yreal_loss: 12.3799 - discriminator_loss: 1.1061 - discriminator_yfake_loss: 0.0966 - discriminator_yreal_loss: 0.2184 - val_loss: 16.9761 - val_generator_loss: 15.8570 - val_generator_yfake_loss: 2.7717 - val_generator_yreal_loss: 12.2954 - val_discriminator_loss: 1.1191 - val_discriminator_yfake_loss: 0.0726 - val_discriminator_yreal_loss: 0.2567\n",
            "Epoch 92/100\n",
            "60000/60000 [==============================] - 195s 3ms/step - loss: 16.9210 - generator_loss: 15.8148 - generator_yfake_loss: 2.5805 - generator_yreal_loss: 12.4453 - discriminator_loss: 1.1062 - discriminator_yfake_loss: 0.0969 - discriminator_yreal_loss: 0.2203 - val_loss: 16.8060 - val_generator_loss: 15.6552 - val_generator_yfake_loss: 2.6779 - val_generator_yreal_loss: 12.1888 - val_discriminator_loss: 1.1508 - val_discriminator_yfake_loss: 0.0862 - val_discriminator_yreal_loss: 0.2761\n",
            "Epoch 93/100\n",
            "60000/60000 [==============================] - 196s 3ms/step - loss: 16.9899 - generator_loss: 15.8833 - generator_yfake_loss: 2.5590 - generator_yreal_loss: 12.5371 - discriminator_loss: 1.1066 - discriminator_yfake_loss: 0.0974 - discriminator_yreal_loss: 0.2219 - val_loss: 16.7406 - val_generator_loss: 15.6236 - val_generator_yfake_loss: 2.3558 - val_generator_yreal_loss: 12.4816 - val_discriminator_loss: 1.1170 - val_discriminator_yfake_loss: 0.1170 - val_discriminator_yreal_loss: 0.2138\n",
            "Epoch 94/100\n",
            "60000/60000 [==============================] - 196s 3ms/step - loss: 16.8368 - generator_loss: 15.7328 - generator_yfake_loss: 2.5652 - generator_yreal_loss: 12.3814 - discriminator_loss: 1.1040 - discriminator_yfake_loss: 0.0973 - discriminator_yreal_loss: 0.2205 - val_loss: 16.9827 - val_generator_loss: 15.8596 - val_generator_yfake_loss: 2.5436 - val_generator_yreal_loss: 12.5298 - val_discriminator_loss: 1.1232 - val_discriminator_yfake_loss: 0.0995 - val_discriminator_yreal_loss: 0.2375\n",
            "Epoch 95/100\n",
            "60000/60000 [==============================] - 196s 3ms/step - loss: 16.8526 - generator_loss: 15.7505 - generator_yfake_loss: 2.5613 - generator_yreal_loss: 12.4039 - discriminator_loss: 1.1021 - discriminator_yfake_loss: 0.0973 - discriminator_yreal_loss: 0.2195 - val_loss: 17.7110 - val_generator_loss: 16.5943 - val_generator_yfake_loss: 2.8765 - val_generator_yreal_loss: 12.9330 - val_discriminator_loss: 1.1167 - val_discriminator_yfake_loss: 0.0678 - val_discriminator_yreal_loss: 0.2641\n",
            "Epoch 96/100\n",
            "60000/60000 [==============================] - 196s 3ms/step - loss: 17.0023 - generator_loss: 15.9023 - generator_yfake_loss: 2.5668 - generator_yreal_loss: 12.5511 - discriminator_loss: 1.0999 - discriminator_yfake_loss: 0.0973 - discriminator_yreal_loss: 0.2182 - val_loss: 17.4407 - val_generator_loss: 16.3157 - val_generator_yfake_loss: 2.6138 - val_generator_yreal_loss: 12.9182 - val_discriminator_loss: 1.1250 - val_discriminator_yfake_loss: 0.0900 - val_discriminator_yreal_loss: 0.2512\n",
            "Epoch 97/100\n",
            "60000/60000 [==============================] - 196s 3ms/step - loss: 17.0266 - generator_loss: 15.9283 - generator_yfake_loss: 2.5762 - generator_yreal_loss: 12.5687 - discriminator_loss: 1.0983 - discriminator_yfake_loss: 0.0966 - discriminator_yreal_loss: 0.2183 - val_loss: 17.1268 - val_generator_loss: 16.0129 - val_generator_yfake_loss: 2.3138 - val_generator_yreal_loss: 12.9167 - val_discriminator_loss: 1.1139 - val_discriminator_yfake_loss: 0.1231 - val_discriminator_yreal_loss: 0.2085\n",
            "Epoch 98/100\n",
            "60000/60000 [==============================] - 196s 3ms/step - loss: 17.1765 - generator_loss: 16.0764 - generator_yfake_loss: 2.5753 - generator_yreal_loss: 12.7191 - discriminator_loss: 1.1001 - discriminator_yfake_loss: 0.0973 - discriminator_yreal_loss: 0.2208 - val_loss: 17.1963 - val_generator_loss: 16.0820 - val_generator_yfake_loss: 2.6485 - val_generator_yreal_loss: 12.6516 - val_discriminator_loss: 1.1143 - val_discriminator_yfake_loss: 0.0851 - val_discriminator_yreal_loss: 0.2474\n",
            "Epoch 99/100\n",
            "60000/60000 [==============================] - 196s 3ms/step - loss: 17.1224 - generator_loss: 16.0275 - generator_yfake_loss: 2.5736 - generator_yreal_loss: 12.6719 - discriminator_loss: 1.0950 - discriminator_yfake_loss: 0.0966 - discriminator_yreal_loss: 0.2164 - val_loss: 17.6053 - val_generator_loss: 16.4865 - val_generator_yfake_loss: 2.7237 - val_generator_yreal_loss: 12.9812 - val_discriminator_loss: 1.1188 - val_discriminator_yfake_loss: 0.0815 - val_discriminator_yreal_loss: 0.2557\n",
            "Epoch 100/100\n",
            "60000/60000 [==============================] - 196s 3ms/step - loss: 16.9975 - generator_loss: 15.9056 - generator_yfake_loss: 2.5994 - generator_yreal_loss: 12.5245 - discriminator_loss: 1.0919 - discriminator_yfake_loss: 0.0964 - discriminator_yreal_loss: 0.2138 - val_loss: 17.1261 - val_generator_loss: 16.0082 - val_generator_yfake_loss: 2.5732 - val_generator_yreal_loss: 12.6541 - val_discriminator_loss: 1.1180 - val_discriminator_yfake_loss: 0.0962 - val_discriminator_yreal_loss: 0.2409\n"
          ]
        },
        {
          "output_type": "error",
          "ename": "ValueError",
          "evalue": "ignored",
          "traceback": [
            "\u001b[0;31m---------------------------------------------------------------------------\u001b[0m",
            "\u001b[0;31mValueError\u001b[0m                                Traceback (most recent call last)",
            "\u001b[0;32m/tensorflow-1.15.2/python3.7/tensorflow_core/python/eager/execute.py\u001b[0m in \u001b[0;36mmake_shape\u001b[0;34m(v, arg_name)\u001b[0m\n\u001b[1;32m    205\u001b[0m   \u001b[0;32mtry\u001b[0m\u001b[0;34m:\u001b[0m\u001b[0;34m\u001b[0m\u001b[0;34m\u001b[0m\u001b[0m\n\u001b[0;32m--> 206\u001b[0;31m     \u001b[0mshape\u001b[0m \u001b[0;34m=\u001b[0m \u001b[0mtensor_shape\u001b[0m\u001b[0;34m.\u001b[0m\u001b[0mas_shape\u001b[0m\u001b[0;34m(\u001b[0m\u001b[0mv\u001b[0m\u001b[0;34m)\u001b[0m\u001b[0;34m\u001b[0m\u001b[0;34m\u001b[0m\u001b[0m\n\u001b[0m\u001b[1;32m    207\u001b[0m   \u001b[0;32mexcept\u001b[0m \u001b[0mTypeError\u001b[0m \u001b[0;32mas\u001b[0m \u001b[0me\u001b[0m\u001b[0;34m:\u001b[0m\u001b[0;34m\u001b[0m\u001b[0;34m\u001b[0m\u001b[0m\n",
            "\u001b[0;32m/tensorflow-1.15.2/python3.7/tensorflow_core/python/framework/tensor_shape.py\u001b[0m in \u001b[0;36mas_shape\u001b[0;34m(shape)\u001b[0m\n\u001b[1;32m   1215\u001b[0m   \u001b[0;32melse\u001b[0m\u001b[0;34m:\u001b[0m\u001b[0;34m\u001b[0m\u001b[0;34m\u001b[0m\u001b[0m\n\u001b[0;32m-> 1216\u001b[0;31m     \u001b[0;32mreturn\u001b[0m \u001b[0mTensorShape\u001b[0m\u001b[0;34m(\u001b[0m\u001b[0mshape\u001b[0m\u001b[0;34m)\u001b[0m\u001b[0;34m\u001b[0m\u001b[0;34m\u001b[0m\u001b[0m\n\u001b[0m\u001b[1;32m   1217\u001b[0m \u001b[0;34m\u001b[0m\u001b[0m\n",
            "\u001b[0;32m/tensorflow-1.15.2/python3.7/tensorflow_core/python/framework/tensor_shape.py\u001b[0m in \u001b[0;36m__init__\u001b[0;34m(self, dims)\u001b[0m\n\u001b[1;32m    775\u001b[0m         \u001b[0;31m# Got a list of dimensions\u001b[0m\u001b[0;34m\u001b[0m\u001b[0;34m\u001b[0m\u001b[0;34m\u001b[0m\u001b[0m\n\u001b[0;32m--> 776\u001b[0;31m         \u001b[0mself\u001b[0m\u001b[0;34m.\u001b[0m\u001b[0m_dims\u001b[0m \u001b[0;34m=\u001b[0m \u001b[0;34m[\u001b[0m\u001b[0mas_dimension\u001b[0m\u001b[0;34m(\u001b[0m\u001b[0md\u001b[0m\u001b[0;34m)\u001b[0m \u001b[0;32mfor\u001b[0m \u001b[0md\u001b[0m \u001b[0;32min\u001b[0m \u001b[0mdims_iter\u001b[0m\u001b[0;34m]\u001b[0m\u001b[0;34m\u001b[0m\u001b[0;34m\u001b[0m\u001b[0m\n\u001b[0m\u001b[1;32m    777\u001b[0m \u001b[0;34m\u001b[0m\u001b[0m\n",
            "\u001b[0;32m/tensorflow-1.15.2/python3.7/tensorflow_core/python/framework/tensor_shape.py\u001b[0m in \u001b[0;36m<listcomp>\u001b[0;34m(.0)\u001b[0m\n\u001b[1;32m    775\u001b[0m         \u001b[0;31m# Got a list of dimensions\u001b[0m\u001b[0;34m\u001b[0m\u001b[0;34m\u001b[0m\u001b[0;34m\u001b[0m\u001b[0m\n\u001b[0;32m--> 776\u001b[0;31m         \u001b[0mself\u001b[0m\u001b[0;34m.\u001b[0m\u001b[0m_dims\u001b[0m \u001b[0;34m=\u001b[0m \u001b[0;34m[\u001b[0m\u001b[0mas_dimension\u001b[0m\u001b[0;34m(\u001b[0m\u001b[0md\u001b[0m\u001b[0;34m)\u001b[0m \u001b[0;32mfor\u001b[0m \u001b[0md\u001b[0m \u001b[0;32min\u001b[0m \u001b[0mdims_iter\u001b[0m\u001b[0;34m]\u001b[0m\u001b[0;34m\u001b[0m\u001b[0;34m\u001b[0m\u001b[0m\n\u001b[0m\u001b[1;32m    777\u001b[0m \u001b[0;34m\u001b[0m\u001b[0m\n",
            "\u001b[0;32m/tensorflow-1.15.2/python3.7/tensorflow_core/python/framework/tensor_shape.py\u001b[0m in \u001b[0;36mas_dimension\u001b[0;34m(value)\u001b[0m\n\u001b[1;32m    717\u001b[0m   \u001b[0;32melse\u001b[0m\u001b[0;34m:\u001b[0m\u001b[0;34m\u001b[0m\u001b[0;34m\u001b[0m\u001b[0m\n\u001b[0;32m--> 718\u001b[0;31m     \u001b[0;32mreturn\u001b[0m \u001b[0mDimension\u001b[0m\u001b[0;34m(\u001b[0m\u001b[0mvalue\u001b[0m\u001b[0;34m)\u001b[0m\u001b[0;34m\u001b[0m\u001b[0;34m\u001b[0m\u001b[0m\n\u001b[0m\u001b[1;32m    719\u001b[0m \u001b[0;34m\u001b[0m\u001b[0m\n",
            "\u001b[0;32m/tensorflow-1.15.2/python3.7/tensorflow_core/python/framework/tensor_shape.py\u001b[0m in \u001b[0;36m__init__\u001b[0;34m(self, value)\u001b[0m\n\u001b[1;32m    192\u001b[0m     \u001b[0;32melse\u001b[0m\u001b[0;34m:\u001b[0m\u001b[0;34m\u001b[0m\u001b[0;34m\u001b[0m\u001b[0m\n\u001b[0;32m--> 193\u001b[0;31m       \u001b[0mself\u001b[0m\u001b[0;34m.\u001b[0m\u001b[0m_value\u001b[0m \u001b[0;34m=\u001b[0m \u001b[0mint\u001b[0m\u001b[0;34m(\u001b[0m\u001b[0mvalue\u001b[0m\u001b[0;34m)\u001b[0m\u001b[0;34m\u001b[0m\u001b[0;34m\u001b[0m\u001b[0m\n\u001b[0m\u001b[1;32m    194\u001b[0m       if (not isinstance(value, compat.bytes_or_text_types) and\n",
            "\u001b[0;31mValueError\u001b[0m: invalid literal for int() with base 10: 'o'",
            "\nDuring handling of the above exception, another exception occurred:\n",
            "\u001b[0;31mValueError\u001b[0m                                Traceback (most recent call last)",
            "\u001b[0;32m<ipython-input-17-c7bc734e5e35>\u001b[0m in \u001b[0;36m<module>\u001b[0;34m()\u001b[0m\n\u001b[1;32m      1\u001b[0m \u001b[0;32mif\u001b[0m \u001b[0m__name__\u001b[0m \u001b[0;34m==\u001b[0m \u001b[0;34m'__main__'\u001b[0m\u001b[0;34m:\u001b[0m\u001b[0;34m\u001b[0m\u001b[0;34m\u001b[0m\u001b[0m\n\u001b[0;32m----> 2\u001b[0;31m     \u001b[0mmain\u001b[0m\u001b[0;34m(\u001b[0m\u001b[0;34m)\u001b[0m\u001b[0;34m\u001b[0m\u001b[0;34m\u001b[0m\u001b[0m\n\u001b[0m",
            "\u001b[0;32m<ipython-input-16-36fbc93e498d>\u001b[0m in \u001b[0;36mmain\u001b[0;34m()\u001b[0m\n\u001b[1;32m     19\u001b[0m         \u001b[0mgenerator\u001b[0m\u001b[0;34m=\u001b[0m\u001b[0mgenerator\u001b[0m\u001b[0;34m,\u001b[0m\u001b[0;34m\u001b[0m\u001b[0;34m\u001b[0m\u001b[0m\n\u001b[1;32m     20\u001b[0m         \u001b[0mdiscriminator\u001b[0m\u001b[0;34m=\u001b[0m\u001b[0mdiscriminator\u001b[0m\u001b[0;34m,\u001b[0m\u001b[0;34m\u001b[0m\u001b[0;34m\u001b[0m\u001b[0m\n\u001b[0;32m---> 21\u001b[0;31m         latent_dim=latent_dim)\n\u001b[0m",
            "\u001b[0;32m<ipython-input-15-4777c6410891>\u001b[0m in \u001b[0;36mexample_gan\u001b[0;34m(adversarial_optimizer, path, opt_g, opt_d, nb_epoch, generator, discriminator, latent_dim, targets, loss)\u001b[0m\n\u001b[1;32m     76\u001b[0m     )\n\u001b[1;32m     77\u001b[0m     model_discriminator(\n\u001b[0;32m---> 78\u001b[0;31m         \u001b[0mos\u001b[0m\u001b[0;34m.\u001b[0m\u001b[0mpath\u001b[0m\u001b[0;34m.\u001b[0m\u001b[0mjoin\u001b[0m\u001b[0;34m(\u001b[0m\u001b[0mpath\u001b[0m\u001b[0;34m,\u001b[0m \u001b[0;34m'discriminator.h5'\u001b[0m\u001b[0;34m)\u001b[0m\u001b[0;34m\u001b[0m\u001b[0;34m\u001b[0m\u001b[0m\n\u001b[0m\u001b[1;32m     79\u001b[0m     )\n",
            "\u001b[0;32m<ipython-input-14-6758106ae4f0>\u001b[0m in \u001b[0;36mmodel_discriminator\u001b[0;34m(input_shape, hidden_dim, reg, output_activation)\u001b[0m\n\u001b[1;32m     10\u001b[0m                        \u001b[0mDense\u001b[0m\u001b[0;34m(\u001b[0m\u001b[0;36m1\u001b[0m\u001b[0;34m,\u001b[0m \u001b[0mname\u001b[0m\u001b[0;34m=\u001b[0m\u001b[0;34m'discriminator_y'\u001b[0m\u001b[0;34m,\u001b[0m \u001b[0mW_regularizer\u001b[0m\u001b[0;34m=\u001b[0m\u001b[0mreg\u001b[0m\u001b[0;34m(\u001b[0m\u001b[0;34m)\u001b[0m\u001b[0;34m)\u001b[0m\u001b[0;34m,\u001b[0m\u001b[0;34m\u001b[0m\u001b[0;34m\u001b[0m\u001b[0m\n\u001b[1;32m     11\u001b[0m                        \u001b[0mActivation\u001b[0m\u001b[0;34m(\u001b[0m\u001b[0moutput_activation\u001b[0m\u001b[0;34m)\u001b[0m\u001b[0;34m\u001b[0m\u001b[0;34m\u001b[0m\u001b[0m\n\u001b[0;32m---> 12\u001b[0;31m     ], name='discriminator')\n\u001b[0m",
            "\u001b[0;32m/usr/local/lib/python3.7/dist-packages/keras/models.py\u001b[0m in \u001b[0;36m__init__\u001b[0;34m(self, layers, name)\u001b[0m\n\u001b[1;32m    406\u001b[0m         \u001b[0;32mif\u001b[0m \u001b[0mlayers\u001b[0m\u001b[0;34m:\u001b[0m\u001b[0;34m\u001b[0m\u001b[0;34m\u001b[0m\u001b[0m\n\u001b[1;32m    407\u001b[0m             \u001b[0;32mfor\u001b[0m \u001b[0mlayer\u001b[0m \u001b[0;32min\u001b[0m \u001b[0mlayers\u001b[0m\u001b[0;34m:\u001b[0m\u001b[0;34m\u001b[0m\u001b[0;34m\u001b[0m\u001b[0m\n\u001b[0;32m--> 408\u001b[0;31m                 \u001b[0mself\u001b[0m\u001b[0;34m.\u001b[0m\u001b[0madd\u001b[0m\u001b[0;34m(\u001b[0m\u001b[0mlayer\u001b[0m\u001b[0;34m)\u001b[0m\u001b[0;34m\u001b[0m\u001b[0;34m\u001b[0m\u001b[0m\n\u001b[0m\u001b[1;32m    409\u001b[0m \u001b[0;34m\u001b[0m\u001b[0m\n\u001b[1;32m    410\u001b[0m     \u001b[0;32mdef\u001b[0m \u001b[0madd\u001b[0m\u001b[0;34m(\u001b[0m\u001b[0mself\u001b[0m\u001b[0;34m,\u001b[0m \u001b[0mlayer\u001b[0m\u001b[0;34m)\u001b[0m\u001b[0;34m:\u001b[0m\u001b[0;34m\u001b[0m\u001b[0;34m\u001b[0m\u001b[0m\n",
            "\u001b[0;32m/usr/local/lib/python3.7/dist-packages/keras/models.py\u001b[0m in \u001b[0;36madd\u001b[0;34m(self, layer)\u001b[0m\n\u001b[1;32m    458\u001b[0m                 x = Input(batch_shape=batch_shape,\n\u001b[1;32m    459\u001b[0m                           \u001b[0mdtype\u001b[0m\u001b[0;34m=\u001b[0m\u001b[0mdtype\u001b[0m\u001b[0;34m,\u001b[0m\u001b[0;34m\u001b[0m\u001b[0;34m\u001b[0m\u001b[0m\n\u001b[0;32m--> 460\u001b[0;31m                           name=layer.name + '_input')\n\u001b[0m\u001b[1;32m    461\u001b[0m                 \u001b[0;31m# This will build the current layer\u001b[0m\u001b[0;34m\u001b[0m\u001b[0;34m\u001b[0m\u001b[0;34m\u001b[0m\u001b[0m\n\u001b[1;32m    462\u001b[0m                 \u001b[0;31m# and create the node connecting the current layer\u001b[0m\u001b[0;34m\u001b[0m\u001b[0;34m\u001b[0m\u001b[0;34m\u001b[0m\u001b[0m\n",
            "\u001b[0;32m/usr/local/lib/python3.7/dist-packages/keras/engine/topology.py\u001b[0m in \u001b[0;36mInput\u001b[0;34m(shape, batch_shape, name, dtype, sparse, tensor)\u001b[0m\n\u001b[1;32m   1437\u001b[0m                              \u001b[0mname\u001b[0m\u001b[0;34m=\u001b[0m\u001b[0mname\u001b[0m\u001b[0;34m,\u001b[0m \u001b[0mdtype\u001b[0m\u001b[0;34m=\u001b[0m\u001b[0mdtype\u001b[0m\u001b[0;34m,\u001b[0m\u001b[0;34m\u001b[0m\u001b[0;34m\u001b[0m\u001b[0m\n\u001b[1;32m   1438\u001b[0m                              \u001b[0msparse\u001b[0m\u001b[0;34m=\u001b[0m\u001b[0msparse\u001b[0m\u001b[0;34m,\u001b[0m\u001b[0;34m\u001b[0m\u001b[0;34m\u001b[0m\u001b[0m\n\u001b[0;32m-> 1439\u001b[0;31m                              input_tensor=tensor)\n\u001b[0m\u001b[1;32m   1440\u001b[0m     \u001b[0;31m# Return tensor including _keras_shape and _keras_history.\u001b[0m\u001b[0;34m\u001b[0m\u001b[0;34m\u001b[0m\u001b[0;34m\u001b[0m\u001b[0m\n\u001b[1;32m   1441\u001b[0m     \u001b[0;31m# Note that in this case train_output and test_output are the same pointer.\u001b[0m\u001b[0;34m\u001b[0m\u001b[0;34m\u001b[0m\u001b[0;34m\u001b[0m\u001b[0m\n",
            "\u001b[0;32m/usr/local/lib/python3.7/dist-packages/keras/legacy/interfaces.py\u001b[0m in \u001b[0;36mwrapper\u001b[0;34m(*args, **kwargs)\u001b[0m\n\u001b[1;32m     85\u001b[0m                 warnings.warn('Update your `' + object_name +\n\u001b[1;32m     86\u001b[0m                               '` call to the Keras 2 API: ' + signature, stacklevel=2)\n\u001b[0;32m---> 87\u001b[0;31m             \u001b[0;32mreturn\u001b[0m \u001b[0mfunc\u001b[0m\u001b[0;34m(\u001b[0m\u001b[0;34m*\u001b[0m\u001b[0margs\u001b[0m\u001b[0;34m,\u001b[0m \u001b[0;34m**\u001b[0m\u001b[0mkwargs\u001b[0m\u001b[0;34m)\u001b[0m\u001b[0;34m\u001b[0m\u001b[0;34m\u001b[0m\u001b[0m\n\u001b[0m\u001b[1;32m     88\u001b[0m         \u001b[0mwrapper\u001b[0m\u001b[0;34m.\u001b[0m\u001b[0m_original_function\u001b[0m \u001b[0;34m=\u001b[0m \u001b[0mfunc\u001b[0m\u001b[0;34m\u001b[0m\u001b[0;34m\u001b[0m\u001b[0m\n\u001b[1;32m     89\u001b[0m         \u001b[0;32mreturn\u001b[0m \u001b[0mwrapper\u001b[0m\u001b[0;34m\u001b[0m\u001b[0;34m\u001b[0m\u001b[0m\n",
            "\u001b[0;32m/usr/local/lib/python3.7/dist-packages/keras/engine/topology.py\u001b[0m in \u001b[0;36m__init__\u001b[0;34m(self, input_shape, batch_size, batch_input_shape, dtype, input_tensor, sparse, name)\u001b[0m\n\u001b[1;32m   1346\u001b[0m                                          \u001b[0mdtype\u001b[0m\u001b[0;34m=\u001b[0m\u001b[0mdtype\u001b[0m\u001b[0;34m,\u001b[0m\u001b[0;34m\u001b[0m\u001b[0;34m\u001b[0m\u001b[0m\n\u001b[1;32m   1347\u001b[0m                                          \u001b[0msparse\u001b[0m\u001b[0;34m=\u001b[0m\u001b[0mself\u001b[0m\u001b[0;34m.\u001b[0m\u001b[0msparse\u001b[0m\u001b[0;34m,\u001b[0m\u001b[0;34m\u001b[0m\u001b[0;34m\u001b[0m\u001b[0m\n\u001b[0;32m-> 1348\u001b[0;31m                                          name=self.name)\n\u001b[0m\u001b[1;32m   1349\u001b[0m         \u001b[0;32melse\u001b[0m\u001b[0;34m:\u001b[0m\u001b[0;34m\u001b[0m\u001b[0;34m\u001b[0m\u001b[0m\n\u001b[1;32m   1350\u001b[0m             \u001b[0mself\u001b[0m\u001b[0;34m.\u001b[0m\u001b[0mis_placeholder\u001b[0m \u001b[0;34m=\u001b[0m \u001b[0;32mFalse\u001b[0m\u001b[0;34m\u001b[0m\u001b[0;34m\u001b[0m\u001b[0m\n",
            "\u001b[0;32m/usr/local/lib/python3.7/dist-packages/keras/backend/tensorflow_backend.py\u001b[0m in \u001b[0;36mplaceholder\u001b[0;34m(shape, ndim, dtype, sparse, name)\u001b[0m\n\u001b[1;32m    495\u001b[0m         \u001b[0mx\u001b[0m \u001b[0;34m=\u001b[0m \u001b[0mtf\u001b[0m\u001b[0;34m.\u001b[0m\u001b[0msparse_placeholder\u001b[0m\u001b[0;34m(\u001b[0m\u001b[0mdtype\u001b[0m\u001b[0;34m,\u001b[0m \u001b[0mshape\u001b[0m\u001b[0;34m=\u001b[0m\u001b[0mshape\u001b[0m\u001b[0;34m,\u001b[0m \u001b[0mname\u001b[0m\u001b[0;34m=\u001b[0m\u001b[0mname\u001b[0m\u001b[0;34m)\u001b[0m\u001b[0;34m\u001b[0m\u001b[0;34m\u001b[0m\u001b[0m\n\u001b[1;32m    496\u001b[0m     \u001b[0;32melse\u001b[0m\u001b[0;34m:\u001b[0m\u001b[0;34m\u001b[0m\u001b[0;34m\u001b[0m\u001b[0m\n\u001b[0;32m--> 497\u001b[0;31m         \u001b[0mx\u001b[0m \u001b[0;34m=\u001b[0m \u001b[0mtf\u001b[0m\u001b[0;34m.\u001b[0m\u001b[0mplaceholder\u001b[0m\u001b[0;34m(\u001b[0m\u001b[0mdtype\u001b[0m\u001b[0;34m,\u001b[0m \u001b[0mshape\u001b[0m\u001b[0;34m=\u001b[0m\u001b[0mshape\u001b[0m\u001b[0;34m,\u001b[0m \u001b[0mname\u001b[0m\u001b[0;34m=\u001b[0m\u001b[0mname\u001b[0m\u001b[0;34m)\u001b[0m\u001b[0;34m\u001b[0m\u001b[0;34m\u001b[0m\u001b[0m\n\u001b[0m\u001b[1;32m    498\u001b[0m     \u001b[0mx\u001b[0m\u001b[0;34m.\u001b[0m\u001b[0m_keras_shape\u001b[0m \u001b[0;34m=\u001b[0m \u001b[0mshape\u001b[0m\u001b[0;34m\u001b[0m\u001b[0;34m\u001b[0m\u001b[0m\n\u001b[1;32m    499\u001b[0m     \u001b[0mx\u001b[0m\u001b[0;34m.\u001b[0m\u001b[0m_uses_learning_phase\u001b[0m \u001b[0;34m=\u001b[0m \u001b[0;32mFalse\u001b[0m\u001b[0;34m\u001b[0m\u001b[0;34m\u001b[0m\u001b[0m\n",
            "\u001b[0;32m/tensorflow-1.15.2/python3.7/tensorflow_core/python/ops/array_ops.py\u001b[0m in \u001b[0;36mplaceholder\u001b[0;34m(dtype, shape, name)\u001b[0m\n\u001b[1;32m   2617\u001b[0m                        \"eager execution.\")\n\u001b[1;32m   2618\u001b[0m \u001b[0;34m\u001b[0m\u001b[0m\n\u001b[0;32m-> 2619\u001b[0;31m   \u001b[0;32mreturn\u001b[0m \u001b[0mgen_array_ops\u001b[0m\u001b[0;34m.\u001b[0m\u001b[0mplaceholder\u001b[0m\u001b[0;34m(\u001b[0m\u001b[0mdtype\u001b[0m\u001b[0;34m=\u001b[0m\u001b[0mdtype\u001b[0m\u001b[0;34m,\u001b[0m \u001b[0mshape\u001b[0m\u001b[0;34m=\u001b[0m\u001b[0mshape\u001b[0m\u001b[0;34m,\u001b[0m \u001b[0mname\u001b[0m\u001b[0;34m=\u001b[0m\u001b[0mname\u001b[0m\u001b[0;34m)\u001b[0m\u001b[0;34m\u001b[0m\u001b[0;34m\u001b[0m\u001b[0m\n\u001b[0m\u001b[1;32m   2620\u001b[0m \u001b[0;34m\u001b[0m\u001b[0m\n\u001b[1;32m   2621\u001b[0m \u001b[0;34m\u001b[0m\u001b[0m\n",
            "\u001b[0;32m/tensorflow-1.15.2/python3.7/tensorflow_core/python/ops/gen_array_ops.py\u001b[0m in \u001b[0;36mplaceholder\u001b[0;34m(dtype, shape, name)\u001b[0m\n\u001b[1;32m   6665\u001b[0m   \u001b[0;32mif\u001b[0m \u001b[0mshape\u001b[0m \u001b[0;32mis\u001b[0m \u001b[0;32mNone\u001b[0m\u001b[0;34m:\u001b[0m\u001b[0;34m\u001b[0m\u001b[0;34m\u001b[0m\u001b[0m\n\u001b[1;32m   6666\u001b[0m     \u001b[0mshape\u001b[0m \u001b[0;34m=\u001b[0m \u001b[0;32mNone\u001b[0m\u001b[0;34m\u001b[0m\u001b[0;34m\u001b[0m\u001b[0m\n\u001b[0;32m-> 6667\u001b[0;31m   \u001b[0mshape\u001b[0m \u001b[0;34m=\u001b[0m \u001b[0m_execute\u001b[0m\u001b[0;34m.\u001b[0m\u001b[0mmake_shape\u001b[0m\u001b[0;34m(\u001b[0m\u001b[0mshape\u001b[0m\u001b[0;34m,\u001b[0m \u001b[0;34m\"shape\"\u001b[0m\u001b[0;34m)\u001b[0m\u001b[0;34m\u001b[0m\u001b[0;34m\u001b[0m\u001b[0m\n\u001b[0m\u001b[1;32m   6668\u001b[0m   _, _, _op = _op_def_lib._apply_op_helper(\n\u001b[1;32m   6669\u001b[0m         \"Placeholder\", dtype=dtype, shape=shape, name=name)\n",
            "\u001b[0;32m/tensorflow-1.15.2/python3.7/tensorflow_core/python/eager/execute.py\u001b[0m in \u001b[0;36mmake_shape\u001b[0;34m(v, arg_name)\u001b[0m\n\u001b[1;32m    209\u001b[0m   \u001b[0;32mexcept\u001b[0m \u001b[0mValueError\u001b[0m \u001b[0;32mas\u001b[0m \u001b[0me\u001b[0m\u001b[0;34m:\u001b[0m\u001b[0;34m\u001b[0m\u001b[0;34m\u001b[0m\u001b[0m\n\u001b[1;32m    210\u001b[0m     raise ValueError(\"Error converting %s to a TensorShape: %s.\" % (arg_name,\n\u001b[0;32m--> 211\u001b[0;31m                                                                     e))\n\u001b[0m\u001b[1;32m    212\u001b[0m   \u001b[0;32mif\u001b[0m \u001b[0mshape\u001b[0m\u001b[0;34m.\u001b[0m\u001b[0mndims\u001b[0m \u001b[0;32mis\u001b[0m \u001b[0;32mNone\u001b[0m\u001b[0;34m:\u001b[0m\u001b[0;34m\u001b[0m\u001b[0;34m\u001b[0m\u001b[0m\n\u001b[1;32m    213\u001b[0m     \u001b[0;32mreturn\u001b[0m \u001b[0;32mNone\u001b[0m\u001b[0;34m\u001b[0m\u001b[0;34m\u001b[0m\u001b[0m\n",
            "\u001b[0;31mValueError\u001b[0m: Error converting shape to a TensorShape: invalid literal for int() with base 10: 'o'."
          ]
        }
      ]
    },
    {
      "cell_type": "code",
      "source": [
        "# importando as imagens para um arquivo zipado\n",
        "!zip -r /content/file.zip /content/output"
      ],
      "metadata": {
        "id": "3kD0rHP0HRHR",
        "outputId": "d015c719-8a3c-4c9f-aeca-8734cdb3ff68",
        "colab": {
          "base_uri": "https://localhost:8080/"
        }
      },
      "execution_count": null,
      "outputs": [
        {
          "output_type": "stream",
          "name": "stdout",
          "text": [
            "  adding: content/output/ (stored 0%)\n",
            "  adding: content/output/gan/ (stored 0%)\n",
            "  adding: content/output/gan/epoch-097.png (deflated 10%)\n",
            "  adding: content/output/gan/epoch-086.png (deflated 9%)\n",
            "  adding: content/output/gan/epoch-074.png (deflated 9%)\n",
            "  adding: content/output/gan/epoch-067.png (deflated 10%)\n",
            "  adding: content/output/gan/epoch-050.png (deflated 9%)\n",
            "  adding: content/output/gan/epoch-001.png (deflated 9%)\n",
            "  adding: content/output/gan/epoch-072.png (deflated 9%)\n",
            "  adding: content/output/gan/epoch-022.png (deflated 8%)\n",
            "  adding: content/output/gan/epoch-077.png (deflated 10%)\n",
            "  adding: content/output/gan/epoch-019.png (deflated 8%)\n",
            "  adding: content/output/gan/epoch-087.png (deflated 9%)\n",
            "  adding: content/output/gan/epoch-044.png (deflated 8%)\n",
            "  adding: content/output/gan/epoch-036.png (deflated 9%)\n",
            "  adding: content/output/gan/epoch-032.png (deflated 8%)\n",
            "  adding: content/output/gan/logs/ (stored 0%)\n",
            "  adding: content/output/gan/logs/events.out.tfevents.1642868779.de135db0a0b5 (deflated 88%)\n",
            "  adding: content/output/gan/epoch-046.png (deflated 9%)\n",
            "  adding: content/output/gan/epoch-060.png (deflated 9%)\n",
            "  adding: content/output/gan/epoch-088.png (deflated 10%)\n",
            "  adding: content/output/gan/epoch-024.png (deflated 8%)\n",
            "  adding: content/output/gan/epoch-065.png (deflated 9%)\n",
            "  adding: content/output/gan/epoch-035.png (deflated 9%)\n",
            "  adding: content/output/gan/epoch-026.png (deflated 8%)\n",
            "  adding: content/output/gan/epoch-075.png (deflated 9%)\n",
            "  adding: content/output/gan/epoch-098.png (deflated 10%)\n",
            "  adding: content/output/gan/epoch-008.png (deflated 7%)\n",
            "  adding: content/output/gan/epoch-020.png (deflated 8%)\n",
            "  adding: content/output/gan/epoch-004.png (deflated 7%)\n",
            "  adding: content/output/gan/epoch-031.png (deflated 9%)\n",
            "  adding: content/output/gan/epoch-061.png (deflated 9%)\n",
            "  adding: content/output/gan/epoch-089.png (deflated 9%)\n",
            "  adding: content/output/gan/epoch-054.png (deflated 9%)\n",
            "  adding: content/output/gan/epoch-096.png (deflated 10%)\n",
            "  adding: content/output/gan/epoch-033.png (deflated 9%)\n",
            "  adding: content/output/gan/epoch-021.png (deflated 8%)\n",
            "  adding: content/output/gan/epoch-084.png (deflated 9%)\n",
            "  adding: content/output/gan/epoch-048.png (deflated 9%)\n",
            "  adding: content/output/gan/history.csv (deflated 51%)\n",
            "  adding: content/output/gan/epoch-028.png (deflated 9%)\n",
            "  adding: content/output/gan/epoch-059.png (deflated 9%)\n",
            "  adding: content/output/gan/epoch-009.png (deflated 8%)\n",
            "  adding: content/output/gan/epoch-027.png (deflated 8%)\n",
            "  adding: content/output/gan/epoch-053.png (deflated 9%)\n",
            "  adding: content/output/gan/epoch-034.png (deflated 9%)\n",
            "  adding: content/output/gan/epoch-083.png (deflated 9%)\n",
            "  adding: content/output/gan/epoch-079.png (deflated 10%)\n",
            "  adding: content/output/gan/epoch-000.png (deflated 5%)\n",
            "  adding: content/output/gan/epoch-090.png (deflated 9%)\n",
            "  adding: content/output/gan/epoch-078.png (deflated 10%)\n",
            "  adding: content/output/gan/epoch-051.png (deflated 9%)\n",
            "  adding: content/output/gan/epoch-057.png (deflated 9%)\n",
            "  adding: content/output/gan/epoch-010.png (deflated 8%)\n",
            "  adding: content/output/gan/epoch-037.png (deflated 9%)\n",
            "  adding: content/output/gan/epoch-025.png (deflated 8%)\n",
            "  adding: content/output/gan/epoch-029.png (deflated 9%)\n",
            "  adding: content/output/gan/epoch-002.png (deflated 8%)\n",
            "  adding: content/output/gan/epoch-099.png (deflated 10%)\n",
            "  adding: content/output/gan/generator.h5 (deflated 5%)\n",
            "  adding: content/output/gan/epoch-047.png (deflated 9%)\n",
            "  adding: content/output/gan/epoch-091.png (deflated 10%)\n",
            "  adding: content/output/gan/epoch-063.png (deflated 10%)\n",
            "  adding: content/output/gan/epoch-085.png (deflated 9%)\n",
            "  adding: content/output/gan/epoch-073.png (deflated 9%)\n",
            "  adding: content/output/gan/epoch-030.png (deflated 9%)\n",
            "  adding: content/output/gan/epoch-062.png (deflated 9%)\n",
            "  adding: content/output/gan/epoch-068.png (deflated 9%)\n",
            "  adding: content/output/gan/epoch-052.png (deflated 9%)\n",
            "  adding: content/output/gan/epoch-043.png (deflated 8%)\n",
            "  adding: content/output/gan/epoch-040.png (deflated 9%)\n",
            "  adding: content/output/gan/epoch-056.png (deflated 9%)\n",
            "  adding: content/output/gan/epoch-055.png (deflated 9%)\n",
            "  adding: content/output/gan/epoch-094.png (deflated 9%)\n",
            "  adding: content/output/gan/epoch-070.png (deflated 9%)\n",
            "  adding: content/output/gan/epoch-011.png (deflated 8%)\n",
            "  adding: content/output/gan/epoch-041.png (deflated 9%)\n",
            "  adding: content/output/gan/epoch-016.png (deflated 8%)\n",
            "  adding: content/output/gan/epoch-038.png (deflated 9%)\n",
            "  adding: content/output/gan/epoch-093.png (deflated 10%)\n",
            "  adding: content/output/gan/epoch-005.png (deflated 8%)\n",
            "  adding: content/output/gan/epoch-049.png (deflated 9%)\n",
            "  adding: content/output/gan/epoch-064.png (deflated 9%)\n",
            "  adding: content/output/gan/epoch-007.png (deflated 8%)\n",
            "  adding: content/output/gan/epoch-017.png (deflated 8%)\n",
            "  adding: content/output/gan/epoch-042.png (deflated 8%)\n",
            "  adding: content/output/gan/epoch-092.png (deflated 10%)\n",
            "  adding: content/output/gan/epoch-076.png (deflated 9%)\n",
            "  adding: content/output/gan/epoch-015.png (deflated 9%)\n",
            "  adding: content/output/gan/epoch-080.png (deflated 10%)\n",
            "  adding: content/output/gan/epoch-082.png (deflated 9%)\n",
            "  adding: content/output/gan/epoch-045.png (deflated 9%)\n",
            "  adding: content/output/gan/epoch-071.png (deflated 9%)\n",
            "  adding: content/output/gan/epoch-012.png (deflated 8%)\n",
            "  adding: content/output/gan/epoch-069.png (deflated 9%)\n",
            "  adding: content/output/gan/epoch-013.png (deflated 8%)\n",
            "  adding: content/output/gan/epoch-014.png (deflated 8%)\n",
            "  adding: content/output/gan/epoch-023.png (deflated 9%)\n",
            "  adding: content/output/gan/epoch-066.png (deflated 9%)\n",
            "  adding: content/output/gan/epoch-095.png (deflated 10%)\n",
            "  adding: content/output/gan/epoch-018.png (deflated 9%)\n",
            "  adding: content/output/gan/epoch-058.png (deflated 9%)\n",
            "  adding: content/output/gan/epoch-003.png (deflated 8%)\n",
            "  adding: content/output/gan/epoch-039.png (deflated 9%)\n",
            "  adding: content/output/gan/epoch-081.png (deflated 9%)\n",
            "  adding: content/output/gan/epoch-006.png (deflated 7%)\n"
          ]
        }
      ]
    },
    {
      "cell_type": "code",
      "source": [
        "# realizando o download do arquivo\n",
        "from google.colab import files\n",
        "files.download('/content/file.zip')"
      ],
      "metadata": {
        "id": "QeKtrSUeHREg",
        "outputId": "e72b303d-b4e9-4fe1-ef9c-7f864a501488",
        "colab": {
          "base_uri": "https://localhost:8080/",
          "height": 17
        }
      },
      "execution_count": 20,
      "outputs": [
        {
          "output_type": "display_data",
          "data": {
            "application/javascript": [
              "\n",
              "    async function download(id, filename, size) {\n",
              "      if (!google.colab.kernel.accessAllowed) {\n",
              "        return;\n",
              "      }\n",
              "      const div = document.createElement('div');\n",
              "      const label = document.createElement('label');\n",
              "      label.textContent = `Downloading \"${filename}\": `;\n",
              "      div.appendChild(label);\n",
              "      const progress = document.createElement('progress');\n",
              "      progress.max = size;\n",
              "      div.appendChild(progress);\n",
              "      document.body.appendChild(div);\n",
              "\n",
              "      const buffers = [];\n",
              "      let downloaded = 0;\n",
              "\n",
              "      const channel = await google.colab.kernel.comms.open(id);\n",
              "      // Send a message to notify the kernel that we're ready.\n",
              "      channel.send({})\n",
              "\n",
              "      for await (const message of channel.messages) {\n",
              "        // Send a message to notify the kernel that we're ready.\n",
              "        channel.send({})\n",
              "        if (message.buffers) {\n",
              "          for (const buffer of message.buffers) {\n",
              "            buffers.push(buffer);\n",
              "            downloaded += buffer.byteLength;\n",
              "            progress.value = downloaded;\n",
              "          }\n",
              "        }\n",
              "      }\n",
              "      const blob = new Blob(buffers, {type: 'application/binary'});\n",
              "      const a = document.createElement('a');\n",
              "      a.href = window.URL.createObjectURL(blob);\n",
              "      a.download = filename;\n",
              "      div.appendChild(a);\n",
              "      a.click();\n",
              "      div.remove();\n",
              "    }\n",
              "  "
            ],
            "text/plain": [
              "<IPython.core.display.Javascript object>"
            ]
          },
          "metadata": {}
        },
        {
          "output_type": "display_data",
          "data": {
            "application/javascript": [
              "download(\"download_ac77430b-2470-482a-9879-8dea443ebeb4\", \"file.zip\", 17586885)"
            ],
            "text/plain": [
              "<IPython.core.display.Javascript object>"
            ]
          },
          "metadata": {}
        }
      ]
    },
    {
      "cell_type": "code",
      "source": [
        ""
      ],
      "metadata": {
        "id": "JHOR9gjdnLD7"
      },
      "execution_count": null,
      "outputs": []
    },
    {
      "cell_type": "code",
      "source": [
        ""
      ],
      "metadata": {
        "id": "mle1isKXnLAj"
      },
      "execution_count": null,
      "outputs": []
    },
    {
      "cell_type": "code",
      "source": [
        ""
      ],
      "metadata": {
        "id": "RvJqCyidXOV6"
      },
      "execution_count": null,
      "outputs": []
    }
  ]
}