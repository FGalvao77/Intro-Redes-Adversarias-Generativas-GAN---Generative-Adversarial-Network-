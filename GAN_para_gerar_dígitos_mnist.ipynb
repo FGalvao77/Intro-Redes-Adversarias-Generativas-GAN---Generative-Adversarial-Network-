{
  "nbformat": 4,
  "nbformat_minor": 0,
  "metadata": {
    "colab": {
      "name": "GAN para gerar dígitos mnist",
      "provenance": [],
      "collapsed_sections": [],
      "include_colab_link": true
    },
    "kernelspec": {
      "name": "python3",
      "display_name": "Python 3"
    },
    "accelerator": "GPU"
  },
  "cells": [
    {
      "cell_type": "markdown",
      "metadata": {
        "id": "view-in-github",
        "colab_type": "text"
      },
      "source": [
        "<a href=\"https://colab.research.google.com/github/FGalvao77/Intro-Redes-Adversarias-Generativas-GAN---Generative-Adversarial-Network-/blob/main/GAN_para_gerar_d%C3%ADgitos_mnist.ipynb\" target=\"_parent\"><img src=\"https://colab.research.google.com/assets/colab-badge.svg\" alt=\"Open In Colab\"/></a>"
      ]
    },
    {
      "cell_type": "code",
      "source": [
        "!pip install keras==2.1.2"
      ],
      "metadata": {
        "colab": {
          "base_uri": "https://localhost:8080/"
        },
        "id": "ayf2itvST5Mr",
        "outputId": "c4866ca7-2772-456d-bd72-5446c4795b4f"
      },
      "execution_count": null,
      "outputs": [
        {
          "output_type": "stream",
          "name": "stdout",
          "text": [
            "Requirement already satisfied: keras==2.1.2 in /usr/local/lib/python3.7/dist-packages (2.1.2)\n",
            "Requirement already satisfied: pyyaml in /usr/local/lib/python3.7/dist-packages (from keras==2.1.2) (3.13)\n",
            "Requirement already satisfied: numpy>=1.9.1 in /usr/local/lib/python3.7/dist-packages (from keras==2.1.2) (1.19.5)\n",
            "Requirement already satisfied: six>=1.9.0 in /usr/local/lib/python3.7/dist-packages (from keras==2.1.2) (1.15.0)\n",
            "Requirement already satisfied: scipy>=0.14 in /usr/local/lib/python3.7/dist-packages (from keras==2.1.2) (1.4.1)\n"
          ]
        }
      ]
    },
    {
      "cell_type": "code",
      "source": [
        "!pip install tensorflow==1.13.1"
      ],
      "metadata": {
        "colab": {
          "base_uri": "https://localhost:8080/"
        },
        "id": "i1XhZpylUKvy",
        "outputId": "7beeec6a-3f5a-4154-b659-02ed02f26491"
      },
      "execution_count": null,
      "outputs": [
        {
          "output_type": "stream",
          "name": "stdout",
          "text": [
            "Requirement already satisfied: tensorflow==1.13.1 in /usr/local/lib/python3.7/dist-packages (1.13.1)\n",
            "Requirement already satisfied: grpcio>=1.8.6 in /usr/local/lib/python3.7/dist-packages (from tensorflow==1.13.1) (1.43.0)\n",
            "Requirement already satisfied: wheel>=0.26 in /usr/local/lib/python3.7/dist-packages (from tensorflow==1.13.1) (0.37.1)\n",
            "Requirement already satisfied: astor>=0.6.0 in /usr/local/lib/python3.7/dist-packages (from tensorflow==1.13.1) (0.8.1)\n",
            "Requirement already satisfied: six>=1.10.0 in /usr/local/lib/python3.7/dist-packages (from tensorflow==1.13.1) (1.15.0)\n",
            "Requirement already satisfied: protobuf>=3.6.1 in /usr/local/lib/python3.7/dist-packages (from tensorflow==1.13.1) (3.17.3)\n",
            "Requirement already satisfied: termcolor>=1.1.0 in /usr/local/lib/python3.7/dist-packages (from tensorflow==1.13.1) (1.1.0)\n",
            "Requirement already satisfied: absl-py>=0.1.6 in /usr/local/lib/python3.7/dist-packages (from tensorflow==1.13.1) (0.12.0)\n",
            "Requirement already satisfied: gast>=0.2.0 in /usr/local/lib/python3.7/dist-packages (from tensorflow==1.13.1) (0.4.0)\n",
            "Requirement already satisfied: tensorflow-estimator<1.14.0rc0,>=1.13.0 in /usr/local/lib/python3.7/dist-packages (from tensorflow==1.13.1) (1.13.0)\n",
            "Requirement already satisfied: tensorboard<1.14.0,>=1.13.0 in /usr/local/lib/python3.7/dist-packages (from tensorflow==1.13.1) (1.13.1)\n",
            "Requirement already satisfied: keras-applications>=1.0.6 in /usr/local/lib/python3.7/dist-packages (from tensorflow==1.13.1) (1.0.8)\n",
            "Requirement already satisfied: keras-preprocessing>=1.0.5 in /usr/local/lib/python3.7/dist-packages (from tensorflow==1.13.1) (1.1.2)\n",
            "Requirement already satisfied: numpy>=1.13.3 in /usr/local/lib/python3.7/dist-packages (from tensorflow==1.13.1) (1.19.5)\n",
            "Requirement already satisfied: h5py in /usr/local/lib/python3.7/dist-packages (from keras-applications>=1.0.6->tensorflow==1.13.1) (3.1.0)\n",
            "Requirement already satisfied: markdown>=2.6.8 in /usr/local/lib/python3.7/dist-packages (from tensorboard<1.14.0,>=1.13.0->tensorflow==1.13.1) (3.3.6)\n",
            "Requirement already satisfied: werkzeug>=0.11.15 in /usr/local/lib/python3.7/dist-packages (from tensorboard<1.14.0,>=1.13.0->tensorflow==1.13.1) (1.0.1)\n",
            "Requirement already satisfied: importlib-metadata>=4.4 in /usr/local/lib/python3.7/dist-packages (from markdown>=2.6.8->tensorboard<1.14.0,>=1.13.0->tensorflow==1.13.1) (4.10.0)\n",
            "Requirement already satisfied: typing-extensions>=3.6.4 in /usr/local/lib/python3.7/dist-packages (from importlib-metadata>=4.4->markdown>=2.6.8->tensorboard<1.14.0,>=1.13.0->tensorflow==1.13.1) (3.10.0.2)\n",
            "Requirement already satisfied: zipp>=0.5 in /usr/local/lib/python3.7/dist-packages (from importlib-metadata>=4.4->markdown>=2.6.8->tensorboard<1.14.0,>=1.13.0->tensorflow==1.13.1) (3.7.0)\n",
            "Requirement already satisfied: mock>=2.0.0 in /usr/local/lib/python3.7/dist-packages (from tensorflow-estimator<1.14.0rc0,>=1.13.0->tensorflow==1.13.1) (4.0.3)\n",
            "Requirement already satisfied: cached-property in /usr/local/lib/python3.7/dist-packages (from h5py->keras-applications>=1.0.6->tensorflow==1.13.1) (1.5.2)\n"
          ]
        }
      ]
    },
    {
      "cell_type": "code",
      "metadata": {
        "id": "56stfcJ951uR",
        "colab": {
          "base_uri": "https://localhost:8080/"
        },
        "outputId": "66e4e614-584b-469d-f0e0-cb91c37fab0e"
      },
      "source": [
        "# example of training a gan on mnist\n",
        "from numpy import expand_dims\n",
        "from numpy import zeros\n",
        "from numpy import ones\n",
        "from numpy import vstack\n",
        "from numpy.random import randn\n",
        "from numpy.random import randint\n",
        "from keras.datasets.mnist import load_data\n",
        "from keras.optimizers import Adam\n",
        "from keras.models import Sequential\n",
        "from keras.layers import Dense\n",
        "from keras.layers import Reshape\n",
        "from keras.layers import Flatten\n",
        "from keras.layers import Conv2D\n",
        "from keras.layers import Conv2DTranspose\n",
        "from keras.layers import LeakyReLU\n",
        "from keras.layers import Dropout\n",
        "from matplotlib import pyplot\n"
      ],
      "execution_count": null,
      "outputs": [
        {
          "output_type": "stream",
          "name": "stderr",
          "text": [
            "Using TensorFlow backend.\n",
            "/usr/local/lib/python3.7/dist-packages/tensorflow/python/framework/dtypes.py:526: FutureWarning: Passing (type, 1) or '1type' as a synonym of type is deprecated; in a future version of numpy, it will be understood as (type, (1,)) / '(1,)type'.\n",
            "  _np_qint8 = np.dtype([(\"qint8\", np.int8, 1)])\n",
            "/usr/local/lib/python3.7/dist-packages/tensorflow/python/framework/dtypes.py:527: FutureWarning: Passing (type, 1) or '1type' as a synonym of type is deprecated; in a future version of numpy, it will be understood as (type, (1,)) / '(1,)type'.\n",
            "  _np_quint8 = np.dtype([(\"quint8\", np.uint8, 1)])\n",
            "/usr/local/lib/python3.7/dist-packages/tensorflow/python/framework/dtypes.py:528: FutureWarning: Passing (type, 1) or '1type' as a synonym of type is deprecated; in a future version of numpy, it will be understood as (type, (1,)) / '(1,)type'.\n",
            "  _np_qint16 = np.dtype([(\"qint16\", np.int16, 1)])\n",
            "/usr/local/lib/python3.7/dist-packages/tensorflow/python/framework/dtypes.py:529: FutureWarning: Passing (type, 1) or '1type' as a synonym of type is deprecated; in a future version of numpy, it will be understood as (type, (1,)) / '(1,)type'.\n",
            "  _np_quint16 = np.dtype([(\"quint16\", np.uint16, 1)])\n",
            "/usr/local/lib/python3.7/dist-packages/tensorflow/python/framework/dtypes.py:530: FutureWarning: Passing (type, 1) or '1type' as a synonym of type is deprecated; in a future version of numpy, it will be understood as (type, (1,)) / '(1,)type'.\n",
            "  _np_qint32 = np.dtype([(\"qint32\", np.int32, 1)])\n",
            "/usr/local/lib/python3.7/dist-packages/tensorflow/python/framework/dtypes.py:535: FutureWarning: Passing (type, 1) or '1type' as a synonym of type is deprecated; in a future version of numpy, it will be understood as (type, (1,)) / '(1,)type'.\n",
            "  np_resource = np.dtype([(\"resource\", np.ubyte, 1)])\n"
          ]
        }
      ]
    },
    {
      "cell_type": "code",
      "metadata": {
        "id": "XtrPoa_37UWa"
      },
      "source": [
        "\n",
        "# define the standalone discriminator model\n",
        "def define_discriminator(in_shape=(28,28,1)):\n",
        "\tmodel = Sequential()\n",
        "\tmodel.add(Conv2D(64, (3,3), strides=(2, 2), padding='same', input_shape=in_shape))\n",
        "\tmodel.add(LeakyReLU(alpha=0.2))\n",
        "\tmodel.add(Dropout(0.4))\n",
        "\tmodel.add(Conv2D(64, (3,3), strides=(2, 2), padding='same'))\n",
        "\tmodel.add(LeakyReLU(alpha=0.2))\n",
        "\tmodel.add(Dropout(0.4))\n",
        "\tmodel.add(Flatten())\n",
        "\tmodel.add(Dense(1, activation='sigmoid'))\n",
        "\t# compile model\n",
        "\topt = Adam(lr=0.0002, beta_1=0.5)\n",
        "\tmodel.compile(loss='binary_crossentropy', optimizer=opt, metrics=['accuracy'])\n",
        "\treturn model\n",
        "\n",
        "# define the standalone generator model\n",
        "def define_generator(latent_dim):\n",
        "\tmodel = Sequential()\n",
        "\t# foundation for 7x7 image\n",
        "\tn_nodes = 128 * 7 * 7\n",
        "\tmodel.add(Dense(n_nodes, input_dim=latent_dim))\n",
        "\tmodel.add(LeakyReLU(alpha=0.2))\n",
        "\tmodel.add(Reshape((7, 7, 128)))\n",
        "\t# upsample to 14x14\n",
        "\tmodel.add(Conv2DTranspose(128, (4,4), strides=(2,2), padding='same'))\n",
        "\tmodel.add(LeakyReLU(alpha=0.2))\n",
        "\t# upsample to 28x28\n",
        "\tmodel.add(Conv2DTranspose(128, (4,4), strides=(2,2), padding='same'))\n",
        "\tmodel.add(LeakyReLU(alpha=0.2))\n",
        "\tmodel.add(Conv2D(1, (7,7), activation='sigmoid', padding='same'))\n",
        "\treturn model\n",
        "\n",
        "# define the combined generator and discriminator model, for updating the generator\n",
        "def define_gan(g_model, d_model):\n",
        "\t# make weights in the discriminator not trainable\n",
        "\td_model.trainable = False\n",
        "\t# connect them\n",
        "\tmodel = Sequential()\n",
        "\t# add generator\n",
        "\tmodel.add(g_model)\n",
        "\t# add the discriminator\n",
        "\tmodel.add(d_model)\n",
        "\t# compile model\n",
        "\topt = Adam(lr=0.0002, beta_1=0.5)\n",
        "\tmodel.compile(loss='binary_crossentropy', optimizer=opt)\n",
        "\treturn model\n"
      ],
      "execution_count": null,
      "outputs": []
    },
    {
      "cell_type": "code",
      "metadata": {
        "id": "MhL82ALJ7XWa"
      },
      "source": [
        "\n",
        "# load and prepare mnist training images\n",
        "def load_real_samples():\n",
        "\t# load mnist dataset\n",
        "\t(trainX, _), (_, _) = load_data()\n",
        "\t# expand to 3d, e.g. add channels dimension\n",
        "\tX = expand_dims(trainX, axis=-1)\n",
        "\t# convert from unsigned ints to floats\n",
        "\tX = X.astype('float32')\n",
        "\t# scale from [0,255] to [0,1]\n",
        "\tX = X / 255.0\n",
        "\treturn X\n",
        "\n",
        "# select real samples\n",
        "def generate_real_samples(dataset, n_samples):\n",
        "\t# choose random instances\n",
        "\tix = randint(0, dataset.shape[0], n_samples)\n",
        "\t# retrieve selected images\n",
        "\tX = dataset[ix]\n",
        "\t# generate 'real' class labels (1)\n",
        "\ty = ones((n_samples, 1))\n",
        "\treturn X, y\n",
        "\n",
        "# generate points in latent space as input for the generator\n",
        "def generate_latent_points(latent_dim, n_samples):\n",
        "\t# generate points in the latent space\n",
        "\tx_input = randn(latent_dim * n_samples)\n",
        "\t# reshape into a batch of inputs for the network\n",
        "\tx_input = x_input.reshape(n_samples, latent_dim)\n",
        "\treturn x_input\n",
        "\n",
        "# use the generator to generate n fake examples, with class labels\n",
        "def generate_fake_samples(g_model, latent_dim, n_samples):\n",
        "\t# generate points in latent space\n",
        "\tx_input = generate_latent_points(latent_dim, n_samples)\n",
        "\t# predict outputs\n",
        "\tX = g_model.predict(x_input)\n",
        "\t# create 'fake' class labels (0)\n",
        "\ty = zeros((n_samples, 1))\n",
        "\treturn X, y\n",
        "\n",
        "# create and save a plot of generated images (reversed grayscale)\n",
        "def save_plot(examples, epoch, n=10):\n",
        "\t# plot images\n",
        "\tfor i in range(n * n):\n",
        "\t\t# define subplot\n",
        "\t\tpyplot.subplot(n, n, 1 + i)\n",
        "\t\t# turn off axis\n",
        "\t\tpyplot.axis('off')\n",
        "\t\t# plot raw pixel data\n",
        "\t\tpyplot.imshow(examples[i, :, :, 0], cmap='gray_r')\n",
        "\t# save plot to file\n",
        "\tfilename = 'generated_plot_e%03d.png' % (epoch+1)\n",
        "\tpyplot.savefig(filename)\n",
        "\tpyplot.close()\n",
        "\n"
      ],
      "execution_count": null,
      "outputs": []
    },
    {
      "cell_type": "code",
      "metadata": {
        "id": "t-WGNGIu7d6v"
      },
      "source": [
        "# evaluate the discriminator, plot generated images, save generator model\n",
        "def summarize_performance(epoch, g_model, d_model, dataset, latent_dim, n_samples=100):\n",
        "\t# prepare real samples\n",
        "\tX_real, y_real = generate_real_samples(dataset, n_samples)\n",
        "\t# evaluate discriminator on real examples\n",
        "\t_, acc_real = d_model.evaluate(X_real, y_real, verbose=0)\n",
        "\t# prepare fake examples\n",
        "\tx_fake, y_fake = generate_fake_samples(g_model, latent_dim, n_samples)\n",
        "\t# evaluate discriminator on fake examples\n",
        "\t_, acc_fake = d_model.evaluate(x_fake, y_fake, verbose=0)\n",
        "\t# summarize discriminator performance\n",
        "\tprint('>Accuracy real: %.0f%%, fake: %.0f%%' % (acc_real*100, acc_fake*100))\n",
        "\t# save plot\n",
        "\tsave_plot(x_fake, epoch)\n",
        "\t# save the generator model tile file\n",
        "\tfilename = 'generator_model_%03d.h5' % (epoch + 1)\n",
        "\tg_model.save(filename)\n",
        "\n",
        "# train the generator and discriminator\n",
        "def train(g_model, d_model, gan_model, dataset, latent_dim, n_epochs=100, n_batch=256):\n",
        "\tbat_per_epo = int(dataset.shape[0] / n_batch)\n",
        "\thalf_batch = int(n_batch / 2)\n",
        "\t# manually enumerate epochs\n",
        "\tfor i in range(n_epochs):\n",
        "\t\t# enumerate batches over the training set\n",
        "\t\tfor j in range(bat_per_epo):\n",
        "\t\t\t# get randomly selected 'real' samples\n",
        "\t\t\tX_real, y_real = generate_real_samples(dataset, half_batch)\n",
        "\t\t\t# generate 'fake' examples\n",
        "\t\t\tX_fake, y_fake = generate_fake_samples(g_model, latent_dim, half_batch)\n",
        "\t\t\t# create training set for the discriminator\n",
        "\t\t\tX, y = vstack((X_real, X_fake)), vstack((y_real, y_fake))\n",
        "\t\t\t# update discriminator model weights\n",
        "\t\t\td_loss, _ = d_model.train_on_batch(X, y)\n",
        "\t\t\t# prepare points in latent space as input for the generator\n",
        "\t\t\tX_gan = generate_latent_points(latent_dim, n_batch)\n",
        "\t\t\t# create inverted labels for the fake samples\n",
        "\t\t\ty_gan = ones((n_batch, 1))\n",
        "\t\t\t# update the generator via the discriminator's error\n",
        "\t\t\tg_loss = gan_model.train_on_batch(X_gan, y_gan)\n",
        "\t\t\t# summarize loss on this batch\n",
        "\t\t\tprint('>%d, %d/%d, d=%.3f, g=%.3f' % (i+1, j+1, bat_per_epo, d_loss, g_loss))\n",
        "\t\t# evaluate the model performance, sometimes\n",
        "\t\tif (i+1) % 10 == 0:\n",
        "\t\t\tsummarize_performance(i, g_model, d_model, dataset, latent_dim)"
      ],
      "execution_count": null,
      "outputs": []
    },
    {
      "cell_type": "code",
      "metadata": {
        "colab": {
          "base_uri": "https://localhost:8080/"
        },
        "id": "tJ2O68Lm7gwH",
        "outputId": "89b8e831-bb2c-45f2-a13c-32277a32c3d7"
      },
      "source": [
        "# size of the latent space\n",
        "latent_dim = 100\n",
        "# create the discriminator\n",
        "d_model = define_discriminator()\n",
        "# create the generator\n",
        "g_model = define_generator(latent_dim)\n",
        "# create the gan\n",
        "gan_model = define_gan(g_model, d_model)\n",
        "# load image data\n",
        "dataset = load_real_samples()\n",
        "# train model\n",
        "train(g_model, d_model, gan_model, dataset, latent_dim)"
      ],
      "execution_count": null,
      "outputs": [
        {
          "metadata": {
            "tags": null
          },
          "name": "stdout",
          "output_type": "stream",
          "text": [
            "WARNING:tensorflow:From /usr/local/lib/python3.7/dist-packages/tensorflow/python/framework/op_def_library.py:263: colocate_with (from tensorflow.python.framework.ops) is deprecated and will be removed in a future version.\n",
            "Instructions for updating:\n",
            "Colocations handled automatically by placer.\n",
            "WARNING:tensorflow:From /usr/local/lib/python3.7/dist-packages/keras/backend/tensorflow_backend.py:3019: calling dropout (from tensorflow.python.ops.nn_ops) with keep_prob is deprecated and will be removed in a future version.\n",
            "Instructions for updating:\n",
            "Please use `rate` instead of `keep_prob`. Rate should be set to `rate = 1 - keep_prob`.\n",
            "WARNING:tensorflow:From /usr/local/lib/python3.7/dist-packages/keras/backend/tensorflow_backend.py:1264: calling reduce_prod_v1 (from tensorflow.python.ops.math_ops) with keep_dims is deprecated and will be removed in a future version.\n",
            "Instructions for updating:\n",
            "keep_dims is deprecated, use keepdims instead\n",
            "Downloading data from https://s3.amazonaws.com/img-datasets/mnist.npz\n",
            "11493376/11490434 [==============================] - 0s 0us/step\n",
            "WARNING:tensorflow:From /usr/local/lib/python3.7/dist-packages/tensorflow/python/ops/math_ops.py:3066: to_int32 (from tensorflow.python.ops.math_ops) is deprecated and will be removed in a future version.\n",
            "Instructions for updating:\n",
            "Use tf.cast instead.\n"
          ]
        },
        {
          "metadata": {
            "tags": null
          },
          "name": "stderr",
          "output_type": "stream",
          "text": [
            "/usr/local/lib/python3.7/dist-packages/keras/engine/training.py:973: UserWarning: Discrepancy between trainable weights and collected trainable weights, did you set `model.trainable` without calling `model.compile` after ?\n",
            "  'Discrepancy between trainable weights and collected trainable'\n"
          ]
        },
        {
          "output_type": "stream",
          "name": "stdout",
          "text": [
            ">1, 1/234, d=0.708, g=0.681\n",
            ">1, 2/234, d=0.703, g=0.699\n",
            ">1, 3/234, d=0.693, g=0.712\n",
            ">1, 4/234, d=0.693, g=0.727\n",
            ">1, 5/234, d=0.684, g=0.742\n",
            ">1, 6/234, d=0.675, g=0.754\n",
            ">1, 7/234, d=0.669, g=0.762\n",
            ">1, 8/234, d=0.664, g=0.772\n",
            ">1, 9/234, d=0.661, g=0.780\n",
            ">1, 10/234, d=0.660, g=0.779\n",
            ">1, 11/234, d=0.662, g=0.774\n",
            ">1, 12/234, d=0.658, g=0.762\n",
            ">1, 13/234, d=0.660, g=0.746\n",
            ">1, 14/234, d=0.662, g=0.733\n",
            ">1, 15/234, d=0.664, g=0.722\n",
            ">1, 16/234, d=0.660, g=0.711\n",
            ">1, 17/234, d=0.654, g=0.705\n",
            ">1, 18/234, d=0.652, g=0.700\n",
            ">1, 19/234, d=0.646, g=0.697\n",
            ">1, 20/234, d=0.638, g=0.695\n",
            ">1, 21/234, d=0.631, g=0.693\n",
            ">1, 22/234, d=0.624, g=0.693\n",
            ">1, 23/234, d=0.614, g=0.692\n",
            ">1, 24/234, d=0.609, g=0.693\n",
            ">1, 25/234, d=0.597, g=0.693\n",
            ">1, 26/234, d=0.593, g=0.693\n",
            ">1, 27/234, d=0.580, g=0.694\n",
            ">1, 28/234, d=0.575, g=0.695\n",
            ">1, 29/234, d=0.564, g=0.695\n",
            ">1, 30/234, d=0.549, g=0.696\n",
            ">1, 31/234, d=0.540, g=0.697\n",
            ">1, 32/234, d=0.532, g=0.698\n",
            ">1, 33/234, d=0.521, g=0.699\n",
            ">1, 34/234, d=0.512, g=0.700\n",
            ">1, 35/234, d=0.501, g=0.701\n",
            ">1, 36/234, d=0.482, g=0.702\n",
            ">1, 37/234, d=0.486, g=0.703\n",
            ">1, 38/234, d=0.474, g=0.705\n",
            ">1, 39/234, d=0.461, g=0.706\n",
            ">1, 40/234, d=0.454, g=0.707\n",
            ">1, 41/234, d=0.444, g=0.709\n",
            ">1, 42/234, d=0.436, g=0.711\n",
            ">1, 43/234, d=0.427, g=0.713\n",
            ">1, 44/234, d=0.420, g=0.715\n",
            ">1, 45/234, d=0.418, g=0.716\n",
            ">1, 46/234, d=0.413, g=0.719\n",
            ">1, 47/234, d=0.398, g=0.722\n",
            ">1, 48/234, d=0.398, g=0.725\n",
            ">1, 49/234, d=0.396, g=0.728\n",
            ">1, 50/234, d=0.387, g=0.731\n",
            ">1, 51/234, d=0.381, g=0.736\n",
            ">1, 52/234, d=0.375, g=0.740\n",
            ">1, 53/234, d=0.369, g=0.745\n",
            ">1, 54/234, d=0.366, g=0.750\n",
            ">1, 55/234, d=0.361, g=0.756\n",
            ">1, 56/234, d=0.360, g=0.764\n",
            ">1, 57/234, d=0.352, g=0.772\n",
            ">1, 58/234, d=0.345, g=0.780\n",
            ">1, 59/234, d=0.339, g=0.790\n",
            ">1, 60/234, d=0.335, g=0.802\n",
            ">1, 61/234, d=0.329, g=0.813\n",
            ">1, 62/234, d=0.322, g=0.827\n",
            ">1, 63/234, d=0.313, g=0.843\n",
            ">1, 64/234, d=0.311, g=0.861\n",
            ">1, 65/234, d=0.304, g=0.877\n",
            ">1, 66/234, d=0.296, g=0.897\n",
            ">1, 67/234, d=0.284, g=0.919\n",
            ">1, 68/234, d=0.278, g=0.942\n",
            ">1, 69/234, d=0.277, g=0.967\n",
            ">1, 70/234, d=0.268, g=0.996\n",
            ">1, 71/234, d=0.254, g=1.025\n",
            ">1, 72/234, d=0.246, g=1.055\n",
            ">1, 73/234, d=0.232, g=1.094\n",
            ">1, 74/234, d=0.225, g=1.133\n",
            ">1, 75/234, d=0.217, g=1.172\n",
            ">1, 76/234, d=0.206, g=1.218\n",
            ">1, 77/234, d=0.199, g=1.258\n",
            ">1, 78/234, d=0.191, g=1.307\n",
            ">1, 79/234, d=0.181, g=1.349\n",
            ">1, 80/234, d=0.170, g=1.401\n",
            ">1, 81/234, d=0.164, g=1.454\n",
            ">1, 82/234, d=0.150, g=1.504\n",
            ">1, 83/234, d=0.149, g=1.563\n",
            ">1, 84/234, d=0.133, g=1.616\n",
            ">1, 85/234, d=0.129, g=1.675\n",
            ">1, 86/234, d=0.125, g=1.705\n",
            ">1, 87/234, d=0.132, g=1.648\n",
            ">1, 88/234, d=0.349, g=0.935\n",
            ">1, 89/234, d=2.043, g=0.048\n",
            ">1, 90/234, d=2.848, g=0.016\n",
            ">1, 91/234, d=2.587, g=0.028\n",
            ">1, 92/234, d=2.062, g=0.067\n",
            ">1, 93/234, d=1.597, g=0.156\n",
            ">1, 94/234, d=1.186, g=0.303\n",
            ">1, 95/234, d=0.919, g=0.528\n",
            ">1, 96/234, d=0.696, g=0.845\n",
            ">1, 97/234, d=0.574, g=1.260\n",
            ">1, 98/234, d=0.432, g=1.657\n",
            ">1, 99/234, d=0.379, g=1.982\n",
            ">1, 100/234, d=0.358, g=2.118\n",
            ">1, 101/234, d=0.340, g=2.182\n",
            ">1, 102/234, d=0.333, g=2.140\n",
            ">1, 103/234, d=0.328, g=2.081\n",
            ">1, 104/234, d=0.314, g=2.033\n",
            ">1, 105/234, d=0.325, g=1.898\n",
            ">1, 106/234, d=0.307, g=1.782\n",
            ">1, 107/234, d=0.322, g=1.642\n",
            ">1, 108/234, d=0.331, g=1.499\n",
            ">1, 109/234, d=0.326, g=1.385\n",
            ">1, 110/234, d=0.339, g=1.329\n",
            ">1, 111/234, d=0.331, g=1.292\n",
            ">1, 112/234, d=0.332, g=1.268\n",
            ">1, 113/234, d=0.343, g=1.221\n",
            ">1, 114/234, d=0.333, g=1.205\n",
            ">1, 115/234, d=0.328, g=1.179\n",
            ">1, 116/234, d=0.327, g=1.172\n",
            ">1, 117/234, d=0.327, g=1.161\n",
            ">1, 118/234, d=0.342, g=1.151\n",
            ">1, 119/234, d=0.329, g=1.131\n",
            ">1, 120/234, d=0.328, g=1.110\n",
            ">1, 121/234, d=0.343, g=1.109\n",
            ">1, 122/234, d=0.336, g=1.104\n",
            ">1, 123/234, d=0.334, g=1.101\n",
            ">1, 124/234, d=0.336, g=1.104\n",
            ">1, 125/234, d=0.358, g=1.090\n",
            ">1, 126/234, d=0.374, g=1.018\n",
            ">1, 127/234, d=0.403, g=0.983\n",
            ">1, 128/234, d=0.417, g=1.030\n",
            ">1, 129/234, d=0.416, g=0.977\n",
            ">1, 130/234, d=0.417, g=1.015\n",
            ">1, 131/234, d=0.409, g=1.017\n",
            ">1, 132/234, d=0.382, g=1.045\n",
            ">1, 133/234, d=0.381, g=1.070\n",
            ">1, 134/234, d=0.385, g=1.112\n",
            ">1, 135/234, d=0.386, g=1.113\n",
            ">1, 136/234, d=0.391, g=1.097\n",
            ">1, 137/234, d=0.380, g=1.149\n",
            ">1, 138/234, d=0.410, g=1.129\n",
            ">1, 139/234, d=0.394, g=1.107\n",
            ">1, 140/234, d=0.461, g=1.085\n",
            ">1, 141/234, d=0.483, g=1.078\n",
            ">1, 142/234, d=0.550, g=0.890\n",
            ">1, 143/234, d=0.719, g=0.677\n",
            ">1, 144/234, d=1.049, g=0.429\n",
            ">1, 145/234, d=1.084, g=0.387\n",
            ">1, 146/234, d=1.004, g=0.689\n",
            ">1, 147/234, d=0.968, g=0.717\n",
            ">1, 148/234, d=0.914, g=0.792\n",
            ">1, 149/234, d=0.931, g=0.762\n",
            ">1, 150/234, d=0.916, g=0.750\n",
            ">1, 151/234, d=0.934, g=0.736\n",
            ">1, 152/234, d=0.920, g=0.701\n",
            ">1, 153/234, d=0.938, g=0.689\n",
            ">1, 154/234, d=0.902, g=0.693\n",
            ">1, 155/234, d=0.903, g=0.696\n",
            ">1, 156/234, d=0.896, g=0.691\n",
            ">1, 157/234, d=0.882, g=0.738\n",
            ">1, 158/234, d=0.878, g=0.708\n",
            ">1, 159/234, d=0.863, g=0.733\n",
            ">1, 160/234, d=0.859, g=0.750\n",
            ">1, 161/234, d=0.827, g=0.759\n",
            ">1, 162/234, d=0.812, g=0.770\n",
            ">1, 163/234, d=0.815, g=0.742\n",
            ">1, 164/234, d=0.807, g=0.764\n",
            ">1, 165/234, d=0.796, g=0.757\n",
            ">1, 166/234, d=0.809, g=0.764\n",
            ">1, 167/234, d=0.788, g=0.777\n",
            ">1, 168/234, d=0.749, g=0.791\n",
            ">1, 169/234, d=0.761, g=0.787\n",
            ">1, 170/234, d=0.732, g=0.796\n",
            ">1, 171/234, d=0.714, g=0.828\n",
            ">1, 172/234, d=0.715, g=0.817\n",
            ">1, 173/234, d=0.700, g=0.823\n",
            ">1, 174/234, d=0.699, g=0.816\n",
            ">1, 175/234, d=0.689, g=0.823\n",
            ">1, 176/234, d=0.701, g=0.838\n",
            ">1, 177/234, d=0.681, g=0.826\n",
            ">1, 178/234, d=0.677, g=0.852\n",
            ">1, 179/234, d=0.685, g=0.845\n",
            ">1, 180/234, d=0.670, g=0.842\n",
            ">1, 181/234, d=0.666, g=0.856\n",
            ">1, 182/234, d=0.679, g=0.856\n",
            ">1, 183/234, d=0.667, g=0.861\n",
            ">1, 184/234, d=0.663, g=0.850\n",
            ">1, 185/234, d=0.673, g=0.856\n",
            ">1, 186/234, d=0.668, g=0.848\n",
            ">1, 187/234, d=0.654, g=0.854\n",
            ">1, 188/234, d=0.662, g=0.853\n",
            ">1, 189/234, d=0.664, g=0.837\n",
            ">1, 190/234, d=0.665, g=0.843\n",
            ">1, 191/234, d=0.689, g=0.845\n",
            ">1, 192/234, d=0.677, g=0.820\n",
            ">1, 193/234, d=0.675, g=0.825\n",
            ">1, 194/234, d=0.701, g=0.816\n",
            ">1, 195/234, d=0.689, g=0.828\n",
            ">1, 196/234, d=0.681, g=0.818\n",
            ">1, 197/234, d=0.693, g=0.816\n",
            ">1, 198/234, d=0.691, g=0.796\n",
            ">1, 199/234, d=0.679, g=0.780\n",
            ">1, 200/234, d=0.689, g=0.775\n",
            ">1, 201/234, d=0.690, g=0.773\n",
            ">1, 202/234, d=0.692, g=0.759\n",
            ">1, 203/234, d=0.705, g=0.777\n",
            ">1, 204/234, d=0.672, g=0.757\n",
            ">1, 205/234, d=0.661, g=0.765\n",
            ">1, 206/234, d=0.681, g=0.755\n",
            ">1, 207/234, d=0.677, g=0.756\n",
            ">1, 208/234, d=0.667, g=0.778\n",
            ">1, 209/234, d=0.693, g=0.768\n",
            ">1, 210/234, d=0.666, g=0.766\n",
            ">1, 211/234, d=0.673, g=0.764\n",
            ">1, 212/234, d=0.650, g=0.770\n",
            ">1, 213/234, d=0.657, g=0.762\n",
            ">1, 214/234, d=0.653, g=0.760\n",
            ">1, 215/234, d=0.660, g=0.756\n",
            ">1, 216/234, d=0.652, g=0.744\n",
            ">1, 217/234, d=0.661, g=0.768\n",
            ">1, 218/234, d=0.647, g=0.761\n",
            ">1, 219/234, d=0.652, g=0.754\n",
            ">1, 220/234, d=0.631, g=0.757\n",
            ">1, 221/234, d=0.635, g=0.766\n",
            ">1, 222/234, d=0.631, g=0.738\n",
            ">1, 223/234, d=0.634, g=0.749\n",
            ">1, 224/234, d=0.644, g=0.748\n",
            ">1, 225/234, d=0.630, g=0.751\n",
            ">1, 226/234, d=0.628, g=0.746\n",
            ">1, 227/234, d=0.624, g=0.755\n",
            ">1, 228/234, d=0.635, g=0.781\n",
            ">1, 229/234, d=0.628, g=0.789\n",
            ">1, 230/234, d=0.632, g=0.761\n",
            ">1, 231/234, d=0.631, g=0.773\n",
            ">1, 232/234, d=0.631, g=0.778\n",
            ">1, 233/234, d=0.652, g=0.771\n",
            ">1, 234/234, d=0.646, g=0.757\n",
            ">2, 1/234, d=0.638, g=0.766\n",
            ">2, 2/234, d=0.650, g=0.757\n",
            ">2, 3/234, d=0.659, g=0.737\n",
            ">2, 4/234, d=0.656, g=0.740\n",
            ">2, 5/234, d=0.654, g=0.742\n",
            ">2, 6/234, d=0.663, g=0.721\n",
            ">2, 7/234, d=0.663, g=0.718\n",
            ">2, 8/234, d=0.666, g=0.702\n",
            ">2, 9/234, d=0.692, g=0.695\n",
            ">2, 10/234, d=0.675, g=0.712\n",
            ">2, 11/234, d=0.695, g=0.695\n",
            ">2, 12/234, d=0.695, g=0.728\n",
            ">2, 13/234, d=0.723, g=0.709\n",
            ">2, 14/234, d=0.707, g=0.680\n",
            ">2, 15/234, d=0.712, g=0.686\n",
            ">2, 16/234, d=0.723, g=0.686\n",
            ">2, 17/234, d=0.756, g=0.671\n",
            ">2, 18/234, d=0.747, g=0.672\n",
            ">2, 19/234, d=0.733, g=0.659\n",
            ">2, 20/234, d=0.759, g=0.662\n",
            ">2, 21/234, d=0.752, g=0.662\n",
            ">2, 22/234, d=0.747, g=0.651\n",
            ">2, 23/234, d=0.765, g=0.666\n",
            ">2, 24/234, d=0.757, g=0.640\n",
            ">2, 25/234, d=0.781, g=0.645\n",
            ">2, 26/234, d=0.774, g=0.636\n",
            ">2, 27/234, d=0.786, g=0.625\n",
            ">2, 28/234, d=0.784, g=0.623\n",
            ">2, 29/234, d=0.779, g=0.612\n",
            ">2, 30/234, d=0.799, g=0.626\n",
            ">2, 31/234, d=0.794, g=0.621\n",
            ">2, 32/234, d=0.783, g=0.647\n",
            ">2, 33/234, d=0.774, g=0.652\n",
            ">2, 34/234, d=0.772, g=0.662\n",
            ">2, 35/234, d=0.747, g=0.676\n",
            ">2, 36/234, d=0.750, g=0.691\n",
            ">2, 37/234, d=0.731, g=0.721\n",
            ">2, 38/234, d=0.726, g=0.747\n",
            ">2, 39/234, d=0.702, g=0.760\n",
            ">2, 40/234, d=0.708, g=0.770\n",
            ">2, 41/234, d=0.691, g=0.803\n",
            ">2, 42/234, d=0.676, g=0.801\n",
            ">2, 43/234, d=0.660, g=0.819\n",
            ">2, 44/234, d=0.649, g=0.816\n",
            ">2, 45/234, d=0.651, g=0.832\n",
            ">2, 46/234, d=0.656, g=0.824\n",
            ">2, 47/234, d=0.636, g=0.809\n",
            ">2, 48/234, d=0.634, g=0.806\n",
            ">2, 49/234, d=0.637, g=0.805\n",
            ">2, 50/234, d=0.634, g=0.792\n",
            ">2, 51/234, d=0.635, g=0.769\n",
            ">2, 52/234, d=0.628, g=0.766\n",
            ">2, 53/234, d=0.644, g=0.751\n",
            ">2, 54/234, d=0.641, g=0.763\n",
            ">2, 55/234, d=0.637, g=0.728\n",
            ">2, 56/234, d=0.655, g=0.736\n",
            ">2, 57/234, d=0.636, g=0.731\n",
            ">2, 58/234, d=0.647, g=0.729\n",
            ">2, 59/234, d=0.657, g=0.730\n",
            ">2, 60/234, d=0.647, g=0.729\n",
            ">2, 61/234, d=0.653, g=0.744\n",
            ">2, 62/234, d=0.663, g=0.736\n",
            ">2, 63/234, d=0.670, g=0.719\n",
            ">2, 64/234, d=0.680, g=0.748\n",
            ">2, 65/234, d=0.668, g=0.781\n",
            ">2, 66/234, d=0.654, g=0.796\n",
            ">2, 67/234, d=0.660, g=0.792\n",
            ">2, 68/234, d=0.686, g=0.812\n",
            ">2, 69/234, d=0.673, g=0.782\n",
            ">2, 70/234, d=0.676, g=0.774\n",
            ">2, 71/234, d=0.677, g=0.737\n",
            ">2, 72/234, d=0.677, g=0.745\n",
            ">2, 73/234, d=0.677, g=0.728\n",
            ">2, 74/234, d=0.690, g=0.714\n",
            ">2, 75/234, d=0.703, g=0.698\n",
            ">2, 76/234, d=0.696, g=0.704\n",
            ">2, 77/234, d=0.681, g=0.688\n",
            ">2, 78/234, d=0.694, g=0.681\n",
            ">2, 79/234, d=0.706, g=0.669\n",
            ">2, 80/234, d=0.706, g=0.685\n",
            ">2, 81/234, d=0.704, g=0.684\n",
            ">2, 82/234, d=0.693, g=0.698\n",
            ">2, 83/234, d=0.701, g=0.696\n",
            ">2, 84/234, d=0.727, g=0.701\n",
            ">2, 85/234, d=0.722, g=0.697\n",
            ">2, 86/234, d=0.710, g=0.691\n",
            ">2, 87/234, d=0.717, g=0.709\n",
            ">2, 88/234, d=0.721, g=0.692\n",
            ">2, 89/234, d=0.709, g=0.688\n",
            ">2, 90/234, d=0.714, g=0.691\n",
            ">2, 91/234, d=0.719, g=0.677\n",
            ">2, 92/234, d=0.715, g=0.692\n",
            ">2, 93/234, d=0.727, g=0.679\n",
            ">2, 94/234, d=0.737, g=0.681\n",
            ">2, 95/234, d=0.722, g=0.691\n",
            ">2, 96/234, d=0.745, g=0.706\n",
            ">2, 97/234, d=0.715, g=0.702\n",
            ">2, 98/234, d=0.717, g=0.714\n",
            ">2, 99/234, d=0.713, g=0.721\n",
            ">2, 100/234, d=0.705, g=0.719\n",
            ">2, 101/234, d=0.733, g=0.729\n",
            ">2, 102/234, d=0.720, g=0.739\n",
            ">2, 103/234, d=0.700, g=0.727\n",
            ">2, 104/234, d=0.727, g=0.720\n",
            ">2, 105/234, d=0.702, g=0.723\n",
            ">2, 106/234, d=0.687, g=0.751\n",
            ">2, 107/234, d=0.680, g=0.730\n",
            ">2, 108/234, d=0.679, g=0.746\n",
            ">2, 109/234, d=0.655, g=0.740\n",
            ">2, 110/234, d=0.642, g=0.758\n",
            ">2, 111/234, d=0.638, g=0.763\n",
            ">2, 112/234, d=0.645, g=0.765\n",
            ">2, 113/234, d=0.630, g=0.766\n",
            ">2, 114/234, d=0.614, g=0.760\n",
            ">2, 115/234, d=0.611, g=0.768\n",
            ">2, 116/234, d=0.613, g=0.762\n",
            ">2, 117/234, d=0.610, g=0.774\n",
            ">2, 118/234, d=0.618, g=0.770\n",
            ">2, 119/234, d=0.613, g=0.762\n",
            ">2, 120/234, d=0.621, g=0.777\n",
            ">2, 121/234, d=0.623, g=0.766\n",
            ">2, 122/234, d=0.637, g=0.765\n",
            ">2, 123/234, d=0.636, g=0.754\n",
            ">2, 124/234, d=0.640, g=0.802\n",
            ">2, 125/234, d=0.665, g=0.803\n",
            ">2, 126/234, d=0.668, g=0.806\n",
            ">2, 127/234, d=0.670, g=0.805\n",
            ">2, 128/234, d=0.674, g=0.807\n",
            ">2, 129/234, d=0.680, g=0.772\n",
            ">2, 130/234, d=0.714, g=0.748\n",
            ">2, 131/234, d=0.696, g=0.715\n",
            ">2, 132/234, d=0.696, g=0.689\n",
            ">2, 133/234, d=0.695, g=0.681\n",
            ">2, 134/234, d=0.705, g=0.659\n",
            ">2, 135/234, d=0.694, g=0.658\n",
            ">2, 136/234, d=0.702, g=0.654\n",
            ">2, 137/234, d=0.708, g=0.645\n",
            ">2, 138/234, d=0.698, g=0.642\n",
            ">2, 139/234, d=0.703, g=0.634\n",
            ">2, 140/234, d=0.709, g=0.645\n",
            ">2, 141/234, d=0.696, g=0.651\n",
            ">2, 142/234, d=0.711, g=0.652\n",
            ">2, 143/234, d=0.705, g=0.676\n",
            ">2, 144/234, d=0.695, g=0.690\n",
            ">2, 145/234, d=0.690, g=0.694\n",
            ">2, 146/234, d=0.687, g=0.719\n",
            ">2, 147/234, d=0.678, g=0.719\n",
            ">2, 148/234, d=0.692, g=0.730\n",
            ">2, 149/234, d=0.687, g=0.727\n",
            ">2, 150/234, d=0.694, g=0.723\n",
            ">2, 151/234, d=0.691, g=0.716\n",
            ">2, 152/234, d=0.698, g=0.732\n",
            ">2, 153/234, d=0.694, g=0.700\n",
            ">2, 154/234, d=0.698, g=0.689\n",
            ">2, 155/234, d=0.707, g=0.701\n",
            ">2, 156/234, d=0.699, g=0.691\n",
            ">2, 157/234, d=0.690, g=0.686\n",
            ">2, 158/234, d=0.708, g=0.684\n",
            ">2, 159/234, d=0.702, g=0.677\n",
            ">2, 160/234, d=0.704, g=0.690\n",
            ">2, 161/234, d=0.693, g=0.691\n",
            ">2, 162/234, d=0.706, g=0.671\n",
            ">2, 163/234, d=0.704, g=0.693\n",
            ">2, 164/234, d=0.704, g=0.687\n",
            ">2, 165/234, d=0.686, g=0.680\n",
            ">2, 166/234, d=0.700, g=0.698\n",
            ">2, 167/234, d=0.700, g=0.694\n",
            ">2, 168/234, d=0.694, g=0.691\n",
            ">2, 169/234, d=0.713, g=0.688\n",
            ">2, 170/234, d=0.712, g=0.696\n",
            ">2, 171/234, d=0.690, g=0.705\n",
            ">2, 172/234, d=0.693, g=0.702\n",
            ">2, 173/234, d=0.696, g=0.694\n",
            ">2, 174/234, d=0.708, g=0.720\n",
            ">2, 175/234, d=0.694, g=0.705\n",
            ">2, 176/234, d=0.694, g=0.714\n",
            ">2, 177/234, d=0.680, g=0.726\n",
            ">2, 178/234, d=0.684, g=0.736\n",
            ">2, 179/234, d=0.693, g=0.761\n",
            ">2, 180/234, d=0.695, g=0.752\n",
            ">2, 181/234, d=0.679, g=0.759\n",
            ">2, 182/234, d=0.684, g=0.774\n",
            ">2, 183/234, d=0.682, g=0.765\n",
            ">2, 184/234, d=0.660, g=0.794\n",
            ">2, 185/234, d=0.670, g=0.790\n",
            ">2, 186/234, d=0.655, g=0.782\n",
            ">2, 187/234, d=0.670, g=0.812\n",
            ">2, 188/234, d=0.672, g=0.830\n",
            ">2, 189/234, d=0.670, g=0.823\n",
            ">2, 190/234, d=0.635, g=0.810\n",
            ">2, 191/234, d=0.644, g=0.825\n",
            ">2, 192/234, d=0.630, g=0.841\n",
            ">2, 193/234, d=0.630, g=0.846\n",
            ">2, 194/234, d=0.627, g=0.830\n",
            ">2, 195/234, d=0.639, g=0.834\n",
            ">2, 196/234, d=0.622, g=0.815\n",
            ">2, 197/234, d=0.630, g=0.806\n",
            ">2, 198/234, d=0.625, g=0.827\n",
            ">2, 199/234, d=0.628, g=0.811\n",
            ">2, 200/234, d=0.648, g=0.823\n",
            ">2, 201/234, d=0.669, g=0.804\n",
            ">2, 202/234, d=0.671, g=0.834\n",
            ">2, 203/234, d=0.674, g=0.823\n",
            ">2, 204/234, d=0.691, g=0.833\n",
            ">2, 205/234, d=0.695, g=0.843\n",
            ">2, 206/234, d=0.716, g=0.826\n",
            ">2, 207/234, d=0.732, g=0.778\n",
            ">2, 208/234, d=0.755, g=0.781\n",
            ">2, 209/234, d=0.751, g=0.746\n",
            ">2, 210/234, d=0.745, g=0.716\n",
            ">2, 211/234, d=0.731, g=0.694\n",
            ">2, 212/234, d=0.726, g=0.678\n",
            ">2, 213/234, d=0.749, g=0.676\n",
            ">2, 214/234, d=0.797, g=0.675\n",
            ">2, 215/234, d=0.764, g=0.672\n",
            ">2, 216/234, d=0.768, g=0.672\n",
            ">2, 217/234, d=0.766, g=0.697\n",
            ">2, 218/234, d=0.761, g=0.667\n",
            ">2, 219/234, d=0.746, g=0.692\n",
            ">2, 220/234, d=0.734, g=0.678\n",
            ">2, 221/234, d=0.749, g=0.687\n",
            ">2, 222/234, d=0.751, g=0.695\n",
            ">2, 223/234, d=0.745, g=0.685\n",
            ">2, 224/234, d=0.742, g=0.692\n",
            ">2, 225/234, d=0.724, g=0.699\n",
            ">2, 226/234, d=0.733, g=0.710\n",
            ">2, 227/234, d=0.734, g=0.711\n",
            ">2, 228/234, d=0.727, g=0.717\n",
            ">2, 229/234, d=0.710, g=0.705\n",
            ">2, 230/234, d=0.714, g=0.706\n",
            ">2, 231/234, d=0.707, g=0.719\n",
            ">2, 232/234, d=0.702, g=0.725\n",
            ">2, 233/234, d=0.702, g=0.713\n",
            ">2, 234/234, d=0.697, g=0.720\n",
            ">3, 1/234, d=0.690, g=0.720\n",
            ">3, 2/234, d=0.688, g=0.728\n",
            ">3, 3/234, d=0.694, g=0.739\n",
            ">3, 4/234, d=0.672, g=0.734\n",
            ">3, 5/234, d=0.670, g=0.744\n",
            ">3, 6/234, d=0.676, g=0.742\n",
            ">3, 7/234, d=0.655, g=0.742\n",
            ">3, 8/234, d=0.661, g=0.735\n",
            ">3, 9/234, d=0.667, g=0.760\n",
            ">3, 10/234, d=0.647, g=0.743\n",
            ">3, 11/234, d=0.663, g=0.760\n",
            ">3, 12/234, d=0.665, g=0.760\n",
            ">3, 13/234, d=0.662, g=0.780\n",
            ">3, 14/234, d=0.663, g=0.762\n",
            ">3, 15/234, d=0.656, g=0.753\n",
            ">3, 16/234, d=0.664, g=0.743\n",
            ">3, 17/234, d=0.664, g=0.748\n",
            ">3, 18/234, d=0.662, g=0.746\n",
            ">3, 19/234, d=0.666, g=0.748\n",
            ">3, 20/234, d=0.666, g=0.739\n",
            ">3, 21/234, d=0.661, g=0.735\n",
            ">3, 22/234, d=0.667, g=0.727\n",
            ">3, 23/234, d=0.665, g=0.732\n",
            ">3, 24/234, d=0.658, g=0.729\n",
            ">3, 25/234, d=0.673, g=0.741\n",
            ">3, 26/234, d=0.660, g=0.734\n",
            ">3, 27/234, d=0.677, g=0.719\n",
            ">3, 28/234, d=0.693, g=0.706\n",
            ">3, 29/234, d=0.680, g=0.703\n",
            ">3, 30/234, d=0.672, g=0.692\n",
            ">3, 31/234, d=0.681, g=0.683\n",
            ">3, 32/234, d=0.687, g=0.696\n",
            ">3, 33/234, d=0.681, g=0.705\n",
            ">3, 34/234, d=0.668, g=0.705\n",
            ">3, 35/234, d=0.692, g=0.718\n",
            ">3, 36/234, d=0.686, g=0.702\n",
            ">3, 37/234, d=0.681, g=0.714\n"
          ]
        }
      ]
    },
    {
      "cell_type": "code",
      "metadata": {
        "id": "f6VcTk_Uwqpa"
      },
      "source": [
        "g_model"
      ],
      "execution_count": null,
      "outputs": []
    },
    {
      "cell_type": "code",
      "metadata": {
        "id": "QRFBZDBAwrUv"
      },
      "source": [
        "# generate points in latent space as input for the generator\n",
        "def generate_latent_points(latent_dim, n_samples):\n",
        "\t# generate points in the latent space\n",
        "\tx_input = randn(latent_dim * n_samples)\n",
        "\t# reshape into a batch of inputs for the network\n",
        "\tx_input = x_input.reshape(n_samples, latent_dim)\n",
        "\treturn x_input\n",
        "\n",
        "# use the generator to generate n fake examples, with class labels\n",
        "def generate_fake_samples(g_model, latent_dim, n_samples):\n",
        "\t# generate points in latent space\n",
        "\tx_input = generate_latent_points(latent_dim, n_samples)\n",
        "\t# predict outputs\n",
        "\tX = g_model.predict(x_input)\n",
        "\t# create 'fake' class labels (0)\n",
        "\ty = zeros((n_samples, 1))\n",
        "\treturn X, y\n",
        "\n",
        "# create and save a plot of generated images (reversed grayscale)\n",
        "def save_plot(examples, epoch, n=10):\n",
        "\t# plot images\n",
        "\tfor i in range(n * n):\n",
        "\t\t# define subplot\n",
        "\t\tpyplot.subplot(n, n, 1 + i)\n",
        "\t\t# turn off axis\n",
        "\t\tpyplot.axis('off')\n",
        "\t\t# plot raw pixel data\n",
        "\t\tpyplot.imshow(examples[i, :, :, 0], cmap='gray_r')\n",
        "\t# save plot to file\n",
        "\tfilename = 'generated_plot_e%03d.png' % (epoch+1)\n",
        "\tpyplot.savefig(filename)\n",
        "\tpyplot.close()\n",
        "\n"
      ],
      "execution_count": null,
      "outputs": []
    },
    {
      "cell_type": "code",
      "metadata": {
        "id": "RAuM778cyRK8"
      },
      "source": [
        "amostra_falsa = generate_fake_samples(g_model, 100, 20)"
      ],
      "execution_count": null,
      "outputs": []
    },
    {
      "cell_type": "code",
      "metadata": {
        "colab": {
          "base_uri": "https://localhost:8080/",
          "height": 282
        },
        "id": "uG3wculMyenF",
        "outputId": "e978c208-62f6-4748-a42e-3efce4d50610"
      },
      "source": [
        "pyplot.imshow(1-amostra_falsa[0][0][:,:,0], cmap = 'gray');"
      ],
      "execution_count": null,
      "outputs": [
        {
          "output_type": "execute_result",
          "data": {
            "text/plain": [
              "<matplotlib.image.AxesImage at 0x7f5c3c248898>"
            ]
          },
          "metadata": {
            "tags": []
          },
          "execution_count": 30
        },
        {
          "output_type": "display_data",
          "data": {
            "image/png": "[encoded data removed]",
            "text/plain": [
              "<Figure size 432x288 with 1 Axes>"
            ]
          },
          "metadata": {
            "tags": [],
            "needs_background": "light"
          }
        }
      ]
    },
    {
      "cell_type": "code",
      "metadata": {
        "colab": {
          "base_uri": "https://localhost:8080/",
          "height": 282
        },
        "id": "jlbApNfgyjOs",
        "outputId": "86265dbc-d4af-4ec3-9ee1-d9c60699abc1"
      },
      "source": [
        "pyplot.imshow(1-amostra_falsa[0][2][:,:,0], cmap = 'gray');"
      ],
      "execution_count": null,
      "outputs": [
        {
          "output_type": "execute_result",
          "data": {
            "text/plain": [
              "<matplotlib.image.AxesImage at 0x7f5c3c195208>"
            ]
          },
          "metadata": {
            "tags": []
          },
          "execution_count": 33
        },
        {
          "output_type": "display_data",
          "data": {
            "image/png": "[encoded data removed]",
            "text/plain": [
              "<Figure size 432x288 with 1 Axes>"
            ]
          },
          "metadata": {
            "tags": [],
            "needs_background": "light"
          }
        }
      ]
    },
    {
      "cell_type": "code",
      "metadata": {
        "colab": {
          "base_uri": "https://localhost:8080/",
          "height": 282
        },
        "id": "lCj8-1L60CkC",
        "outputId": "ae9ff8c3-770c-463b-a6ab-1a5024a8c522"
      },
      "source": [
        "pyplot.imshow(1-amostra_falsa[0][3][:,:,0], cmap = 'gray');"
      ],
      "execution_count": null,
      "outputs": [
        {
          "output_type": "execute_result",
          "data": {
            "text/plain": [
              "<matplotlib.image.AxesImage at 0x7f5c3c0f42e8>"
            ]
          },
          "metadata": {
            "tags": []
          },
          "execution_count": 34
        },
        {
          "output_type": "display_data",
          "data": {
            "image/png": "[encoded data removed]",
            "text/plain": [
              "<Figure size 432x288 with 1 Axes>"
            ]
          },
          "metadata": {
            "tags": [],
            "needs_background": "light"
          }
        }
      ]
    },
    {
      "cell_type": "code",
      "metadata": {
        "colab": {
          "base_uri": "https://localhost:8080/",
          "height": 282
        },
        "id": "Rr-e8YyK0Cp9",
        "outputId": "07551144-0b89-40e2-e954-89efc3de3dda"
      },
      "source": [
        "pyplot.imshow(1-amostra_falsa[0][4][:,:,0], cmap = 'gray');"
      ],
      "execution_count": null,
      "outputs": [
        {
          "output_type": "execute_result",
          "data": {
            "text/plain": [
              "<matplotlib.image.AxesImage at 0x7f5c3c0d3390>"
            ]
          },
          "metadata": {
            "tags": []
          },
          "execution_count": 35
        },
        {
          "output_type": "display_data",
          "data": {
            "image/png": "[encoded data removed]",
            "text/plain": [
              "<Figure size 432x288 with 1 Axes>"
            ]
          },
          "metadata": {
            "tags": [],
            "needs_background": "light"
          }
        }
      ]
    },
    {
      "cell_type": "code",
      "metadata": {
        "colab": {
          "base_uri": "https://localhost:8080/",
          "height": 282
        },
        "id": "LoVmnnJL0CwG",
        "outputId": "71c3b43a-6ab8-4ccf-8394-71f8bb9cae02"
      },
      "source": [
        "pyplot.imshow(1-amostra_falsa[0][5][:,:,0], cmap = 'gray');"
      ],
      "execution_count": null,
      "outputs": [
        {
          "output_type": "execute_result",
          "data": {
            "text/plain": [
              "<matplotlib.image.AxesImage at 0x7f5c3c0a7828>"
            ]
          },
          "metadata": {
            "tags": []
          },
          "execution_count": 36
        },
        {
          "output_type": "display_data",
          "data": {
            "image/png": "[encoded data removed]",
            "text/plain": [
              "<Figure size 432x288 with 1 Axes>"
            ]
          },
          "metadata": {
            "tags": [],
            "needs_background": "light"
          }
        }
      ]
    },
    {
      "cell_type": "code",
      "metadata": {
        "colab": {
          "base_uri": "https://localhost:8080/",
          "height": 282
        },
        "id": "GjkSM83Cz9km",
        "outputId": "64b2de2c-b479-4c0f-a281-fd5305180cc4"
      },
      "source": [
        "pyplot.imshow(1-amostra_falsa[0][8][:,:,0], cmap = 'gray');"
      ],
      "execution_count": null,
      "outputs": [
        {
          "output_type": "execute_result",
          "data": {
            "text/plain": [
              "<matplotlib.image.AxesImage at 0x7f5c3c0043c8>"
            ]
          },
          "metadata": {
            "tags": []
          },
          "execution_count": 37
        },
        {
          "output_type": "display_data",
          "data": {
            "image/png": "[encoded data removed]",
            "text/plain": [
              "<Figure size 432x288 with 1 Axes>"
            ]
          },
          "metadata": {
            "tags": [],
            "needs_background": "light"
          }
        }
      ]
    },
    {
      "cell_type": "code",
      "metadata": {
        "colab": {
          "base_uri": "https://localhost:8080/",
          "height": 282
        },
        "id": "ELyaj9BV0IKe",
        "outputId": "67efec9f-59f8-4411-e0d2-11318bd82e70"
      },
      "source": [
        "pyplot.imshow(1-amostra_falsa[0][10][:,:,0], cmap = 'gray');"
      ],
      "execution_count": null,
      "outputs": [
        {
          "output_type": "execute_result",
          "data": {
            "text/plain": [
              "<matplotlib.image.AxesImage at 0x7f5c3bfd6f28>"
            ]
          },
          "metadata": {
            "tags": []
          },
          "execution_count": 38
        },
        {
          "output_type": "display_data",
          "data": {
            "image/png": "[encoded data removed]",
            "text/plain": [
              "<Figure size 432x288 with 1 Axes>"
            ]
          },
          "metadata": {
            "tags": [],
            "needs_background": "light"
          }
        }
      ]
    },
    {
      "cell_type": "code",
      "metadata": {
        "colab": {
          "base_uri": "https://localhost:8080/",
          "height": 282
        },
        "id": "aXVi2wIC0JqZ",
        "outputId": "31e075b7-232d-4f1d-d30a-5104c6b53732"
      },
      "source": [
        "pyplot.imshow(1-amostra_falsa[0][12][:,:,0], cmap = 'gray');"
      ],
      "execution_count": null,
      "outputs": [
        {
          "output_type": "execute_result",
          "data": {
            "text/plain": [
              "<matplotlib.image.AxesImage at 0x7f5c3bf30ac8>"
            ]
          },
          "metadata": {
            "tags": []
          },
          "execution_count": 39
        },
        {
          "output_type": "display_data",
          "data": {
            "image/png": "[encoded data removed]",
            "text/plain": [
              "<Figure size 432x288 with 1 Axes>"
            ]
          },
          "metadata": {
            "tags": [],
            "needs_background": "light"
          }
        }
      ]
    },
    {
      "cell_type": "code",
      "metadata": {
        "colab": {
          "base_uri": "https://localhost:8080/",
          "height": 282
        },
        "id": "5igNzft_0K68",
        "outputId": "1f48dde8-dc7b-4b43-e5e1-cc1fb7423551"
      },
      "source": [
        "pyplot.imshow(1-amostra_falsa[0][19][:,:,0], cmap = 'gray');"
      ],
      "execution_count": null,
      "outputs": [
        {
          "output_type": "execute_result",
          "data": {
            "text/plain": [
              "<matplotlib.image.AxesImage at 0x7f5c3bf26f60>"
            ]
          },
          "metadata": {
            "tags": []
          },
          "execution_count": 41
        },
        {
          "output_type": "display_data",
          "data": {
            "image/png": "[encoded data removed]",
            "text/plain": [
              "<Figure size 432x288 with 1 Axes>"
            ]
          },
          "metadata": {
            "tags": [],
            "needs_background": "light"
          }
        }
      ]
    },
    {
      "cell_type": "code",
      "metadata": {
        "colab": {
          "base_uri": "https://localhost:8080/",
          "height": 282
        },
        "id": "OcoEI4kw0MhU",
        "outputId": "d1729bdf-4e1a-4c71-9226-78e7fb3e2e69"
      },
      "source": [
        "pyplot.imshow(1-amostra_falsa[0][18][:,:,0], cmap = 'gray');"
      ],
      "execution_count": null,
      "outputs": [
        {
          "output_type": "execute_result",
          "data": {
            "text/plain": [
              "<matplotlib.image.AxesImage at 0x7f5c3be89dd8>"
            ]
          },
          "metadata": {
            "tags": []
          },
          "execution_count": 42
        },
        {
          "output_type": "display_data",
          "data": {
            "image/png": "[encoded data removed]",
            "text/plain": [
              "<Figure size 432x288 with 1 Axes>"
            ]
          },
          "metadata": {
            "tags": [],
            "needs_background": "light"
          }
        }
      ]
    },
    {
      "cell_type": "code",
      "metadata": {
        "colab": {
          "base_uri": "https://localhost:8080/",
          "height": 282
        },
        "id": "tvnZW_us0Owl",
        "outputId": "1176c255-99ad-4b47-8f46-c64c3104218b"
      },
      "source": [
        "pyplot.imshow(1-amostra_falsa[0][17][:,:,0], cmap = 'gray');"
      ],
      "execution_count": null,
      "outputs": [
        {
          "output_type": "execute_result",
          "data": {
            "text/plain": [
              "<matplotlib.image.AxesImage at 0x7f5c3be66978>"
            ]
          },
          "metadata": {
            "tags": []
          },
          "execution_count": 43
        },
        {
          "output_type": "display_data",
          "data": {
            "image/png": "[encoded data removed]",
            "text/plain": [
              "<Figure size 432x288 with 1 Axes>"
            ]
          },
          "metadata": {
            "tags": [],
            "needs_background": "light"
          }
        }
      ]
    },
    {
      "cell_type": "code",
      "metadata": {
        "colab": {
          "base_uri": "https://localhost:8080/",
          "height": 282
        },
        "id": "Prw9YCke0QA5",
        "outputId": "956a14ad-4a1e-4fbd-ce57-036936e0e0e1"
      },
      "source": [
        "pyplot.imshow(1-amostra_falsa[0][16][:,:,0], cmap = 'gray');"
      ],
      "execution_count": null,
      "outputs": [
        {
          "output_type": "execute_result",
          "data": {
            "text/plain": [
              "<matplotlib.image.AxesImage at 0x7f5c3bdc3518>"
            ]
          },
          "metadata": {
            "tags": []
          },
          "execution_count": 44
        },
        {
          "output_type": "display_data",
          "data": {
            "image/png": "[encoded data removed]",
            "text/plain": [
              "<Figure size 432x288 with 1 Axes>"
            ]
          },
          "metadata": {
            "tags": [],
            "needs_background": "light"
          }
        }
      ]
    },
    {
      "cell_type": "code",
      "metadata": {
        "colab": {
          "base_uri": "https://localhost:8080/",
          "height": 282
        },
        "id": "TeMO2LjN0RJb",
        "outputId": "eb0ad8c2-6da8-42e1-c599-c4961602eda9"
      },
      "source": [
        "pyplot.imshow(1-amostra_falsa[0][15][:,:,0], cmap = 'gray');"
      ],
      "execution_count": null,
      "outputs": [
        {
          "output_type": "execute_result",
          "data": {
            "text/plain": [
              "<matplotlib.image.AxesImage at 0x7f5c3bda10b8>"
            ]
          },
          "metadata": {
            "tags": []
          },
          "execution_count": 45
        },
        {
          "output_type": "display_data",
          "data": {
            "image/png": "[encoded data removed]",
            "text/plain": [
              "<Figure size 432x288 with 1 Axes>"
            ]
          },
          "metadata": {
            "tags": [],
            "needs_background": "light"
          }
        }
      ]
    },
    {
      "cell_type": "code",
      "metadata": {
        "colab": {
          "base_uri": "https://localhost:8080/",
          "height": 282
        },
        "id": "fWAx0UPU0SXb",
        "outputId": "afaefd2a-8c0c-4fbf-8f3c-ba972170272b"
      },
      "source": [
        "pyplot.imshow(1-amostra_falsa[0][14][:,:,0], cmap = 'gray');"
      ],
      "execution_count": null,
      "outputs": [
        {
          "output_type": "execute_result",
          "data": {
            "text/plain": [
              "<matplotlib.image.AxesImage at 0x7f5c3bcf1c88>"
            ]
          },
          "metadata": {
            "tags": []
          },
          "execution_count": 46
        },
        {
          "output_type": "display_data",
          "data": {
            "image/png": "[encoded data removed]",
            "text/plain": [
              "<Figure size 432x288 with 1 Axes>"
            ]
          },
          "metadata": {
            "tags": [],
            "needs_background": "light"
          }
        }
      ]
    },
    {
      "cell_type": "code",
      "metadata": {
        "colab": {
          "base_uri": "https://localhost:8080/"
        },
        "id": "m2aRMGAP0TdF",
        "outputId": "bafc44d8-57af-44e7-e66a-58bbd63288a8"
      },
      "source": [
        "g_model.save('gerador')"
      ],
      "execution_count": null,
      "outputs": [
        {
          "output_type": "stream",
          "text": [
            "INFO:tensorflow:Assets written to: gerador/assets\n"
          ],
          "name": "stdout"
        }
      ]
    },
    {
      "cell_type": "code",
      "metadata": {
        "colab": {
          "base_uri": "https://localhost:8080/"
        },
        "id": "Gv3jSdvm0wgf",
        "outputId": "632911e1-6ca9-4a80-d9b5-8be4a8cd9c0c"
      },
      "source": [
        "d_model.save('discriminador')"
      ],
      "execution_count": null,
      "outputs": [
        {
          "output_type": "stream",
          "text": [
            "INFO:tensorflow:Assets written to: discriminador/assets\n"
          ],
          "name": "stdout"
        }
      ]
    },
    {
      "cell_type": "code",
      "metadata": {
        "colab": {
          "base_uri": "https://localhost:8080/",
          "height": 16
        },
        "id": "pHKFFoaB00E4",
        "outputId": "fb54a124-9d4d-478d-a007-0feed1b20214"
      },
      "source": [
        "from google.colab import files\n",
        "files.download('generated_plot_e100.png') \n",
        "files.download('generated_plot_e090.png') \n",
        "files.download('generated_plot_e080.png') \n",
        "files.download('generated_plot_e070.png') \n",
        "files.download('generated_plot_e060.png') \n",
        "files.download('generated_plot_e050.png') \n",
        "files.download('generated_plot_e040.png') \n",
        "files.download('generated_plot_e030.png') \n",
        "files.download('generated_plot_e020.png') \n",
        "files.download('generated_plot_e010.png') "
      ],
      "execution_count": null,
      "outputs": [
        {
          "output_type": "display_data",
          "data": {
            "application/javascript": [
              "\n",
              "    async function download(id, filename, size) {\n",
              "      if (!google.colab.kernel.accessAllowed) {\n",
              "        return;\n",
              "      }\n",
              "      const div = document.createElement('div');\n",
              "      const label = document.createElement('label');\n",
              "      label.textContent = `Downloading \"${filename}\": `;\n",
              "      div.appendChild(label);\n",
              "      const progress = document.createElement('progress');\n",
              "      progress.max = size;\n",
              "      div.appendChild(progress);\n",
              "      document.body.appendChild(div);\n",
              "\n",
              "      const buffers = [];\n",
              "      let downloaded = 0;\n",
              "\n",
              "      const channel = await google.colab.kernel.comms.open(id);\n",
              "      // Send a message to notify the kernel that we're ready.\n",
              "      channel.send({})\n",
              "\n",
              "      for await (const message of channel.messages) {\n",
              "        // Send a message to notify the kernel that we're ready.\n",
              "        channel.send({})\n",
              "        if (message.buffers) {\n",
              "          for (const buffer of message.buffers) {\n",
              "            buffers.push(buffer);\n",
              "            downloaded += buffer.byteLength;\n",
              "            progress.value = downloaded;\n",
              "          }\n",
              "        }\n",
              "      }\n",
              "      const blob = new Blob(buffers, {type: 'application/binary'});\n",
              "      const a = document.createElement('a');\n",
              "      a.href = window.URL.createObjectURL(blob);\n",
              "      a.download = filename;\n",
              "      div.appendChild(a);\n",
              "      a.click();\n",
              "      div.remove();\n",
              "    }\n",
              "  "
            ],
            "text/plain": [
              "<IPython.core.display.Javascript object>"
            ]
          },
          "metadata": {
            "tags": []
          }
        },
        {
          "output_type": "display_data",
          "data": {
            "application/javascript": [
              "download(\"download_8fe334c4-604b-4706-ba4f-df2caf2de9ea\", \"generated_plot_e100.png\", 40485)"
            ],
            "text/plain": [
              "<IPython.core.display.Javascript object>"
            ]
          },
          "metadata": {
            "tags": []
          }
        },
        {
          "output_type": "display_data",
          "data": {
            "application/javascript": [
              "\n",
              "    async function download(id, filename, size) {\n",
              "      if (!google.colab.kernel.accessAllowed) {\n",
              "        return;\n",
              "      }\n",
              "      const div = document.createElement('div');\n",
              "      const label = document.createElement('label');\n",
              "      label.textContent = `Downloading \"${filename}\": `;\n",
              "      div.appendChild(label);\n",
              "      const progress = document.createElement('progress');\n",
              "      progress.max = size;\n",
              "      div.appendChild(progress);\n",
              "      document.body.appendChild(div);\n",
              "\n",
              "      const buffers = [];\n",
              "      let downloaded = 0;\n",
              "\n",
              "      const channel = await google.colab.kernel.comms.open(id);\n",
              "      // Send a message to notify the kernel that we're ready.\n",
              "      channel.send({})\n",
              "\n",
              "      for await (const message of channel.messages) {\n",
              "        // Send a message to notify the kernel that we're ready.\n",
              "        channel.send({})\n",
              "        if (message.buffers) {\n",
              "          for (const buffer of message.buffers) {\n",
              "            buffers.push(buffer);\n",
              "            downloaded += buffer.byteLength;\n",
              "            progress.value = downloaded;\n",
              "          }\n",
              "        }\n",
              "      }\n",
              "      const blob = new Blob(buffers, {type: 'application/binary'});\n",
              "      const a = document.createElement('a');\n",
              "      a.href = window.URL.createObjectURL(blob);\n",
              "      a.download = filename;\n",
              "      div.appendChild(a);\n",
              "      a.click();\n",
              "      div.remove();\n",
              "    }\n",
              "  "
            ],
            "text/plain": [
              "<IPython.core.display.Javascript object>"
            ]
          },
          "metadata": {
            "tags": []
          }
        },
        {
          "output_type": "display_data",
          "data": {
            "application/javascript": [
              "download(\"download_8a933c20-ed8d-4a16-bfce-0a09225f6011\", \"generated_plot_e090.png\", 41841)"
            ],
            "text/plain": [
              "<IPython.core.display.Javascript object>"
            ]
          },
          "metadata": {
            "tags": []
          }
        },
        {
          "output_type": "display_data",
          "data": {
            "application/javascript": [
              "\n",
              "    async function download(id, filename, size) {\n",
              "      if (!google.colab.kernel.accessAllowed) {\n",
              "        return;\n",
              "      }\n",
              "      const div = document.createElement('div');\n",
              "      const label = document.createElement('label');\n",
              "      label.textContent = `Downloading \"${filename}\": `;\n",
              "      div.appendChild(label);\n",
              "      const progress = document.createElement('progress');\n",
              "      progress.max = size;\n",
              "      div.appendChild(progress);\n",
              "      document.body.appendChild(div);\n",
              "\n",
              "      const buffers = [];\n",
              "      let downloaded = 0;\n",
              "\n",
              "      const channel = await google.colab.kernel.comms.open(id);\n",
              "      // Send a message to notify the kernel that we're ready.\n",
              "      channel.send({})\n",
              "\n",
              "      for await (const message of channel.messages) {\n",
              "        // Send a message to notify the kernel that we're ready.\n",
              "        channel.send({})\n",
              "        if (message.buffers) {\n",
              "          for (const buffer of message.buffers) {\n",
              "            buffers.push(buffer);\n",
              "            downloaded += buffer.byteLength;\n",
              "            progress.value = downloaded;\n",
              "          }\n",
              "        }\n",
              "      }\n",
              "      const blob = new Blob(buffers, {type: 'application/binary'});\n",
              "      const a = document.createElement('a');\n",
              "      a.href = window.URL.createObjectURL(blob);\n",
              "      a.download = filename;\n",
              "      div.appendChild(a);\n",
              "      a.click();\n",
              "      div.remove();\n",
              "    }\n",
              "  "
            ],
            "text/plain": [
              "<IPython.core.display.Javascript object>"
            ]
          },
          "metadata": {
            "tags": []
          }
        },
        {
          "output_type": "display_data",
          "data": {
            "application/javascript": [
              "download(\"download_f63b16a6-15c2-4aec-aa3e-824b18f579ac\", \"generated_plot_e080.png\", 40857)"
            ],
            "text/plain": [
              "<IPython.core.display.Javascript object>"
            ]
          },
          "metadata": {
            "tags": []
          }
        },
        {
          "output_type": "display_data",
          "data": {
            "application/javascript": [
              "\n",
              "    async function download(id, filename, size) {\n",
              "      if (!google.colab.kernel.accessAllowed) {\n",
              "        return;\n",
              "      }\n",
              "      const div = document.createElement('div');\n",
              "      const label = document.createElement('label');\n",
              "      label.textContent = `Downloading \"${filename}\": `;\n",
              "      div.appendChild(label);\n",
              "      const progress = document.createElement('progress');\n",
              "      progress.max = size;\n",
              "      div.appendChild(progress);\n",
              "      document.body.appendChild(div);\n",
              "\n",
              "      const buffers = [];\n",
              "      let downloaded = 0;\n",
              "\n",
              "      const channel = await google.colab.kernel.comms.open(id);\n",
              "      // Send a message to notify the kernel that we're ready.\n",
              "      channel.send({})\n",
              "\n",
              "      for await (const message of channel.messages) {\n",
              "        // Send a message to notify the kernel that we're ready.\n",
              "        channel.send({})\n",
              "        if (message.buffers) {\n",
              "          for (const buffer of message.buffers) {\n",
              "            buffers.push(buffer);\n",
              "            downloaded += buffer.byteLength;\n",
              "            progress.value = downloaded;\n",
              "          }\n",
              "        }\n",
              "      }\n",
              "      const blob = new Blob(buffers, {type: 'application/binary'});\n",
              "      const a = document.createElement('a');\n",
              "      a.href = window.URL.createObjectURL(blob);\n",
              "      a.download = filename;\n",
              "      div.appendChild(a);\n",
              "      a.click();\n",
              "      div.remove();\n",
              "    }\n",
              "  "
            ],
            "text/plain": [
              "<IPython.core.display.Javascript object>"
            ]
          },
          "metadata": {
            "tags": []
          }
        },
        {
          "output_type": "display_data",
          "data": {
            "application/javascript": [
              "download(\"download_8b14c35a-a71c-4d7d-b1d4-1da44d7db42b\", \"generated_plot_e070.png\", 43617)"
            ],
            "text/plain": [
              "<IPython.core.display.Javascript object>"
            ]
          },
          "metadata": {
            "tags": []
          }
        },
        {
          "output_type": "display_data",
          "data": {
            "application/javascript": [
              "\n",
              "    async function download(id, filename, size) {\n",
              "      if (!google.colab.kernel.accessAllowed) {\n",
              "        return;\n",
              "      }\n",
              "      const div = document.createElement('div');\n",
              "      const label = document.createElement('label');\n",
              "      label.textContent = `Downloading \"${filename}\": `;\n",
              "      div.appendChild(label);\n",
              "      const progress = document.createElement('progress');\n",
              "      progress.max = size;\n",
              "      div.appendChild(progress);\n",
              "      document.body.appendChild(div);\n",
              "\n",
              "      const buffers = [];\n",
              "      let downloaded = 0;\n",
              "\n",
              "      const channel = await google.colab.kernel.comms.open(id);\n",
              "      // Send a message to notify the kernel that we're ready.\n",
              "      channel.send({})\n",
              "\n",
              "      for await (const message of channel.messages) {\n",
              "        // Send a message to notify the kernel that we're ready.\n",
              "        channel.send({})\n",
              "        if (message.buffers) {\n",
              "          for (const buffer of message.buffers) {\n",
              "            buffers.push(buffer);\n",
              "            downloaded += buffer.byteLength;\n",
              "            progress.value = downloaded;\n",
              "          }\n",
              "        }\n",
              "      }\n",
              "      const blob = new Blob(buffers, {type: 'application/binary'});\n",
              "      const a = document.createElement('a');\n",
              "      a.href = window.URL.createObjectURL(blob);\n",
              "      a.download = filename;\n",
              "      div.appendChild(a);\n",
              "      a.click();\n",
              "      div.remove();\n",
              "    }\n",
              "  "
            ],
            "text/plain": [
              "<IPython.core.display.Javascript object>"
            ]
          },
          "metadata": {
            "tags": []
          }
        },
        {
          "output_type": "display_data",
          "data": {
            "application/javascript": [
              "download(\"download_e100ec8b-9beb-4124-9056-09cae2a5519b\", \"generated_plot_e060.png\", 40760)"
            ],
            "text/plain": [
              "<IPython.core.display.Javascript object>"
            ]
          },
          "metadata": {
            "tags": []
          }
        },
        {
          "output_type": "display_data",
          "data": {
            "application/javascript": [
              "\n",
              "    async function download(id, filename, size) {\n",
              "      if (!google.colab.kernel.accessAllowed) {\n",
              "        return;\n",
              "      }\n",
              "      const div = document.createElement('div');\n",
              "      const label = document.createElement('label');\n",
              "      label.textContent = `Downloading \"${filename}\": `;\n",
              "      div.appendChild(label);\n",
              "      const progress = document.createElement('progress');\n",
              "      progress.max = size;\n",
              "      div.appendChild(progress);\n",
              "      document.body.appendChild(div);\n",
              "\n",
              "      const buffers = [];\n",
              "      let downloaded = 0;\n",
              "\n",
              "      const channel = await google.colab.kernel.comms.open(id);\n",
              "      // Send a message to notify the kernel that we're ready.\n",
              "      channel.send({})\n",
              "\n",
              "      for await (const message of channel.messages) {\n",
              "        // Send a message to notify the kernel that we're ready.\n",
              "        channel.send({})\n",
              "        if (message.buffers) {\n",
              "          for (const buffer of message.buffers) {\n",
              "            buffers.push(buffer);\n",
              "            downloaded += buffer.byteLength;\n",
              "            progress.value = downloaded;\n",
              "          }\n",
              "        }\n",
              "      }\n",
              "      const blob = new Blob(buffers, {type: 'application/binary'});\n",
              "      const a = document.createElement('a');\n",
              "      a.href = window.URL.createObjectURL(blob);\n",
              "      a.download = filename;\n",
              "      div.appendChild(a);\n",
              "      a.click();\n",
              "      div.remove();\n",
              "    }\n",
              "  "
            ],
            "text/plain": [
              "<IPython.core.display.Javascript object>"
            ]
          },
          "metadata": {
            "tags": []
          }
        },
        {
          "output_type": "display_data",
          "data": {
            "application/javascript": [
              "download(\"download_36ab4a2b-624f-4222-be08-8d795b28ab93\", \"generated_plot_e050.png\", 41011)"
            ],
            "text/plain": [
              "<IPython.core.display.Javascript object>"
            ]
          },
          "metadata": {
            "tags": []
          }
        },
        {
          "output_type": "display_data",
          "data": {
            "application/javascript": [
              "\n",
              "    async function download(id, filename, size) {\n",
              "      if (!google.colab.kernel.accessAllowed) {\n",
              "        return;\n",
              "      }\n",
              "      const div = document.createElement('div');\n",
              "      const label = document.createElement('label');\n",
              "      label.textContent = `Downloading \"${filename}\": `;\n",
              "      div.appendChild(label);\n",
              "      const progress = document.createElement('progress');\n",
              "      progress.max = size;\n",
              "      div.appendChild(progress);\n",
              "      document.body.appendChild(div);\n",
              "\n",
              "      const buffers = [];\n",
              "      let downloaded = 0;\n",
              "\n",
              "      const channel = await google.colab.kernel.comms.open(id);\n",
              "      // Send a message to notify the kernel that we're ready.\n",
              "      channel.send({})\n",
              "\n",
              "      for await (const message of channel.messages) {\n",
              "        // Send a message to notify the kernel that we're ready.\n",
              "        channel.send({})\n",
              "        if (message.buffers) {\n",
              "          for (const buffer of message.buffers) {\n",
              "            buffers.push(buffer);\n",
              "            downloaded += buffer.byteLength;\n",
              "            progress.value = downloaded;\n",
              "          }\n",
              "        }\n",
              "      }\n",
              "      const blob = new Blob(buffers, {type: 'application/binary'});\n",
              "      const a = document.createElement('a');\n",
              "      a.href = window.URL.createObjectURL(blob);\n",
              "      a.download = filename;\n",
              "      div.appendChild(a);\n",
              "      a.click();\n",
              "      div.remove();\n",
              "    }\n",
              "  "
            ],
            "text/plain": [
              "<IPython.core.display.Javascript object>"
            ]
          },
          "metadata": {
            "tags": []
          }
        },
        {
          "output_type": "display_data",
          "data": {
            "application/javascript": [
              "download(\"download_8eb858ee-cfe9-43b7-9278-762494345641\", \"generated_plot_e040.png\", 42993)"
            ],
            "text/plain": [
              "<IPython.core.display.Javascript object>"
            ]
          },
          "metadata": {
            "tags": []
          }
        },
        {
          "output_type": "display_data",
          "data": {
            "application/javascript": [
              "\n",
              "    async function download(id, filename, size) {\n",
              "      if (!google.colab.kernel.accessAllowed) {\n",
              "        return;\n",
              "      }\n",
              "      const div = document.createElement('div');\n",
              "      const label = document.createElement('label');\n",
              "      label.textContent = `Downloading \"${filename}\": `;\n",
              "      div.appendChild(label);\n",
              "      const progress = document.createElement('progress');\n",
              "      progress.max = size;\n",
              "      div.appendChild(progress);\n",
              "      document.body.appendChild(div);\n",
              "\n",
              "      const buffers = [];\n",
              "      let downloaded = 0;\n",
              "\n",
              "      const channel = await google.colab.kernel.comms.open(id);\n",
              "      // Send a message to notify the kernel that we're ready.\n",
              "      channel.send({})\n",
              "\n",
              "      for await (const message of channel.messages) {\n",
              "        // Send a message to notify the kernel that we're ready.\n",
              "        channel.send({})\n",
              "        if (message.buffers) {\n",
              "          for (const buffer of message.buffers) {\n",
              "            buffers.push(buffer);\n",
              "            downloaded += buffer.byteLength;\n",
              "            progress.value = downloaded;\n",
              "          }\n",
              "        }\n",
              "      }\n",
              "      const blob = new Blob(buffers, {type: 'application/binary'});\n",
              "      const a = document.createElement('a');\n",
              "      a.href = window.URL.createObjectURL(blob);\n",
              "      a.download = filename;\n",
              "      div.appendChild(a);\n",
              "      a.click();\n",
              "      div.remove();\n",
              "    }\n",
              "  "
            ],
            "text/plain": [
              "<IPython.core.display.Javascript object>"
            ]
          },
          "metadata": {
            "tags": []
          }
        },
        {
          "output_type": "display_data",
          "data": {
            "application/javascript": [
              "download(\"download_99d98d6b-86a6-403e-8641-14c74ab1a04f\", \"generated_plot_e030.png\", 43949)"
            ],
            "text/plain": [
              "<IPython.core.display.Javascript object>"
            ]
          },
          "metadata": {
            "tags": []
          }
        },
        {
          "output_type": "display_data",
          "data": {
            "application/javascript": [
              "\n",
              "    async function download(id, filename, size) {\n",
              "      if (!google.colab.kernel.accessAllowed) {\n",
              "        return;\n",
              "      }\n",
              "      const div = document.createElement('div');\n",
              "      const label = document.createElement('label');\n",
              "      label.textContent = `Downloading \"${filename}\": `;\n",
              "      div.appendChild(label);\n",
              "      const progress = document.createElement('progress');\n",
              "      progress.max = size;\n",
              "      div.appendChild(progress);\n",
              "      document.body.appendChild(div);\n",
              "\n",
              "      const buffers = [];\n",
              "      let downloaded = 0;\n",
              "\n",
              "      const channel = await google.colab.kernel.comms.open(id);\n",
              "      // Send a message to notify the kernel that we're ready.\n",
              "      channel.send({})\n",
              "\n",
              "      for await (const message of channel.messages) {\n",
              "        // Send a message to notify the kernel that we're ready.\n",
              "        channel.send({})\n",
              "        if (message.buffers) {\n",
              "          for (const buffer of message.buffers) {\n",
              "            buffers.push(buffer);\n",
              "            downloaded += buffer.byteLength;\n",
              "            progress.value = downloaded;\n",
              "          }\n",
              "        }\n",
              "      }\n",
              "      const blob = new Blob(buffers, {type: 'application/binary'});\n",
              "      const a = document.createElement('a');\n",
              "      a.href = window.URL.createObjectURL(blob);\n",
              "      a.download = filename;\n",
              "      div.appendChild(a);\n",
              "      a.click();\n",
              "      div.remove();\n",
              "    }\n",
              "  "
            ],
            "text/plain": [
              "<IPython.core.display.Javascript object>"
            ]
          },
          "metadata": {
            "tags": []
          }
        },
        {
          "output_type": "display_data",
          "data": {
            "application/javascript": [
              "download(\"download_46d2ba26-3cff-4087-a15d-a1047c232a12\", \"generated_plot_e020.png\", 43845)"
            ],
            "text/plain": [
              "<IPython.core.display.Javascript object>"
            ]
          },
          "metadata": {
            "tags": []
          }
        },
        {
          "output_type": "display_data",
          "data": {
            "application/javascript": [
              "\n",
              "    async function download(id, filename, size) {\n",
              "      if (!google.colab.kernel.accessAllowed) {\n",
              "        return;\n",
              "      }\n",
              "      const div = document.createElement('div');\n",
              "      const label = document.createElement('label');\n",
              "      label.textContent = `Downloading \"${filename}\": `;\n",
              "      div.appendChild(label);\n",
              "      const progress = document.createElement('progress');\n",
              "      progress.max = size;\n",
              "      div.appendChild(progress);\n",
              "      document.body.appendChild(div);\n",
              "\n",
              "      const buffers = [];\n",
              "      let downloaded = 0;\n",
              "\n",
              "      const channel = await google.colab.kernel.comms.open(id);\n",
              "      // Send a message to notify the kernel that we're ready.\n",
              "      channel.send({})\n",
              "\n",
              "      for await (const message of channel.messages) {\n",
              "        // Send a message to notify the kernel that we're ready.\n",
              "        channel.send({})\n",
              "        if (message.buffers) {\n",
              "          for (const buffer of message.buffers) {\n",
              "            buffers.push(buffer);\n",
              "            downloaded += buffer.byteLength;\n",
              "            progress.value = downloaded;\n",
              "          }\n",
              "        }\n",
              "      }\n",
              "      const blob = new Blob(buffers, {type: 'application/binary'});\n",
              "      const a = document.createElement('a');\n",
              "      a.href = window.URL.createObjectURL(blob);\n",
              "      a.download = filename;\n",
              "      div.appendChild(a);\n",
              "      a.click();\n",
              "      div.remove();\n",
              "    }\n",
              "  "
            ],
            "text/plain": [
              "<IPython.core.display.Javascript object>"
            ]
          },
          "metadata": {
            "tags": []
          }
        },
        {
          "output_type": "display_data",
          "data": {
            "application/javascript": [
              "download(\"download_21c7f0fc-bdfa-4768-9577-512ac427af34\", \"generated_plot_e010.png\", 45660)"
            ],
            "text/plain": [
              "<IPython.core.display.Javascript object>"
            ]
          },
          "metadata": {
            "tags": []
          }
        }
      ]
    },
    {
      "cell_type": "code",
      "metadata": {
        "id": "SykvCx1P40Kp"
      },
      "source": [
        ""
      ],
      "execution_count": null,
      "outputs": []
    }
  ]
}